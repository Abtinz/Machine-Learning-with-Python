{
 "cells": [
  {
   "cell_type": "code",
   "execution_count": 1,
   "id": "2c65e8ff",
   "metadata": {},
   "outputs": [],
   "source": [
    "import matplotlib.pyplot as plt\n",
    "%matplotlib inline \n",
    "import pylab as pl\n",
    "import numpy as np \n",
    "import pandas as pd"
   ]
  },
  {
   "cell_type": "code",
   "execution_count": 41,
   "id": "e0ba0407",
   "metadata": {},
   "outputs": [],
   "source": [
    "from sklearn import preprocessing \n",
    "from sklearn.model_selection import train_test_split\n",
    "from sklearn.preprocessing import LabelEncoder \n",
    "from sklearn.neighbors import KNeighborsClassifier \n",
    "from sklearn import metrics  \n",
    "from sklearn import svm \n",
    "from sklearn.metrics import jaccard_score  \n",
    "from sklearn.metrics import f1_score  \n",
    "from sklearn.linear_model import LogisticRegression\n",
    "from sklearn.metrics import classification_report \n",
    "from sklearn.metrics import classification_report, confusion_matrix \n",
    "from sklearn.tree import DecisionTreeClassifier\n",
    "import itertools"
   ]
  },
  {
   "cell_type": "markdown",
   "id": "e8b7f22d",
   "metadata": {},
   "source": [
    "# CSV-File"
   ]
  },
  {
   "cell_type": "code",
   "execution_count": 3,
   "id": "3c25d79c",
   "metadata": {},
   "outputs": [
    {
     "name": "stderr",
     "output_type": "stream",
     "text": [
      "C:\\Users\\ABTIN\\anaconda3\\lib\\site-packages\\IPython\\core\\interactiveshell.py:3444: FutureWarning: The error_bad_lines argument has been deprecated and will be removed in a future version.\n",
      "\n",
      "\n",
      "  exec(code_obj, self.user_global_ns, self.user_ns)\n",
      "b'Skipping line 347177: expected 3 fields, saw 4\\nSkipping line 403949: expected 3 fields, saw 4\\nSkipping line 404083: expected 3 fields, saw 4\\nSkipping line 404245: expected 3 fields, saw 4\\nSkipping line 404259: expected 3 fields, saw 4\\nSkipping line 404307: expected 3 fields, saw 4\\nSkipping line 404343: expected 3 fields, saw 4\\nSkipping line 404615: expected 3 fields, saw 4\\nSkipping line 404665: expected 3 fields, saw 4\\nSkipping line 405214: expected 3 fields, saw 4\\nSkipping line 405284: expected 3 fields, saw 4\\nSkipping line 420842: expected 3 fields, saw 4\\nSkipping line 420844: expected 3 fields, saw 4\\nSkipping line 423632: expected 3 fields, saw 4\\nSkipping line 458707: expected 3 fields, saw 4\\nSkipping line 458835: expected 3 fields, saw 4\\nSkipping line 458837: expected 3 fields, saw 4\\nSkipping line 458839: expected 3 fields, saw 4\\nSkipping line 459626: expected 3 fields, saw 4\\nSkipping line 459628: expected 3 fields, saw 4\\nSkipping line 490301: expected 3 fields, saw 4\\nSkipping line 569900: expected 3 fields, saw 4\\nSkipping line 624851: expected 3 fields, saw 4\\nSkipping line 638207: expected 3 fields, saw 4\\nSkipping line 639041: expected 3 fields, saw 4\\nSkipping line 640447: expected 3 fields, saw 4\\nSkipping line 661608: expected 3 fields, saw 4\\nSkipping line 661610: expected 3 fields, saw 4\\nSkipping line 661612: expected 3 fields, saw 4\\nSkipping line 943369: expected 3 fields, saw 4\\nSkipping line 943582: expected 3 fields, saw 4\\nSkipping line 1026475: expected 3 fields, saw 4\\nSkipping line 1445482: expected 3 fields, saw 4\\nSkipping line 1445485: expected 3 fields, saw 4\\nSkipping line 1445487: expected 3 fields, saw 4\\nSkipping line 1502333: expected 3 fields, saw 4\\nSkipping line 1537749: expected 3 fields, saw 4\\nSkipping line 1537751: expected 3 fields, saw 4\\nSkipping line 1606806: expected 3 fields, saw 4\\nSkipping line 1606809: expected 3 fields, saw 4\\nSkipping line 1606811: expected 3 fields, saw 4\\nSkipping line 1627670: expected 3 fields, saw 4\\nSkipping line 1672573: expected 3 fields, saw 4\\nSkipping line 1799776: expected 3 fields, saw 4\\nSkipping line 2123372: expected 3 fields, saw 4\\nSkipping line 2123373: expected 3 fields, saw 4\\nSkipping line 2127890: expected 3 fields, saw 4\\nSkipping line 2585955: expected 3 fields, saw 4\\n'\n"
     ]
    },
    {
     "name": "stdout",
     "output_type": "stream",
     "text": [
      "          ezafe_tag\n",
      "count  2.602488e+06\n",
      "mean   2.252375e-01\n",
      "std    4.177387e-01\n",
      "min    0.000000e+00\n",
      "25%    0.000000e+00\n",
      "50%    0.000000e+00\n",
      "75%    0.000000e+00\n",
      "max    1.000000e+00\n",
      "\n",
      "DataSet shape:(2602488, 3)\n"
     ]
    }
   ],
   "source": [
    "df = pd.read_csv(\"output.csv\",encoding = \"ISO-8859-1\",low_memory=False , error_bad_lines=False)\n",
    "print(df.describe())\n",
    "print(\"\\nDataSet shape:\"+str(df.shape))"
   ]
  },
  {
   "cell_type": "code",
   "execution_count": 4,
   "id": "5a62356c",
   "metadata": {},
   "outputs": [
    {
     "name": "stdout",
     "output_type": "stream",
     "text": [
      "\n",
      "DataSet shape (Nan Free):(2602488, 3)\n"
     ]
    }
   ],
   "source": [
    "#Remove Nan\n",
    "df = df[df.notna()]\n",
    "print(\"\\nDataSet shape (Nan Free):\"+str(df.shape))"
   ]
  },
  {
   "cell_type": "code",
   "execution_count": 5,
   "id": "4aca74c7",
   "metadata": {},
   "outputs": [
    {
     "name": "stdout",
     "output_type": "stream",
     "text": [
      "count    2.602488e+06\n",
      "mean     3.387220e+04\n",
      "std      2.376402e+04\n",
      "min      0.000000e+00\n",
      "25%      1.258800e+04\n",
      "50%      2.966200e+04\n",
      "75%      5.632900e+04\n",
      "max      7.679700e+04\n",
      "Name: token, dtype: float64\n"
     ]
    }
   ],
   "source": [
    "#LabelEncoder --> token labling \n",
    "label = LabelEncoder() \n",
    "df.token = label.fit_transform(df.token)\n",
    "print(df.token.describe())"
   ]
  },
  {
   "cell_type": "code",
   "execution_count": 6,
   "id": "5044cbc3",
   "metadata": {},
   "outputs": [
    {
     "name": "stdout",
     "output_type": "stream",
     "text": [
      "count    2.602488e+06\n",
      "mean     1.749804e+02\n",
      "std      1.234888e+02\n",
      "min      0.000000e+00\n",
      "25%      8.000000e+01\n",
      "50%      1.550000e+02\n",
      "75%      2.300000e+02\n",
      "max      5.490000e+02\n",
      "Name: pos_tag, dtype: float64\n"
     ]
    }
   ],
   "source": [
    "#LabelEncoder --> pos_tag labling \n",
    "label = LabelEncoder() \n",
    "df.pos_tag = label.fit_transform(df.pos_tag)\n",
    "print(df.pos_tag.describe())"
   ]
  },
  {
   "cell_type": "code",
   "execution_count": 7,
   "id": "3aa3bb68",
   "metadata": {},
   "outputs": [
    {
     "name": "stdout",
     "output_type": "stream",
     "text": [
      "count    2.602488e+06\n",
      "mean     2.252375e-01\n",
      "std      4.177387e-01\n",
      "min      0.000000e+00\n",
      "25%      0.000000e+00\n",
      "50%      0.000000e+00\n",
      "75%      0.000000e+00\n",
      "max      1.000000e+00\n",
      "Name: ezafe_tag, dtype: float64\n"
     ]
    }
   ],
   "source": [
    "print(df.ezafe_tag.describe())"
   ]
  },
  {
   "cell_type": "code",
   "execution_count": 8,
   "id": "fa33ad40",
   "metadata": {},
   "outputs": [
    {
     "name": "stdout",
     "output_type": "stream",
     "text": [
      "              token       pos_tag     ezafe_tag\n",
      "count  2.602488e+06  2.602488e+06  2.602488e+06\n",
      "mean   3.387220e+04  1.749804e+02  2.252375e-01\n",
      "std    2.376402e+04  1.234888e+02  4.177387e-01\n",
      "min    0.000000e+00  0.000000e+00  0.000000e+00\n",
      "25%    1.258800e+04  8.000000e+01  0.000000e+00\n",
      "50%    2.966200e+04  1.550000e+02  0.000000e+00\n",
      "75%    5.632900e+04  2.300000e+02  0.000000e+00\n",
      "max    7.679700e+04  5.490000e+02  1.000000e+00\n"
     ]
    }
   ],
   "source": [
    "print(df.describe())"
   ]
  },
  {
   "cell_type": "code",
   "execution_count": 9,
   "id": "30be8d8a",
   "metadata": {},
   "outputs": [
    {
     "name": "stdout",
     "output_type": "stream",
     "text": [
      "token :\n",
      " 64723    120557\n",
      "3815      94691\n",
      "28829     85716\n",
      "208       84003\n",
      "16927     68966\n",
      "          ...  \n",
      "61708         1\n",
      "47984         1\n",
      "56746         1\n",
      "46815         1\n",
      "13737         1\n",
      "Name: token, Length: 76798, dtype: int64\n",
      "pos_tag :\n",
      " 156    324139\n",
      "155    312673\n",
      "297    259674\n",
      "80     256441\n",
      "27     161068\n",
      "        ...  \n",
      "355         1\n",
      "456         1\n",
      "412         1\n",
      "336         1\n",
      "135         1\n",
      "Name: pos_tag, Length: 550, dtype: int64\n",
      "ezafe_tag :\n",
      " 0    2016310\n",
      "1     586178\n",
      "Name: ezafe_tag, dtype: int64\n",
      "\n",
      "Data Types:\n",
      " token        int32\n",
      "pos_tag      int32\n",
      "ezafe_tag    int64\n",
      "dtype: object\n"
     ]
    }
   ],
   "source": [
    "print('token :\\n',df['token'].value_counts())\n",
    "print('pos_tag :\\n',df['pos_tag'].value_counts())\n",
    "print('ezafe_tag :\\n',df['ezafe_tag'].value_counts())\n",
    "print('\\nData Types:\\n',df.dtypes)"
   ]
  },
  {
   "cell_type": "markdown",
   "id": "da0cb975",
   "metadata": {},
   "source": [
    "Seperate Inputs and Outputs"
   ]
  },
  {
   "cell_type": "code",
   "execution_count": 10,
   "id": "fb01e88e",
   "metadata": {},
   "outputs": [
    {
     "name": "stdout",
     "output_type": "stream",
     "text": [
      "[[<AxesSubplot:title={'center':'pos_tag'}>\n",
      "  <AxesSubplot:title={'center':'token'}>]]\n"
     ]
    },
    {
     "data": {
      "image/png": "[encoded data removed]",
      "text/plain": [
       "<Figure size 432x288 with 2 Axes>"
      ]
     },
     "metadata": {
      "needs_background": "light"
     },
     "output_type": "display_data"
    }
   ],
   "source": [
    "Inputs = df[{'token','pos_tag'}]\n",
    "print(Inputs.hist())"
   ]
  },
  {
   "cell_type": "code",
   "execution_count": 11,
   "id": "9df46605",
   "metadata": {},
   "outputs": [
    {
     "name": "stdout",
     "output_type": "stream",
     "text": [
      "Normalized Data:\n",
      " [[ 1.08527792 -1.41963405]\n",
      " [-0.76914196 -1.41727754]\n",
      " [ 0.324075    0.82165395]\n",
      " ...\n",
      " [-1.26311407  0.24489954]\n",
      " [ 2.55909634 -1.10079061]\n",
      " [-0.76914196 -1.41660426]]\n"
     ]
    }
   ],
   "source": [
    "#Normalize Data\n",
    "scaler = preprocessing.StandardScaler().fit(Inputs)\n",
    "Inputs = scaler.transform(Inputs.astype(float))\n",
    "print(\"Normalized Data:\\n\",Inputs)"
   ]
  },
  {
   "cell_type": "code",
   "execution_count": 12,
   "id": "5e041209",
   "metadata": {},
   "outputs": [
    {
     "name": "stdout",
     "output_type": "stream",
     "text": [
      "[[<AxesSubplot:title={'center':'ezafe_tag'}>]]\n"
     ]
    },
    {
     "data": {
      "image/png": "[encoded data removed]",
      "text/plain": [
       "<Figure size 432x288 with 1 Axes>"
      ]
     },
     "metadata": {
      "needs_background": "light"
     },
     "output_type": "display_data"
    }
   ],
   "source": [
    "Outputs = df[{'ezafe_tag'}]\n",
    "print(Outputs.hist())"
   ]
  },
  {
   "cell_type": "markdown",
   "id": "4d38a737",
   "metadata": {},
   "source": [
    "such a big data ! \n",
    "Lets divide ourr DataSet To 8 set for KNN (K=4) Algorithm"
   ]
  },
  {
   "cell_type": "markdown",
   "id": "2b4cdb78",
   "metadata": {},
   "source": [
    "# KNN-Classification"
   ]
  },
  {
   "cell_type": "markdown",
   "id": "c8090a77",
   "metadata": {},
   "source": [
    "First Train set Accuracy:  0.9993862108429691\n",
    "First Test set Accuracy:  0.99864\n",
    "\n",
    "Second Train set Accuracy:  0.9993510458391809\n",
    "Second Test set Accuracy:  0.99816\n",
    "\n",
    "Third Train set Accuracy:  0.9994213758467573\n",
    "Third Test set Accuracy:  0.99784\n",
    "\n",
    "Fourth Train set Accuracy:  0.9993606362947595\n",
    "Fourth Test set Accuracy:  0.9984\n",
    "\n",
    "Fifth Train set Accuracy:  0.9994853122172813\n",
    "Fifth Test set Accuracy:  0.998\n",
    "\n",
    "Sixth Train set Accuracy:  0.9994373599393883\n",
    "Sixth Test set Accuracy:  0.99808\n",
    "\n",
    "Seventh Train set Accuracy:  0.9993894076614953\n",
    "Seventh Test set Accuracy:  0.9976\n",
    "\n",
    "Eigth Train set Accuracy:  0.9993989981170739\n",
    "Eigth Test set Accuracy:  0.99792\n",
    "\n",
    "Test set Accuracy(Average): 0.99808"
   ]
  },
  {
   "cell_type": "code",
   "execution_count": 13,
   "id": "b5e30d29",
   "metadata": {},
   "outputs": [
    {
     "name": "stdout",
     "output_type": "stream",
     "text": [
      "First Train set: (312811, 2) (312811, 1)\n",
      "First Test set: (12500, 2) (12500, 1)\n"
     ]
    }
   ],
   "source": [
    "test_and_train = 0.0384247689\n",
    "X_train, X_test, y_train, y_test = train_test_split(Inputs[0:325311],Outputs[0:325311], test_size=test_and_train, random_state=4)\n",
    "print ('First Train set:', X_train.shape,  y_train.shape)\n",
    "print ('First Test set:', X_test.shape,  y_test.shape)"
   ]
  },
  {
   "cell_type": "code",
   "execution_count": 14,
   "id": "764605cf",
   "metadata": {},
   "outputs": [
    {
     "name": "stderr",
     "output_type": "stream",
     "text": [
      "C:\\Users\\ABTIN\\anaconda3\\lib\\site-packages\\sklearn\\neighbors\\_classification.py:179: DataConversionWarning: A column-vector y was passed when a 1d array was expected. Please change the shape of y to (n_samples,), for example using ravel().\n",
      "  return self._fit(X, y)\n"
     ]
    },
    {
     "name": "stdout",
     "output_type": "stream",
     "text": [
      "First Train set Accuracy:  0.9993862108429691\n",
      "First Test set Accuracy:  0.99864\n"
     ]
    }
   ],
   "source": [
    "neighbours = KNeighborsClassifier(n_neighbors = 2).fit(X_train,y_train)\n",
    "yhat = neighbours.predict(X_test)\n",
    "print(\"First Train set Accuracy: \", metrics.accuracy_score(y_train, neighbours.predict(X_train)))\n",
    "print(\"First Test set Accuracy: \", metrics.accuracy_score(y_test, yhat))"
   ]
  },
  {
   "cell_type": "code",
   "execution_count": 39,
   "id": "ceea060e",
   "metadata": {},
   "outputs": [
    {
     "name": "stdout",
     "output_type": "stream",
     "text": [
      "Second Train set: (312811, 2) (312811, 1)\n",
      "Second Test set: (12500, 2) (12500, 1)\n"
     ]
    }
   ],
   "source": [
    "X_train, X_test, y_train, y_test = train_test_split(Inputs[325311:650622],Outputs[325311:650622], test_size=test_and_train, random_state=4)\n",
    "print ('Second Train set:', X_train.shape,  y_train.shape)\n",
    "print ('Second Test set:', X_test.shape,  y_test.shape)"
   ]
  },
  {
   "cell_type": "code",
   "execution_count": 40,
   "id": "c25f274e",
   "metadata": {},
   "outputs": [
    {
     "name": "stderr",
     "output_type": "stream",
     "text": [
      "C:\\Users\\ABTIN\\anaconda3\\lib\\site-packages\\sklearn\\neighbors\\_classification.py:179: DataConversionWarning: A column-vector y was passed when a 1d array was expected. Please change the shape of y to (n_samples,), for example using ravel().\n",
      "  return self._fit(X, y)\n"
     ]
    },
    {
     "name": "stdout",
     "output_type": "stream",
     "text": [
      "Second Train set Accuracy:  0.9993510458391809\n",
      "Second Test set Accuracy:  0.99816\n"
     ]
    }
   ],
   "source": [
    "neighbours = KNeighborsClassifier(n_neighbors = 2).fit(X_train,y_train)\n",
    "yhat = neighbours.predict(X_test)\n",
    "print(\"Second Train set Accuracy: \", metrics.accuracy_score(y_train, neighbours.predict(X_train)))\n",
    "print(\"Second Test set Accuracy: \", metrics.accuracy_score(y_test, yhat))"
   ]
  },
  {
   "cell_type": "code",
   "execution_count": 41,
   "id": "44fd005e",
   "metadata": {},
   "outputs": [
    {
     "name": "stdout",
     "output_type": "stream",
     "text": [
      "Third Train set: (312811, 2) (312811, 1)\n",
      "Third Test set: (12500, 2) (12500, 1)\n"
     ]
    }
   ],
   "source": [
    "X_train, X_test, y_train, y_test = train_test_split(Inputs[650622:975933],Outputs[650622:975933], test_size=test_and_train, random_state=4)\n",
    "print ('Third Train set:', X_train.shape,  y_train.shape)\n",
    "print ('Third Test set:', X_test.shape,  y_test.shape)"
   ]
  },
  {
   "cell_type": "code",
   "execution_count": 42,
   "id": "50057614",
   "metadata": {},
   "outputs": [
    {
     "name": "stderr",
     "output_type": "stream",
     "text": [
      "C:\\Users\\ABTIN\\anaconda3\\lib\\site-packages\\sklearn\\neighbors\\_classification.py:179: DataConversionWarning: A column-vector y was passed when a 1d array was expected. Please change the shape of y to (n_samples,), for example using ravel().\n",
      "  return self._fit(X, y)\n"
     ]
    },
    {
     "name": "stdout",
     "output_type": "stream",
     "text": [
      "Third Train set Accuracy:  0.9994213758467573\n",
      "Third Test set Accuracy:  0.99784\n"
     ]
    }
   ],
   "source": [
    "neighbours = KNeighborsClassifier(n_neighbors = 2).fit(X_train,y_train)\n",
    "yhat = neighbours.predict(X_test)\n",
    "print(\"Third Train set Accuracy: \", metrics.accuracy_score(y_train, neighbours.predict(X_train)))\n",
    "print(\"Third Test set Accuracy: \", metrics.accuracy_score(y_test, yhat))"
   ]
  },
  {
   "cell_type": "code",
   "execution_count": 43,
   "id": "a6414404",
   "metadata": {},
   "outputs": [
    {
     "name": "stdout",
     "output_type": "stream",
     "text": [
      "Fourth Train set: (312811, 2) (312811, 1)\n",
      "Fourth Test set: (12500, 2) (12500, 1)\n"
     ]
    }
   ],
   "source": [
    "X_train, X_test, y_train, y_test = train_test_split(Inputs[975933:1301244],Outputs[975933:1301244], test_size=test_and_train, random_state=4)\n",
    "print ('Fourth Train set:', X_train.shape,  y_train.shape)\n",
    "print ('Fourth Test set:', X_test.shape,  y_test.shape)"
   ]
  },
  {
   "cell_type": "code",
   "execution_count": 44,
   "id": "6838d956",
   "metadata": {},
   "outputs": [
    {
     "name": "stderr",
     "output_type": "stream",
     "text": [
      "C:\\Users\\ABTIN\\anaconda3\\lib\\site-packages\\sklearn\\neighbors\\_classification.py:179: DataConversionWarning: A column-vector y was passed when a 1d array was expected. Please change the shape of y to (n_samples,), for example using ravel().\n",
      "  return self._fit(X, y)\n"
     ]
    },
    {
     "name": "stdout",
     "output_type": "stream",
     "text": [
      "Fourth Train set Accuracy:  0.9993606362947595\n",
      "Fourth Test set Accuracy:  0.9984\n"
     ]
    }
   ],
   "source": [
    "neighbours = KNeighborsClassifier(n_neighbors = 2).fit(X_train,y_train)\n",
    "yhat = neighbours.predict(X_test)\n",
    "print(\"Fourth Train set Accuracy: \", metrics.accuracy_score(y_train, neighbours.predict(X_train)))\n",
    "print(\"Fourth Test set Accuracy: \", metrics.accuracy_score(y_test, yhat))"
   ]
  },
  {
   "cell_type": "code",
   "execution_count": 45,
   "id": "0a12b6d3",
   "metadata": {},
   "outputs": [
    {
     "name": "stdout",
     "output_type": "stream",
     "text": [
      "Fifth Train set: (312811, 2) (312811, 1)\n",
      "Fifth Test set: (12500, 2) (12500, 1)\n"
     ]
    }
   ],
   "source": [
    "X_train, X_test, y_train, y_test = train_test_split(Inputs[1301244:1626555],Outputs[1301244:1626555], test_size=test_and_train, random_state=4)\n",
    "print ('Fifth Train set:', X_train.shape,  y_train.shape)\n",
    "print ('Fifth Test set:', X_test.shape,  y_test.shape)"
   ]
  },
  {
   "cell_type": "code",
   "execution_count": 46,
   "id": "0533a312",
   "metadata": {},
   "outputs": [
    {
     "name": "stderr",
     "output_type": "stream",
     "text": [
      "C:\\Users\\ABTIN\\anaconda3\\lib\\site-packages\\sklearn\\neighbors\\_classification.py:179: DataConversionWarning: A column-vector y was passed when a 1d array was expected. Please change the shape of y to (n_samples,), for example using ravel().\n",
      "  return self._fit(X, y)\n"
     ]
    },
    {
     "name": "stdout",
     "output_type": "stream",
     "text": [
      "Fifth Train set Accuracy:  0.9994853122172813\n",
      "Fifth Test set Accuracy:  0.998\n"
     ]
    }
   ],
   "source": [
    "neighbours = KNeighborsClassifier(n_neighbors = 2).fit(X_train,y_train)\n",
    "yhat = neighbours.predict(X_test)\n",
    "print(\"Fifth Train set Accuracy: \", metrics.accuracy_score(y_train, neighbours.predict(X_train)))\n",
    "print(\"Fifth Test set Accuracy: \", metrics.accuracy_score(y_test, yhat))"
   ]
  },
  {
   "cell_type": "code",
   "execution_count": 15,
   "id": "aa56983c",
   "metadata": {},
   "outputs": [
    {
     "name": "stdout",
     "output_type": "stream",
     "text": [
      "Sixth Train set: (312811, 2) (312811, 1)\n",
      "Sixth Test set: (12500, 2) (12500, 1)\n"
     ]
    }
   ],
   "source": [
    "X_train, X_test, y_train, y_test = train_test_split(Inputs[1626555:1951866],Outputs[1626555:1951866], test_size=test_and_train, random_state=4)\n",
    "print ('Sixth Train set:', X_train.shape,  y_train.shape)\n",
    "print ('Sixth Test set:', X_test.shape,  y_test.shape)"
   ]
  },
  {
   "cell_type": "code",
   "execution_count": 16,
   "id": "74c3f778",
   "metadata": {},
   "outputs": [
    {
     "name": "stderr",
     "output_type": "stream",
     "text": [
      "C:\\Users\\ABTIN\\anaconda3\\lib\\site-packages\\sklearn\\neighbors\\_classification.py:179: DataConversionWarning: A column-vector y was passed when a 1d array was expected. Please change the shape of y to (n_samples,), for example using ravel().\n",
      "  return self._fit(X, y)\n"
     ]
    },
    {
     "name": "stdout",
     "output_type": "stream",
     "text": [
      "Sixth Train set Accuracy:  0.9994373599393883\n",
      "Sixth Test set Accuracy:  0.99808\n"
     ]
    }
   ],
   "source": [
    "neighbours = KNeighborsClassifier(n_neighbors = 2).fit(X_train,y_train)\n",
    "yhat = neighbours.predict(X_test)\n",
    "print(\"Sixth Train set Accuracy: \", metrics.accuracy_score(y_train, neighbours.predict(X_train)))\n",
    "print(\"Sixth Test set Accuracy: \", metrics.accuracy_score(y_test, yhat))"
   ]
  },
  {
   "cell_type": "code",
   "execution_count": 17,
   "id": "f85772b0",
   "metadata": {},
   "outputs": [
    {
     "name": "stdout",
     "output_type": "stream",
     "text": [
      "Seventh Train set: (312811, 2) (312811, 1)\n",
      "Seventh Test set: (12500, 2) (12500, 1)\n"
     ]
    }
   ],
   "source": [
    "X_train, X_test, y_train, y_test = train_test_split(Inputs[1951866:2277177],Outputs[1951866:2277177], test_size=test_and_train, random_state=4)\n",
    "print ('Seventh Train set:', X_train.shape,  y_train.shape)\n",
    "print ('Seventh Test set:', X_test.shape,  y_test.shape)"
   ]
  },
  {
   "cell_type": "code",
   "execution_count": 18,
   "id": "207e04d9",
   "metadata": {},
   "outputs": [
    {
     "name": "stderr",
     "output_type": "stream",
     "text": [
      "C:\\Users\\ABTIN\\anaconda3\\lib\\site-packages\\sklearn\\neighbors\\_classification.py:179: DataConversionWarning: A column-vector y was passed when a 1d array was expected. Please change the shape of y to (n_samples,), for example using ravel().\n",
      "  return self._fit(X, y)\n"
     ]
    },
    {
     "name": "stdout",
     "output_type": "stream",
     "text": [
      "Seventh Train set Accuracy:  0.9993894076614953\n",
      "Seventh Test set Accuracy:  0.9976\n"
     ]
    }
   ],
   "source": [
    "neighbours = KNeighborsClassifier(n_neighbors = 2).fit(X_train,y_train)\n",
    "yhat = neighbours.predict(X_test)\n",
    "print(\"Seventh Train set Accuracy: \", metrics.accuracy_score(y_train, neighbours.predict(X_train)))\n",
    "print(\"Seventh Test set Accuracy: \", metrics.accuracy_score(y_test, yhat))"
   ]
  },
  {
   "cell_type": "code",
   "execution_count": 19,
   "id": "24ae194b",
   "metadata": {},
   "outputs": [
    {
     "name": "stdout",
     "output_type": "stream",
     "text": [
      "Eigth Train set: (312811, 2) (312811, 1)\n",
      "Eigth Test set: (12500, 2) (12500, 1)\n"
     ]
    }
   ],
   "source": [
    "X_train, X_test, y_train, y_test = train_test_split(Inputs[2277177:2602488],Outputs[2277177:2602488], test_size=test_and_train, random_state=4)\n",
    "print ('Eigth Train set:', X_train.shape,  y_train.shape)\n",
    "print ('Eigth Test set:', X_test.shape,  y_test.shape)"
   ]
  },
  {
   "cell_type": "code",
   "execution_count": 20,
   "id": "1b925580",
   "metadata": {},
   "outputs": [
    {
     "name": "stderr",
     "output_type": "stream",
     "text": [
      "C:\\Users\\ABTIN\\anaconda3\\lib\\site-packages\\sklearn\\neighbors\\_classification.py:179: DataConversionWarning: A column-vector y was passed when a 1d array was expected. Please change the shape of y to (n_samples,), for example using ravel().\n",
      "  return self._fit(X, y)\n"
     ]
    },
    {
     "name": "stdout",
     "output_type": "stream",
     "text": [
      "Eigth Train set Accuracy:  0.9993989981170739\n",
      "Eigth Test set Accuracy:  0.99792\n"
     ]
    }
   ],
   "source": [
    "neighbours = KNeighborsClassifier(n_neighbors = 2).fit(X_train,y_train)\n",
    "yhat = neighbours.predict(X_test)\n",
    "print(\"Eigth Train set Accuracy: \", metrics.accuracy_score(y_train, neighbours.predict(X_train)))\n",
    "print(\"Eigth Test set Accuracy: \", metrics.accuracy_score(y_test, yhat))"
   ]
  },
  {
   "cell_type": "markdown",
   "id": "f0beaddf",
   "metadata": {},
   "source": [
    "# Logistic-Regression-Classification"
   ]
  },
  {
   "cell_type": "markdown",
   "id": "6f88d62c",
   "metadata": {},
   "source": [
    "jaccard index: 0.7727\n",
    "f1_score: 0.6736224854741356"
   ]
  },
  {
   "cell_type": "code",
   "execution_count": 28,
   "id": "3333a3ee",
   "metadata": {},
   "outputs": [],
   "source": [
    "def LogeseticRegConfusionMatrix(cm, classes,normalize=False,title='Confusion matrix',cmap=plt.cm.Blues):\n",
    "    if normalize:\n",
    "        cm = cm.astype('float') / cm.sum(axis=1)[:, np.newaxis]\n",
    "        print(\"Normalized confusion matrix\")\n",
    "    else:\n",
    "        print('Confusion matrix, without normalization')\n",
    "\n",
    "    print(cm)\n",
    "\n",
    "    plt.imshow(cm, interpolation='nearest', cmap=cmap)\n",
    "    plt.title(title)\n",
    "    plt.colorbar()\n",
    "    tick_marks = np.arange(len(classes))\n",
    "    plt.xticks(tick_marks, classes, rotation=45)\n",
    "    plt.yticks(tick_marks, classes)\n",
    "\n",
    "    fmt = '.2f' if normalize else 'd'\n",
    "    thresh = cm.max() / 2.\n",
    "    for i, j in itertools.product(range(cm.shape[0]), range(cm.shape[1])):\n",
    "        plt.text(j, i, format(cm[i, j], fmt),\n",
    "                 horizontalalignment=\"center\",\n",
    "                 color=\"white\" if cm[i, j] > thresh else \"black\")\n",
    "\n",
    "    plt.tight_layout()\n",
    "    plt.ylabel('True label')\n",
    "    plt.xlabel('Predicted label')"
   ]
  },
  {
   "cell_type": "code",
   "execution_count": 35,
   "id": "267181a3",
   "metadata": {},
   "outputs": [
    {
     "name": "stderr",
     "output_type": "stream",
     "text": [
      "C:\\Users\\ABTIN\\anaconda3\\lib\\site-packages\\sklearn\\utils\\validation.py:63: DataConversionWarning: A column-vector y was passed when a 1d array was expected. Please change the shape of y to (n_samples, ), for example using ravel().\n",
      "  return f(*args, **kwargs)\n",
      "C:\\Users\\ABTIN\\anaconda3\\lib\\site-packages\\sklearn\\metrics\\_classification.py:1248: UndefinedMetricWarning: Precision and F-score are ill-defined and being set to 0.0 in labels with no predicted samples. Use `zero_division` parameter to control this behavior.\n",
      "  _warn_prf(average, modifier, msg_start, len(result))\n",
      "C:\\Users\\ABTIN\\anaconda3\\lib\\site-packages\\sklearn\\metrics\\_classification.py:1248: UndefinedMetricWarning: Precision and F-score are ill-defined and being set to 0.0 in labels with no predicted samples. Use `zero_division` parameter to control this behavior.\n",
      "  _warn_prf(average, modifier, msg_start, len(result))\n",
      "C:\\Users\\ABTIN\\anaconda3\\lib\\site-packages\\sklearn\\metrics\\_classification.py:1248: UndefinedMetricWarning: Precision and F-score are ill-defined and being set to 0.0 in labels with no predicted samples. Use `zero_division` parameter to control this behavior.\n",
      "  _warn_prf(average, modifier, msg_start, len(result))\n"
     ]
    },
    {
     "name": "stdout",
     "output_type": "stream",
     "text": [
      "              precision    recall  f1-score   support\n",
      "\n",
      "           0       0.77      1.00      0.87     77270\n",
      "           1       0.00      0.00      0.00     22730\n",
      "\n",
      "    accuracy                           0.77    100000\n",
      "   macro avg       0.39      0.50      0.44    100000\n",
      "weighted avg       0.60      0.77      0.67    100000\n",
      "\n",
      "jaccard index: 0.7727\n",
      "f1_score: 0.6736224854741356\n"
     ]
    }
   ],
   "source": [
    "X_train, X_test, y_train, y_test = train_test_split(Inputs,Outputs, test_size=test_and_train, random_state=4)\n",
    "LogesticReg = LogisticRegression(solver='liblinear').fit(X_train,y_train)  \n",
    "yhat = LogesticReg.predict(X_test)\n",
    "print (classification_report(y_test, yhat))\n",
    "print(\"jaccard index:\",jaccard_score(y_test, yhat,pos_label=0))\n",
    "print(\"f1_score:\",f1_score(y_test, yhat, average='weighted'))"
   ]
  },
  {
   "cell_type": "code",
   "execution_count": 37,
   "id": "e20a0b33",
   "metadata": {},
   "outputs": [
    {
     "name": "stdout",
     "output_type": "stream",
     "text": [
      "Confusion matrix, without normalization\n",
      "[[    0 22730]\n",
      " [    0 77270]]\n"
     ]
    },
    {
     "data": {
      "image/png": "[encoded data removed]",
      "text/plain": [
       "<Figure size 432x288 with 2 Axes>"
      ]
     },
     "metadata": {
      "needs_background": "light"
     },
     "output_type": "display_data"
    }
   ],
   "source": [
    "cnf_matrix = confusion_matrix(y_test, yhat, labels=[1,0])\n",
    "np.set_printoptions(precision=2)\n",
    "plt.figure()\n",
    "LogeseticRegConfusionMatrix(cnf_matrix, classes=['Unacute =1',' acute = 0'],normalize= False,  title='LogeseticReg Confusion matrix')"
   ]
  },
  {
   "cell_type": "markdown",
   "id": "d98b66ba",
   "metadata": {},
   "source": [
    "# Decision-Trees-Classification"
   ]
  },
  {
   "cell_type": "markdown",
   "id": "eb817397",
   "metadata": {},
   "source": [
    "DecisionTrees's Accuracy:  0.96487"
   ]
  },
  {
   "cell_type": "code",
   "execution_count": 39,
   "id": "c350c2a1",
   "metadata": {},
   "outputs": [],
   "source": [
    "X_train, X_test, y_train, y_test = train_test_split(Inputs,Outputs, test_size=test_and_train, random_state=4)"
   ]
  },
  {
   "cell_type": "code",
   "execution_count": 43,
   "id": "29edd529",
   "metadata": {},
   "outputs": [
    {
     "name": "stdout",
     "output_type": "stream",
     "text": [
      "Results: \n",
      "          ezafe_tag\n",
      "414789           0\n",
      "1922355          0\n",
      "944440           0\n",
      "2470910          0\n",
      "1312855          0\n",
      "812932           0\n",
      "2592120          0\n",
      "1642939          1\n",
      "1702             0\n",
      "2384022          0\n",
      "893713           0\n",
      "999450           1\n",
      "1836698          0\n",
      "374997           0\n",
      "1367029          0\n",
      "940306           0\n",
      "20134            0\n",
      "127880           0\n",
      "476634           0\n",
      "1257420          0\n",
      "DecisionTrees's Accuracy:  0.96487\n"
     ]
    }
   ],
   "source": [
    "drugTree = DecisionTreeClassifier(criterion=\"entropy\", max_depth = 4)\n",
    "drugTree.fit(X_train,y_train)\n",
    "predictTree = drugTree.predict(X_test)\n",
    "print(\"Results: \\n\",y_test[0:20])\n",
    "print(\"DecisionTrees's Accuracy: \", metrics.accuracy_score(y_test, predictTree))"
   ]
  }
 ],
 "metadata": {
  "kernelspec": {
   "display_name": "Python 3 (ipykernel)",
   "language": "python",
   "name": "python3"
  },
  "language_info": {
   "codemirror_mode": {
    "name": "ipython",
    "version": 3
   },
   "file_extension": ".py",
   "mimetype": "text/x-python",
   "name": "python",
   "nbconvert_exporter": "python",
   "pygments_lexer": "ipython3",
   "version": "3.9.7"
  }
 },
 "nbformat": 4,
 "nbformat_minor": 5
}
