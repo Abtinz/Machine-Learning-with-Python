{
 "cells": [
  {
   "cell_type": "code",
   "execution_count": 1,
   "id": "8ba0fc76",
   "metadata": {},
   "outputs": [],
   "source": [
    "from sklearn.svm import SVC\n",
    "import numpy as np\n",
    "import matplotlib.pyplot as plt"
   ]
  },
  {
   "cell_type": "code",
   "execution_count": 19,
   "id": "0644351c",
   "metadata": {},
   "outputs": [],
   "source": [
    "x = np.array([[0,0],[1,1],[2,2],[-1,-5],[1,0.5],[10,20],[-1,4],[4,-5]])\n",
    "y = np.array([-1,1,1,-1,1,1,-1,-1])"
   ]
  },
  {
   "cell_type": "code",
   "execution_count": 20,
   "id": "3dc95c53",
   "metadata": {},
   "outputs": [],
   "source": [
    "model = SVC()"
   ]
  },
  {
   "cell_type": "code",
   "execution_count": 21,
   "id": "03a16910",
   "metadata": {},
   "outputs": [],
   "source": [
    "%%capture\n",
    "model.fit(x,y)"
   ]
  },
  {
   "cell_type": "code",
   "execution_count": 22,
   "id": "2272c203",
   "metadata": {},
   "outputs": [],
   "source": [
    "test_array = np.array([[-1,-2],[20,11],[1,-2],[-3,6]])"
   ]
  },
  {
   "cell_type": "code",
   "execution_count": 23,
   "id": "4f109359",
   "metadata": {},
   "outputs": [
    {
     "data": {
      "text/plain": [
       "array([-1,  1, -1,  1])"
      ]
     },
     "execution_count": 23,
     "metadata": {},
     "output_type": "execute_result"
    }
   ],
   "source": [
    "ypredict = model.predict(test_array)\n",
    "ypredict"
   ]
  },
  {
   "cell_type": "code",
   "execution_count": 25,
   "id": "109c2c9f",
   "metadata": {},
   "outputs": [
    {
     "name": "stdout",
     "output_type": "stream",
     "text": [
      "support vectors:  [[ 0.   0. ]\n",
      " [-1.  -5. ]\n",
      " [-1.   4. ]\n",
      " [ 4.  -5. ]\n",
      " [ 1.   1. ]\n",
      " [ 2.   2. ]\n",
      " [ 1.   0.5]\n",
      " [10.  20. ]]\n",
      "support vectors count:  [4 4]\n",
      "support vectors index:  [0 3 6 7 1 2 4 5]\n"
     ]
    }
   ],
   "source": [
    "print(\"support vectors: \",model.support_vectors_)\n",
    "print(\"support vectors count: \",model.n_support_)\n",
    "print(\"support vectors index: \",model.support_)"
   ]
  }
 ],
 "metadata": {
  "kernelspec": {
   "display_name": "Python 3 (ipykernel)",
   "language": "python",
   "name": "python3"
  },
  "language_info": {
   "codemirror_mode": {
    "name": "ipython",
    "version": 3
   },
   "file_extension": ".py",
   "mimetype": "text/x-python",
   "name": "python",
   "nbconvert_exporter": "python",
   "pygments_lexer": "ipython3",
   "version": "3.9.7"
  }
 },
 "nbformat": 4,
 "nbformat_minor": 5
}
