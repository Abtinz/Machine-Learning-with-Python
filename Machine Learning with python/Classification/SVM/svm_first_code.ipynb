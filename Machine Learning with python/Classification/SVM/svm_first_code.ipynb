{
 "cells": [
  {
   "cell_type": "code",
   "execution_count": 1,
   "id": "9c0fdfaf",
   "metadata": {},
   "outputs": [],
   "source": [
    "from sklearn.svm import SVC\n",
    "import numpy as np\n",
    "import matplotlib.pyplot as plt"
   ]
  },
  {
   "cell_type": "code",
   "execution_count": 19,
   "id": "8d6b4c17",
   "metadata": {},
   "outputs": [],
   "source": [
    "x = np.array([[0,0],[1,1],[2,2],[-1,-5],[1,0.5],[10,20],[-1,4],[4,-5]])\n",
    "y = np.array([-1,1,1,-1,1,1,-1,-1])"
   ]
  },
  {
   "cell_type": "code",
   "execution_count": 20,
   "id": "8a8f6e53",
   "metadata": {},
   "outputs": [],
   "source": [
    "model = SVC()"
   ]
  },
  {
   "cell_type": "code",
   "execution_count": 21,
   "id": "f16ecd32",
   "metadata": {},
   "outputs": [],
   "source": [
    "%%capture\n",
    "model.fit(x,y)"
   ]
  },
  {
   "cell_type": "code",
   "execution_count": 22,
   "id": "8cc013ae",
   "metadata": {},
   "outputs": [],
   "source": [
    "test_array = np.array([[-1,-2],[20,11],[1,-2],[-3,6]])"
   ]
  },
  {
   "cell_type": "code",
   "execution_count": 23,
   "id": "73616e3f",
   "metadata": {},
   "outputs": [
    {
     "data": {
      "text/plain": [
       "array([-1,  1, -1,  1])"
      ]
     },
     "execution_count": 23,
     "metadata": {},
     "output_type": "execute_result"
    }
   ],
   "source": [
    "ypredict = model.predict(test_array)\n",
    "ypredict"
   ]
  },
  {
   "cell_type": "code",
   "execution_count": null,
   "id": "af39f5b7",
   "metadata": {},
   "outputs": [],
   "source": []
  }
 ],
 "metadata": {
  "kernelspec": {
   "display_name": "Python 3 (ipykernel)",
   "language": "python",
   "name": "python3"
  },
  "language_info": {
   "codemirror_mode": {
    "name": "ipython",
    "version": 3
   },
   "file_extension": ".py",
   "mimetype": "text/x-python",
   "name": "python",
   "nbconvert_exporter": "python",
   "pygments_lexer": "ipython3",
   "version": "3.9.7"
  }
 },
 "nbformat": 4,
 "nbformat_minor": 5
}
