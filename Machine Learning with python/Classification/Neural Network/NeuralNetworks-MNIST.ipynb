{
 "cells": [
  {
   "cell_type": "code",
   "execution_count": 1,
   "id": "d4f97501",
   "metadata": {},
   "outputs": [],
   "source": [
    "import matplotlib.pyplot as plt\n",
    "from sklearn.neural_network import MLPClassifier"
   ]
  },
  {
   "cell_type": "code",
   "execution_count": 2,
   "id": "a58c55e8",
   "metadata": {},
   "outputs": [],
   "source": [
    "from sklearn.datasets import fetch_openml"
   ]
  },
  {
   "cell_type": "code",
   "execution_count": 6,
   "id": "ee154720",
   "metadata": {},
   "outputs": [],
   "source": [
    "x,y = fetch_openml('mnist_784' , version = 1 , return_X_y = True)"
   ]
  },
  {
   "cell_type": "code",
   "execution_count": 7,
   "id": "62b8820c",
   "metadata": {},
   "outputs": [],
   "source": [
    "x = x/255."
   ]
  },
  {
   "cell_type": "code",
   "execution_count": 9,
   "id": "7e68227e",
   "metadata": {},
   "outputs": [],
   "source": [
    "from sklearn.model_selection import train_test_split"
   ]
  },
  {
   "cell_type": "code",
   "execution_count": 20,
   "id": "16ac7928",
   "metadata": {},
   "outputs": [],
   "source": [
    "xtrain , xtest , ytrain , ytest = train_test_split(x,y,test_size = 0.80)"
   ]
  },
  {
   "cell_type": "code",
   "execution_count": 21,
   "id": "3a06d1d5",
   "metadata": {},
   "outputs": [],
   "source": [
    "model = MLPClassifier(hidden_layer_sizes = (50,) ,max_iter=100 , alpha = 1e-4 , solver = 'sgd',verbose = True,learning_rate_init = .1 ,tol = 1e-4)"
   ]
  },
  {
   "cell_type": "code",
   "execution_count": 22,
   "id": "5d07b3fa",
   "metadata": {},
   "outputs": [
    {
     "name": "stdout",
     "output_type": "stream",
     "text": [
      "Iteration 1, loss = 0.57195454\n",
      "Iteration 2, loss = 0.25582693\n",
      "Iteration 3, loss = 0.19826801\n",
      "Iteration 4, loss = 0.15869609\n",
      "Iteration 5, loss = 0.13399289\n",
      "Iteration 6, loss = 0.11210706\n",
      "Iteration 7, loss = 0.09615932\n",
      "Iteration 8, loss = 0.08431802\n",
      "Iteration 9, loss = 0.07244444\n",
      "Iteration 10, loss = 0.06194262\n",
      "Iteration 11, loss = 0.05238047\n",
      "Iteration 12, loss = 0.04552368\n",
      "Iteration 13, loss = 0.03965502\n",
      "Iteration 14, loss = 0.03325981\n",
      "Iteration 15, loss = 0.02811321\n",
      "Iteration 16, loss = 0.02471928\n",
      "Iteration 17, loss = 0.02052480\n",
      "Iteration 18, loss = 0.01778011\n",
      "Iteration 19, loss = 0.01612136\n",
      "Iteration 20, loss = 0.01400165\n",
      "Iteration 21, loss = 0.01160724\n",
      "Iteration 22, loss = 0.01034942\n",
      "Iteration 23, loss = 0.00901949\n",
      "Iteration 24, loss = 0.00829399\n",
      "Iteration 25, loss = 0.00737940\n",
      "Iteration 26, loss = 0.00667977\n",
      "Iteration 27, loss = 0.00634033\n",
      "Iteration 28, loss = 0.00588999\n",
      "Iteration 29, loss = 0.00549257\n",
      "Iteration 30, loss = 0.00504687\n",
      "Iteration 31, loss = 0.00474778\n",
      "Iteration 32, loss = 0.00447818\n",
      "Iteration 33, loss = 0.00418978\n",
      "Iteration 34, loss = 0.00400473\n",
      "Iteration 35, loss = 0.00379532\n",
      "Iteration 36, loss = 0.00360566\n",
      "Iteration 37, loss = 0.00341876\n",
      "Iteration 38, loss = 0.00330739\n",
      "Iteration 39, loss = 0.00314260\n",
      "Iteration 40, loss = 0.00298990\n",
      "Iteration 41, loss = 0.00290341\n",
      "Iteration 42, loss = 0.00281337\n",
      "Iteration 43, loss = 0.00269853\n",
      "Iteration 44, loss = 0.00261759\n",
      "Iteration 45, loss = 0.00249347\n",
      "Iteration 46, loss = 0.00241527\n",
      "Iteration 47, loss = 0.00233807\n",
      "Iteration 48, loss = 0.00227540\n",
      "Iteration 49, loss = 0.00220500\n",
      "Iteration 50, loss = 0.00214561\n",
      "Iteration 51, loss = 0.00209064\n",
      "Iteration 52, loss = 0.00202867\n",
      "Iteration 53, loss = 0.00198430\n",
      "Iteration 54, loss = 0.00195067\n",
      "Iteration 55, loss = 0.00188903\n",
      "Iteration 56, loss = 0.00183532\n",
      "Training loss did not improve more than tol=0.000100 for 10 consecutive epochs. Stopping.\n"
     ]
    },
    {
     "data": {
      "text/html": [
       "<style>#sk-container-id-3 {color: black;background-color: white;}#sk-container-id-3 pre{padding: 0;}#sk-container-id-3 div.sk-toggleable {background-color: white;}#sk-container-id-3 label.sk-toggleable__label {cursor: pointer;display: block;width: 100%;margin-bottom: 0;padding: 0.3em;box-sizing: border-box;text-align: center;}#sk-container-id-3 label.sk-toggleable__label-arrow:before {content: \"▸\";float: left;margin-right: 0.25em;color: #696969;}#sk-container-id-3 label.sk-toggleable__label-arrow:hover:before {color: black;}#sk-container-id-3 div.sk-estimator:hover label.sk-toggleable__label-arrow:before {color: black;}#sk-container-id-3 div.sk-toggleable__content {max-height: 0;max-width: 0;overflow: hidden;text-align: left;background-color: #f0f8ff;}#sk-container-id-3 div.sk-toggleable__content pre {margin: 0.2em;color: black;border-radius: 0.25em;background-color: #f0f8ff;}#sk-container-id-3 input.sk-toggleable__control:checked~div.sk-toggleable__content {max-height: 200px;max-width: 100%;overflow: auto;}#sk-container-id-3 input.sk-toggleable__control:checked~label.sk-toggleable__label-arrow:before {content: \"▾\";}#sk-container-id-3 div.sk-estimator input.sk-toggleable__control:checked~label.sk-toggleable__label {background-color: #d4ebff;}#sk-container-id-3 div.sk-label input.sk-toggleable__control:checked~label.sk-toggleable__label {background-color: #d4ebff;}#sk-container-id-3 input.sk-hidden--visually {border: 0;clip: rect(1px 1px 1px 1px);clip: rect(1px, 1px, 1px, 1px);height: 1px;margin: -1px;overflow: hidden;padding: 0;position: absolute;width: 1px;}#sk-container-id-3 div.sk-estimator {font-family: monospace;background-color: #f0f8ff;border: 1px dotted black;border-radius: 0.25em;box-sizing: border-box;margin-bottom: 0.5em;}#sk-container-id-3 div.sk-estimator:hover {background-color: #d4ebff;}#sk-container-id-3 div.sk-parallel-item::after {content: \"\";width: 100%;border-bottom: 1px solid gray;flex-grow: 1;}#sk-container-id-3 div.sk-label:hover label.sk-toggleable__label {background-color: #d4ebff;}#sk-container-id-3 div.sk-serial::before {content: \"\";position: absolute;border-left: 1px solid gray;box-sizing: border-box;top: 0;bottom: 0;left: 50%;z-index: 0;}#sk-container-id-3 div.sk-serial {display: flex;flex-direction: column;align-items: center;background-color: white;padding-right: 0.2em;padding-left: 0.2em;position: relative;}#sk-container-id-3 div.sk-item {position: relative;z-index: 1;}#sk-container-id-3 div.sk-parallel {display: flex;align-items: stretch;justify-content: center;background-color: white;position: relative;}#sk-container-id-3 div.sk-item::before, #sk-container-id-3 div.sk-parallel-item::before {content: \"\";position: absolute;border-left: 1px solid gray;box-sizing: border-box;top: 0;bottom: 0;left: 50%;z-index: -1;}#sk-container-id-3 div.sk-parallel-item {display: flex;flex-direction: column;z-index: 1;position: relative;background-color: white;}#sk-container-id-3 div.sk-parallel-item:first-child::after {align-self: flex-end;width: 50%;}#sk-container-id-3 div.sk-parallel-item:last-child::after {align-self: flex-start;width: 50%;}#sk-container-id-3 div.sk-parallel-item:only-child::after {width: 0;}#sk-container-id-3 div.sk-dashed-wrapped {border: 1px dashed gray;margin: 0 0.4em 0.5em 0.4em;box-sizing: border-box;padding-bottom: 0.4em;background-color: white;}#sk-container-id-3 div.sk-label label {font-family: monospace;font-weight: bold;display: inline-block;line-height: 1.2em;}#sk-container-id-3 div.sk-label-container {text-align: center;}#sk-container-id-3 div.sk-container {/* jupyter's `normalize.less` sets `[hidden] { display: none; }` but bootstrap.min.css set `[hidden] { display: none !important; }` so we also need the `!important` here to be able to override the default hidden behavior on the sphinx rendered scikit-learn.org. See: https://github.com/scikit-learn/scikit-learn/issues/21755 */display: inline-block !important;position: relative;}#sk-container-id-3 div.sk-text-repr-fallback {display: none;}</style><div id=\"sk-container-id-3\" class=\"sk-top-container\"><div class=\"sk-text-repr-fallback\"><pre>MLPClassifier(hidden_layer_sizes=(50,), learning_rate_init=0.1, max_iter=100,\n",
       "              solver=&#x27;sgd&#x27;, verbose=True)</pre><b>In a Jupyter environment, please rerun this cell to show the HTML representation or trust the notebook. <br />On GitHub, the HTML representation is unable to render, please try loading this page with nbviewer.org.</b></div><div class=\"sk-container\" hidden><div class=\"sk-item\"><div class=\"sk-estimator sk-toggleable\"><input class=\"sk-toggleable__control sk-hidden--visually\" id=\"sk-estimator-id-3\" type=\"checkbox\" checked><label for=\"sk-estimator-id-3\" class=\"sk-toggleable__label sk-toggleable__label-arrow\">MLPClassifier</label><div class=\"sk-toggleable__content\"><pre>MLPClassifier(hidden_layer_sizes=(50,), learning_rate_init=0.1, max_iter=100,\n",
       "              solver=&#x27;sgd&#x27;, verbose=True)</pre></div></div></div></div></div>"
      ],
      "text/plain": [
       "MLPClassifier(hidden_layer_sizes=(50,), learning_rate_init=0.1, max_iter=100,\n",
       "              solver='sgd', verbose=True)"
      ]
     },
     "execution_count": 22,
     "metadata": {},
     "output_type": "execute_result"
    }
   ],
   "source": [
    "model.fit(xtrain,ytrain)"
   ]
  },
  {
   "cell_type": "code",
   "execution_count": 23,
   "id": "180d1318",
   "metadata": {},
   "outputs": [
    {
     "data": {
      "text/plain": [
       "1.0"
      ]
     },
     "execution_count": 23,
     "metadata": {},
     "output_type": "execute_result"
    }
   ],
   "source": [
    "model.score(xtrain,ytrain)"
   ]
  },
  {
   "cell_type": "code",
   "execution_count": 24,
   "id": "a3ea7e85",
   "metadata": {},
   "outputs": [
    {
     "data": {
      "text/plain": [
       "0.9547321428571428"
      ]
     },
     "execution_count": 24,
     "metadata": {},
     "output_type": "execute_result"
    }
   ],
   "source": [
    "model.score(xtest ,ytest)"
   ]
  },
  {
   "cell_type": "code",
   "execution_count": 25,
   "id": "ec70619e",
   "metadata": {},
   "outputs": [],
   "source": [
    "y_predict = model.predict(xtest)"
   ]
  },
  {
   "cell_type": "code",
   "execution_count": 26,
   "id": "1ba7af0a",
   "metadata": {},
   "outputs": [
    {
     "data": {
      "text/html": [
       "<div>\n",
       "<style scoped>\n",
       "    .dataframe tbody tr th:only-of-type {\n",
       "        vertical-align: middle;\n",
       "    }\n",
       "\n",
       "    .dataframe tbody tr th {\n",
       "        vertical-align: top;\n",
       "    }\n",
       "\n",
       "    .dataframe thead th {\n",
       "        text-align: right;\n",
       "    }\n",
       "</style>\n",
       "<table border=\"1\" class=\"dataframe\">\n",
       "  <thead>\n",
       "    <tr style=\"text-align: right;\">\n",
       "      <th></th>\n",
       "      <th>14913</th>\n",
       "      <th>31680</th>\n",
       "      <th>17393</th>\n",
       "      <th>30028</th>\n",
       "      <th>44907</th>\n",
       "      <th>62120</th>\n",
       "      <th>6815</th>\n",
       "      <th>29585</th>\n",
       "      <th>168</th>\n",
       "      <th>55395</th>\n",
       "      <th>...</th>\n",
       "      <th>30583</th>\n",
       "      <th>1101</th>\n",
       "      <th>28667</th>\n",
       "      <th>7629</th>\n",
       "      <th>38630</th>\n",
       "      <th>62610</th>\n",
       "      <th>16101</th>\n",
       "      <th>65673</th>\n",
       "      <th>25436</th>\n",
       "      <th>61817</th>\n",
       "    </tr>\n",
       "  </thead>\n",
       "  <tbody>\n",
       "    <tr>\n",
       "      <th>class</th>\n",
       "      <td>8</td>\n",
       "      <td>3</td>\n",
       "      <td>8</td>\n",
       "      <td>5</td>\n",
       "      <td>5</td>\n",
       "      <td>4</td>\n",
       "      <td>2</td>\n",
       "      <td>0</td>\n",
       "      <td>7</td>\n",
       "      <td>8</td>\n",
       "      <td>...</td>\n",
       "      <td>9</td>\n",
       "      <td>8</td>\n",
       "      <td>0</td>\n",
       "      <td>0</td>\n",
       "      <td>4</td>\n",
       "      <td>2</td>\n",
       "      <td>8</td>\n",
       "      <td>0</td>\n",
       "      <td>1</td>\n",
       "      <td>2</td>\n",
       "    </tr>\n",
       "    <tr>\n",
       "      <th>Unnamed 0</th>\n",
       "      <td>8</td>\n",
       "      <td>9</td>\n",
       "      <td>6</td>\n",
       "      <td>8</td>\n",
       "      <td>3</td>\n",
       "      <td>NaN</td>\n",
       "      <td>4</td>\n",
       "      <td>7</td>\n",
       "      <td>3</td>\n",
       "      <td>4</td>\n",
       "      <td>...</td>\n",
       "      <td>1</td>\n",
       "      <td>3</td>\n",
       "      <td>5</td>\n",
       "      <td>8</td>\n",
       "      <td>5</td>\n",
       "      <td>NaN</td>\n",
       "      <td>3</td>\n",
       "      <td>NaN</td>\n",
       "      <td>8</td>\n",
       "      <td>NaN</td>\n",
       "    </tr>\n",
       "  </tbody>\n",
       "</table>\n",
       "<p>2 rows × 56000 columns</p>\n",
       "</div>"
      ],
      "text/plain": [
       "          14913 31680 17393 30028 44907 62120 6815  29585 168   55395  ...  \\\n",
       "class         8     3     8     5     5     4     2     0     7     8  ...   \n",
       "Unnamed 0     8     9     6     8     3   NaN     4     7     3     4  ...   \n",
       "\n",
       "          30583 1101  28667 7629  38630 62610 16101 65673 25436 61817  \n",
       "class         9     8     0     0     4     2     8     0     1     2  \n",
       "Unnamed 0     1     3     5     8     5   NaN     3   NaN     8   NaN  \n",
       "\n",
       "[2 rows x 56000 columns]"
      ]
     },
     "execution_count": 26,
     "metadata": {},
     "output_type": "execute_result"
    }
   ],
   "source": [
    "import pandas as pd\n",
    "df = pd.DataFrame([ytest,y_predict])\n",
    "df.head(20)"
   ]
  }
 ],
 "metadata": {
  "kernelspec": {
   "display_name": "Python 3 (ipykernel)",
   "language": "python",
   "name": "python3"
  },
  "language_info": {
   "codemirror_mode": {
    "name": "ipython",
    "version": 3
   },
   "file_extension": ".py",
   "mimetype": "text/x-python",
   "name": "python",
   "nbconvert_exporter": "python",
   "pygments_lexer": "ipython3",
   "version": "3.9.7"
  }
 },
 "nbformat": 4,
 "nbformat_minor": 5
}
