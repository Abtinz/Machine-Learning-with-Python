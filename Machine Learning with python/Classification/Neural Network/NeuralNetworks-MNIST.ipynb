{
 "cells": [
  {
   "cell_type": "code",
   "execution_count": 1,
   "id": "d4f97501",
   "metadata": {},
   "outputs": [],
   "source": [
    "import matplotlib.pyplot as plt\n",
    "from sklearn.neural_network import MLPClassifier"
   ]
  },
  {
   "cell_type": "code",
   "execution_count": 2,
   "id": "a58c55e8",
   "metadata": {},
   "outputs": [],
   "source": [
    "from sklearn.datasets import fetch_openml"
   ]
  },
  {
   "cell_type": "code",
   "execution_count": 6,
   "id": "ee154720",
   "metadata": {},
   "outputs": [],
   "source": [
    "x,y = fetch_openml('mnist_784' , version = 1 , return_X_y = True)"
   ]
  },
  {
   "cell_type": "code",
   "execution_count": 7,
   "id": "62b8820c",
   "metadata": {},
   "outputs": [],
   "source": [
    "x = x/255."
   ]
  },
  {
   "cell_type": "code",
   "execution_count": 9,
   "id": "3419cb67",
   "metadata": {},
   "outputs": [],
   "source": [
    "from sklearn.model_selection import train_test_split"
   ]
  },
  {
   "cell_type": "code",
   "execution_count": 10,
   "id": "bbbabbed",
   "metadata": {},
   "outputs": [],
   "source": [
    "xtrain , xtest , ytrain , ytest = train_test_split(x,y,test_size = 0.80)"
   ]
  },
  {
   "cell_type": "code",
   "execution_count": 14,
   "id": "699b9a32",
   "metadata": {},
   "outputs": [],
   "source": [
    "model = MLPClassifier(hidden_layer_sizes = (50,) ,max_iter=100 , alpha = 1e-4 , solver = 'sgd',verbose = True,learning_rate_init = .1 ,tol = 1e-4)"
   ]
  },
  {
   "cell_type": "code",
   "execution_count": 15,
   "id": "a92539af",
   "metadata": {},
   "outputs": [
    {
     "name": "stdout",
     "output_type": "stream",
     "text": [
      "Iteration 1, loss = 0.57726358\n",
      "Iteration 2, loss = 0.26456208\n",
      "Iteration 3, loss = 0.20987916\n",
      "Iteration 4, loss = 0.17533198\n",
      "Iteration 5, loss = 0.14905988\n",
      "Iteration 6, loss = 0.12779268\n",
      "Iteration 7, loss = 0.11001794\n",
      "Iteration 8, loss = 0.09294438\n",
      "Iteration 9, loss = 0.07944445\n",
      "Iteration 10, loss = 0.07064884\n",
      "Iteration 11, loss = 0.06003410\n",
      "Iteration 12, loss = 0.05074980\n",
      "Iteration 13, loss = 0.04493874\n",
      "Iteration 14, loss = 0.03901628\n",
      "Iteration 15, loss = 0.03502969\n",
      "Iteration 16, loss = 0.03026130\n",
      "Iteration 17, loss = 0.02585842\n",
      "Iteration 18, loss = 0.02117366\n",
      "Iteration 19, loss = 0.01856461\n",
      "Iteration 20, loss = 0.01625874\n",
      "Iteration 21, loss = 0.01413728\n",
      "Iteration 22, loss = 0.01232824\n",
      "Iteration 23, loss = 0.01105290\n",
      "Iteration 24, loss = 0.00958916\n",
      "Iteration 25, loss = 0.00844379\n",
      "Iteration 26, loss = 0.00773468\n",
      "Iteration 27, loss = 0.00715011\n",
      "Iteration 28, loss = 0.00643403\n",
      "Iteration 29, loss = 0.00600482\n",
      "Iteration 30, loss = 0.00546925\n",
      "Iteration 31, loss = 0.00521095\n",
      "Iteration 32, loss = 0.00501881\n",
      "Iteration 33, loss = 0.00468958\n",
      "Iteration 34, loss = 0.00434847\n",
      "Iteration 35, loss = 0.00408604\n",
      "Iteration 36, loss = 0.00398868\n",
      "Iteration 37, loss = 0.00366448\n",
      "Iteration 38, loss = 0.00354970\n",
      "Iteration 39, loss = 0.00336858\n",
      "Iteration 40, loss = 0.00324310\n",
      "Iteration 41, loss = 0.00312605\n",
      "Iteration 42, loss = 0.00302933\n",
      "Iteration 43, loss = 0.00287038\n",
      "Iteration 44, loss = 0.00277359\n",
      "Iteration 45, loss = 0.00271360\n",
      "Iteration 46, loss = 0.00259740\n",
      "Iteration 47, loss = 0.00252418\n",
      "Iteration 48, loss = 0.00244193\n",
      "Iteration 49, loss = 0.00233923\n",
      "Iteration 50, loss = 0.00229773\n",
      "Iteration 51, loss = 0.00222116\n",
      "Iteration 52, loss = 0.00216541\n",
      "Iteration 53, loss = 0.00212977\n",
      "Iteration 54, loss = 0.00204891\n",
      "Iteration 55, loss = 0.00200540\n",
      "Iteration 56, loss = 0.00195998\n",
      "Iteration 57, loss = 0.00190695\n",
      "Iteration 58, loss = 0.00185226\n",
      "Iteration 59, loss = 0.00182148\n",
      "Iteration 60, loss = 0.00177592\n",
      "Training loss did not improve more than tol=0.000100 for 10 consecutive epochs. Stopping.\n"
     ]
    },
    {
     "data": {
      "text/html": [
       "<style>#sk-container-id-2 {color: black;background-color: white;}#sk-container-id-2 pre{padding: 0;}#sk-container-id-2 div.sk-toggleable {background-color: white;}#sk-container-id-2 label.sk-toggleable__label {cursor: pointer;display: block;width: 100%;margin-bottom: 0;padding: 0.3em;box-sizing: border-box;text-align: center;}#sk-container-id-2 label.sk-toggleable__label-arrow:before {content: \"▸\";float: left;margin-right: 0.25em;color: #696969;}#sk-container-id-2 label.sk-toggleable__label-arrow:hover:before {color: black;}#sk-container-id-2 div.sk-estimator:hover label.sk-toggleable__label-arrow:before {color: black;}#sk-container-id-2 div.sk-toggleable__content {max-height: 0;max-width: 0;overflow: hidden;text-align: left;background-color: #f0f8ff;}#sk-container-id-2 div.sk-toggleable__content pre {margin: 0.2em;color: black;border-radius: 0.25em;background-color: #f0f8ff;}#sk-container-id-2 input.sk-toggleable__control:checked~div.sk-toggleable__content {max-height: 200px;max-width: 100%;overflow: auto;}#sk-container-id-2 input.sk-toggleable__control:checked~label.sk-toggleable__label-arrow:before {content: \"▾\";}#sk-container-id-2 div.sk-estimator input.sk-toggleable__control:checked~label.sk-toggleable__label {background-color: #d4ebff;}#sk-container-id-2 div.sk-label input.sk-toggleable__control:checked~label.sk-toggleable__label {background-color: #d4ebff;}#sk-container-id-2 input.sk-hidden--visually {border: 0;clip: rect(1px 1px 1px 1px);clip: rect(1px, 1px, 1px, 1px);height: 1px;margin: -1px;overflow: hidden;padding: 0;position: absolute;width: 1px;}#sk-container-id-2 div.sk-estimator {font-family: monospace;background-color: #f0f8ff;border: 1px dotted black;border-radius: 0.25em;box-sizing: border-box;margin-bottom: 0.5em;}#sk-container-id-2 div.sk-estimator:hover {background-color: #d4ebff;}#sk-container-id-2 div.sk-parallel-item::after {content: \"\";width: 100%;border-bottom: 1px solid gray;flex-grow: 1;}#sk-container-id-2 div.sk-label:hover label.sk-toggleable__label {background-color: #d4ebff;}#sk-container-id-2 div.sk-serial::before {content: \"\";position: absolute;border-left: 1px solid gray;box-sizing: border-box;top: 0;bottom: 0;left: 50%;z-index: 0;}#sk-container-id-2 div.sk-serial {display: flex;flex-direction: column;align-items: center;background-color: white;padding-right: 0.2em;padding-left: 0.2em;position: relative;}#sk-container-id-2 div.sk-item {position: relative;z-index: 1;}#sk-container-id-2 div.sk-parallel {display: flex;align-items: stretch;justify-content: center;background-color: white;position: relative;}#sk-container-id-2 div.sk-item::before, #sk-container-id-2 div.sk-parallel-item::before {content: \"\";position: absolute;border-left: 1px solid gray;box-sizing: border-box;top: 0;bottom: 0;left: 50%;z-index: -1;}#sk-container-id-2 div.sk-parallel-item {display: flex;flex-direction: column;z-index: 1;position: relative;background-color: white;}#sk-container-id-2 div.sk-parallel-item:first-child::after {align-self: flex-end;width: 50%;}#sk-container-id-2 div.sk-parallel-item:last-child::after {align-self: flex-start;width: 50%;}#sk-container-id-2 div.sk-parallel-item:only-child::after {width: 0;}#sk-container-id-2 div.sk-dashed-wrapped {border: 1px dashed gray;margin: 0 0.4em 0.5em 0.4em;box-sizing: border-box;padding-bottom: 0.4em;background-color: white;}#sk-container-id-2 div.sk-label label {font-family: monospace;font-weight: bold;display: inline-block;line-height: 1.2em;}#sk-container-id-2 div.sk-label-container {text-align: center;}#sk-container-id-2 div.sk-container {/* jupyter's `normalize.less` sets `[hidden] { display: none; }` but bootstrap.min.css set `[hidden] { display: none !important; }` so we also need the `!important` here to be able to override the default hidden behavior on the sphinx rendered scikit-learn.org. See: https://github.com/scikit-learn/scikit-learn/issues/21755 */display: inline-block !important;position: relative;}#sk-container-id-2 div.sk-text-repr-fallback {display: none;}</style><div id=\"sk-container-id-2\" class=\"sk-top-container\"><div class=\"sk-text-repr-fallback\"><pre>MLPClassifier(hidden_layer_sizes=(50,), learning_rate_init=0.1, max_iter=100,\n",
       "              solver=&#x27;sgd&#x27;, verbose=True)</pre><b>In a Jupyter environment, please rerun this cell to show the HTML representation or trust the notebook. <br />On GitHub, the HTML representation is unable to render, please try loading this page with nbviewer.org.</b></div><div class=\"sk-container\" hidden><div class=\"sk-item\"><div class=\"sk-estimator sk-toggleable\"><input class=\"sk-toggleable__control sk-hidden--visually\" id=\"sk-estimator-id-2\" type=\"checkbox\" checked><label for=\"sk-estimator-id-2\" class=\"sk-toggleable__label sk-toggleable__label-arrow\">MLPClassifier</label><div class=\"sk-toggleable__content\"><pre>MLPClassifier(hidden_layer_sizes=(50,), learning_rate_init=0.1, max_iter=100,\n",
       "              solver=&#x27;sgd&#x27;, verbose=True)</pre></div></div></div></div></div>"
      ],
      "text/plain": [
       "MLPClassifier(hidden_layer_sizes=(50,), learning_rate_init=0.1, max_iter=100,\n",
       "              solver='sgd', verbose=True)"
      ]
     },
     "execution_count": 15,
     "metadata": {},
     "output_type": "execute_result"
    }
   ],
   "source": [
    "model.fit(xtrain,ytrain)"
   ]
  },
  {
   "cell_type": "code",
   "execution_count": 16,
   "id": "b722a514",
   "metadata": {},
   "outputs": [
    {
     "data": {
      "text/plain": [
       "1.0"
      ]
     },
     "execution_count": 16,
     "metadata": {},
     "output_type": "execute_result"
    }
   ],
   "source": [
    "model.score(xtrain,ytrain)"
   ]
  }
 ],
 "metadata": {
  "kernelspec": {
   "display_name": "Python 3 (ipykernel)",
   "language": "python",
   "name": "python3"
  },
  "language_info": {
   "codemirror_mode": {
    "name": "ipython",
    "version": 3
   },
   "file_extension": ".py",
   "mimetype": "text/x-python",
   "name": "python",
   "nbconvert_exporter": "python",
   "pygments_lexer": "ipython3",
   "version": "3.9.7"
  }
 },
 "nbformat": 4,
 "nbformat_minor": 5
}
