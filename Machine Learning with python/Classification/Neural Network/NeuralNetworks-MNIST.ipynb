{
 "cells": [
  {
   "cell_type": "code",
   "execution_count": 1,
   "id": "d4f97501",
   "metadata": {},
   "outputs": [],
   "source": [
    "import matplotlib.pyplot as plt\n",
    "from sklearn.neural_network import MLPClassifier"
   ]
  },
  {
   "cell_type": "code",
   "execution_count": 2,
   "id": "a58c55e8",
   "metadata": {},
   "outputs": [],
   "source": [
    "from sklearn.datasets import fetch_openml"
   ]
  },
  {
   "cell_type": "code",
   "execution_count": 6,
   "id": "ee154720",
   "metadata": {},
   "outputs": [],
   "source": [
    "x,y = fetch_openml('mnist_784' , version = 1 , return_X_y = True)"
   ]
  },
  {
   "cell_type": "code",
   "execution_count": 7,
   "id": "62b8820c",
   "metadata": {},
   "outputs": [],
   "source": [
    "x = x/255."
   ]
  },
  {
   "cell_type": "code",
   "execution_count": 9,
   "id": "5fc88920",
   "metadata": {},
   "outputs": [],
   "source": [
    "from sklearn.model_selection import train_test_split"
   ]
  },
  {
   "cell_type": "code",
   "execution_count": 10,
   "id": "b840a62a",
   "metadata": {},
   "outputs": [],
   "source": [
    "xtrain , xtest , ytrain , ytest = train_test_split(x,y,test_size = 0.80)"
   ]
  },
  {
   "cell_type": "code",
   "execution_count": 12,
   "id": "81351040",
   "metadata": {},
   "outputs": [],
   "source": [
    "model = MLPClassifier(hidden_layer_sizes = (50,) ,max_iter=100 , alpha = 1e-4 , solver = 'sgd',verbose = True,learning_rate_init = .1 ,tol = 1e-4)"
   ]
  },
  {
   "cell_type": "code",
   "execution_count": null,
   "id": "f76c7e04",
   "metadata": {},
   "outputs": [],
   "source": []
  }
 ],
 "metadata": {
  "kernelspec": {
   "display_name": "Python 3 (ipykernel)",
   "language": "python",
   "name": "python3"
  },
  "language_info": {
   "codemirror_mode": {
    "name": "ipython",
    "version": 3
   },
   "file_extension": ".py",
   "mimetype": "text/x-python",
   "name": "python",
   "nbconvert_exporter": "python",
   "pygments_lexer": "ipython3",
   "version": "3.9.7"
  }
 },
 "nbformat": 4,
 "nbformat_minor": 5
}
