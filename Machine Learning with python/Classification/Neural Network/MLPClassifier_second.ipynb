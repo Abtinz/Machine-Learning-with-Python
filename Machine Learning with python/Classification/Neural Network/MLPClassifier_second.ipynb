{
 "cells": [
  {
   "cell_type": "code",
   "execution_count": 2,
   "id": "cf7e66e5",
   "metadata": {},
   "outputs": [],
   "source": [
    "import numpy as np\n",
    "import math\n",
    "import matplotlib.pyplot as plt"
   ]
  },
  {
   "cell_type": "code",
   "execution_count": 3,
   "id": "19002617",
   "metadata": {},
   "outputs": [],
   "source": [
    "def ReLU(x):\n",
    "    return np.maximum(0.0,x)"
   ]
  },
  {
   "cell_type": "code",
   "execution_count": 4,
   "id": "53d742f8",
   "metadata": {},
   "outputs": [],
   "source": [
    "def build_model(x,hidden_nodes,output_dim = 2):\n",
    "    model = {}\n",
    "    input_dim = x.shape[1]\n",
    "    model['W1'] = np.random.rand(input_dim,hidden_nodes)/np.sqrt(input_dim)\n",
    "    model['b1'] = np.zeros((1,hidden_nodes))\n",
    "    model['W2'] = np.random.rand(hidden_nodes,output_dim)/np.sqrt(hidden_nodes)\n",
    "    model['b2'] = np.zeros((1,output_dim))\n",
    "    return model"
   ]
  },
  {
   "cell_type": "code",
   "execution_count": null,
   "id": "88168fab",
   "metadata": {},
   "outputs": [],
   "source": []
  }
 ],
 "metadata": {
  "kernelspec": {
   "display_name": "Python 3 (ipykernel)",
   "language": "python",
   "name": "python3"
  },
  "language_info": {
   "codemirror_mode": {
    "name": "ipython",
    "version": 3
   },
   "file_extension": ".py",
   "mimetype": "text/x-python",
   "name": "python",
   "nbconvert_exporter": "python",
   "pygments_lexer": "ipython3",
   "version": "3.9.7"
  }
 },
 "nbformat": 4,
 "nbformat_minor": 5
}
