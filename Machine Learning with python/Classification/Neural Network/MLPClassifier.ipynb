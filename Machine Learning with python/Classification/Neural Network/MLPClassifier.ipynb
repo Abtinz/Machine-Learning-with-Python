{
 "cells": [
  {
   "cell_type": "code",
   "execution_count": 2,
   "id": "73f28c7c",
   "metadata": {},
   "outputs": [],
   "source": [
    "import numpy as np\n",
    "from sklearn.neural_network import MLPClassifier"
   ]
  },
  {
   "cell_type": "code",
   "execution_count": 3,
   "id": "1b3d76f1",
   "metadata": {},
   "outputs": [],
   "source": [
    "x_train = np.array([[1,1],[3,3],[6,6],[7,7],[9,9]])\n",
    "y_train = np.array([0,0,1,1,1])"
   ]
  },
  {
   "cell_type": "code",
   "execution_count": 5,
   "id": "25e3c5c1",
   "metadata": {},
   "outputs": [],
   "source": [
    "model = MLPClassifier(hidden_layer_sizes = (7) ,max_iter=110 , alpha = 1e-4 , solver = 'sgd',verbose = True )"
   ]
  },
  {
   "cell_type": "code",
   "execution_count": 6,
   "id": "58b26db0",
   "metadata": {},
   "outputs": [],
   "source": [
    "second_model = MLPClassifier(hidden_layer_sizes = (7,3) ,max_iter=110 , alpha = 1e-4 , solver = 'sgd',verbose = True )"
   ]
  }
 ],
 "metadata": {
  "kernelspec": {
   "display_name": "Python 3 (ipykernel)",
   "language": "python",
   "name": "python3"
  },
  "language_info": {
   "codemirror_mode": {
    "name": "ipython",
    "version": 3
   },
   "file_extension": ".py",
   "mimetype": "text/x-python",
   "name": "python",
   "nbconvert_exporter": "python",
   "pygments_lexer": "ipython3",
   "version": "3.9.7"
  }
 },
 "nbformat": 4,
 "nbformat_minor": 5
}
