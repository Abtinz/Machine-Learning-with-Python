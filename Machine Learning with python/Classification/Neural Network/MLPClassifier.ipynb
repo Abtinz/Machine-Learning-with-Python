{
 "cells": [
  {
   "cell_type": "code",
   "execution_count": 2,
   "id": "81edb38f",
   "metadata": {},
   "outputs": [],
   "source": [
    "import numpy as np\n",
    "from sklearn.neural_network import MLPClassifier"
   ]
  },
  {
   "cell_type": "code",
   "execution_count": 3,
   "id": "9ecbdf98",
   "metadata": {},
   "outputs": [],
   "source": [
    "x_train = np.array([[1,1],[3,3],[6,6],[7,7],[9,9]])\n",
    "y_train = np.array([0,0,1,1,1])"
   ]
  },
  {
   "cell_type": "code",
   "execution_count": 11,
   "id": "43afe6a6",
   "metadata": {},
   "outputs": [],
   "source": [
    "model = MLPClassifier(hidden_layer_sizes = (7) ,max_iter=110 , alpha = 1e-4 , solver = 'sgd',verbose = True,learning_rate_init = .1 )"
   ]
  },
  {
   "cell_type": "code",
   "execution_count": 12,
   "id": "bde2a982",
   "metadata": {},
   "outputs": [],
   "source": [
    "second_model = MLPClassifier(hidden_layer_sizes = (7,3) ,max_iter=110 , alpha = 1e-4 , solver = 'sgd',verbose = True,learning_rate_init = .1 )"
   ]
  },
  {
   "cell_type": "code",
   "execution_count": 13,
   "id": "97afcbf9",
   "metadata": {},
   "outputs": [
    {
     "name": "stdout",
     "output_type": "stream",
     "text": [
      "Iteration 1, loss = 1.99667122\n",
      "Iteration 2, loss = 0.53561486\n",
      "Iteration 3, loss = 0.53284037\n",
      "Iteration 4, loss = 0.53145769\n",
      "Iteration 5, loss = 0.51797813\n",
      "Iteration 6, loss = 0.49728820\n",
      "Iteration 7, loss = 0.47034706\n",
      "Iteration 8, loss = 0.43720992\n",
      "Iteration 9, loss = 0.39959992\n",
      "Iteration 10, loss = 0.35929123\n",
      "Iteration 11, loss = 0.31828815\n",
      "Iteration 12, loss = 0.27834499\n",
      "Iteration 13, loss = 0.24094003\n",
      "Iteration 14, loss = 0.20703952\n",
      "Iteration 15, loss = 0.17717656\n",
      "Iteration 16, loss = 0.15159983\n",
      "Iteration 17, loss = 0.12986553\n",
      "Iteration 18, loss = 0.11237787\n",
      "Iteration 19, loss = 0.09625839\n",
      "Iteration 20, loss = 0.08390009\n",
      "Iteration 21, loss = 0.07066254\n",
      "Iteration 22, loss = 0.06069003\n",
      "Iteration 23, loss = 0.05210631\n",
      "Iteration 24, loss = 0.04532691\n",
      "Iteration 25, loss = 0.03977338\n",
      "Iteration 26, loss = 0.03511093\n",
      "Iteration 27, loss = 0.03119248\n",
      "Iteration 28, loss = 0.02787512\n",
      "Iteration 29, loss = 0.02504634\n",
      "Iteration 30, loss = 0.02262654\n",
      "Iteration 31, loss = 0.02054944\n",
      "Iteration 32, loss = 0.01876003\n",
      "Iteration 33, loss = 0.01721268\n",
      "Iteration 34, loss = 0.01586954\n",
      "Iteration 35, loss = 0.01469916\n",
      "Iteration 36, loss = 0.01367541\n",
      "Iteration 37, loss = 0.01277647\n",
      "Iteration 38, loss = 0.01198414\n",
      "Iteration 39, loss = 0.01128316\n",
      "Iteration 40, loss = 0.01066072\n",
      "Iteration 41, loss = 0.01010604\n",
      "Iteration 42, loss = 0.00960998\n",
      "Iteration 43, loss = 0.00916483\n",
      "Iteration 44, loss = 0.00876400\n",
      "Iteration 45, loss = 0.00840190\n",
      "Iteration 46, loss = 0.00807374\n",
      "Iteration 47, loss = 0.00777538\n",
      "Iteration 48, loss = 0.00750331\n",
      "Iteration 49, loss = 0.00725445\n",
      "Iteration 50, loss = 0.00702616\n",
      "Iteration 51, loss = 0.00681615\n",
      "Iteration 52, loss = 0.00662240\n",
      "Iteration 53, loss = 0.00644319\n",
      "Iteration 54, loss = 0.00627697\n",
      "Iteration 55, loss = 0.00612242\n",
      "Iteration 56, loss = 0.00597834\n",
      "Iteration 57, loss = 0.00584371\n",
      "Iteration 58, loss = 0.00571761\n",
      "Iteration 59, loss = 0.00559922\n",
      "Iteration 60, loss = 0.00548782\n",
      "Iteration 61, loss = 0.00538278\n",
      "Iteration 62, loss = 0.00528352\n",
      "Iteration 63, loss = 0.00518955\n",
      "Iteration 64, loss = 0.00510040\n",
      "Iteration 65, loss = 0.00501566\n",
      "Iteration 66, loss = 0.00493498\n",
      "Iteration 67, loss = 0.00485803\n",
      "Iteration 68, loss = 0.00478451\n",
      "Iteration 69, loss = 0.00471416\n",
      "Iteration 70, loss = 0.00464674\n",
      "Iteration 71, loss = 0.00458204\n",
      "Iteration 72, loss = 0.00451985\n",
      "Training loss did not improve more than tol=0.000100 for 10 consecutive epochs. Stopping.\n"
     ]
    }
   ],
   "source": [
    "model.fit(x_train ,y_train );"
   ]
  },
  {
   "cell_type": "code",
   "execution_count": 14,
   "id": "48f81b6b",
   "metadata": {},
   "outputs": [
    {
     "name": "stdout",
     "output_type": "stream",
     "text": [
      "Iteration 1, loss = 0.87932088\n",
      "Iteration 2, loss = 0.73557488\n",
      "Iteration 3, loss = 0.50559216\n",
      "Iteration 4, loss = 0.32172318\n",
      "Iteration 5, loss = 0.35893063\n",
      "Iteration 6, loss = 0.36207437\n",
      "Iteration 7, loss = 0.30312859\n",
      "Iteration 8, loss = 0.26643824\n",
      "Iteration 9, loss = 0.26332194\n",
      "Iteration 10, loss = 0.23860148\n",
      "Iteration 11, loss = 0.22165078\n",
      "Iteration 12, loss = 0.20358762\n",
      "Iteration 13, loss = 0.18488503\n",
      "Iteration 14, loss = 0.16611373\n",
      "Iteration 15, loss = 0.14771942\n",
      "Iteration 16, loss = 0.13013608\n",
      "Iteration 17, loss = 0.11370360\n",
      "Iteration 18, loss = 0.09868234\n",
      "Iteration 19, loss = 0.08659564\n",
      "Iteration 20, loss = 0.10570468\n",
      "Iteration 21, loss = 0.10146430\n",
      "Iteration 22, loss = 0.15768500\n",
      "Iteration 23, loss = 0.14580053\n",
      "Iteration 24, loss = 0.76291153\n",
      "Iteration 25, loss = 0.28532718\n",
      "Iteration 26, loss = 2.28818568\n",
      "Iteration 27, loss = 1.00183089\n",
      "Iteration 28, loss = 0.11562795\n",
      "Iteration 29, loss = 0.16708220\n",
      "Iteration 30, loss = 0.16060632\n",
      "Training loss did not improve more than tol=0.000100 for 10 consecutive epochs. Stopping.\n"
     ]
    }
   ],
   "source": [
    "second_model.fit(x_train ,y_train );"
   ]
  }
 ],
 "metadata": {
  "kernelspec": {
   "display_name": "Python 3 (ipykernel)",
   "language": "python",
   "name": "python3"
  },
  "language_info": {
   "codemirror_mode": {
    "name": "ipython",
    "version": 3
   },
   "file_extension": ".py",
   "mimetype": "text/x-python",
   "name": "python",
   "nbconvert_exporter": "python",
   "pygments_lexer": "ipython3",
   "version": "3.9.7"
  }
 },
 "nbformat": 4,
 "nbformat_minor": 5
}
