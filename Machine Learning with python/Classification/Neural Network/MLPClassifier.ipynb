{
 "cells": [
  {
   "cell_type": "code",
   "execution_count": 2,
   "id": "5975c50d",
   "metadata": {},
   "outputs": [],
   "source": [
    "import numpy as np\n",
    "from sklearn.neural_network import MLPClassifier"
   ]
  },
  {
   "cell_type": "code",
   "execution_count": 3,
   "id": "abbcb4c2",
   "metadata": {},
   "outputs": [],
   "source": [
    "x_train = np.array([[1,1],[3,3],[6,6],[7,7],[9,9]])\n",
    "y_train = np.array([0,0,1,1,1])"
   ]
  },
  {
   "cell_type": "code",
   "execution_count": 24,
   "id": "f6a0a359",
   "metadata": {},
   "outputs": [],
   "source": [
    "model = MLPClassifier(hidden_layer_sizes = (5) ,max_iter=110 , alpha = 1e-4 , solver = 'sgd',verbose = True,learning_rate_init = .1 )"
   ]
  },
  {
   "cell_type": "code",
   "execution_count": 25,
   "id": "64fcca1e",
   "metadata": {},
   "outputs": [],
   "source": [
    "second_model = MLPClassifier(hidden_layer_sizes = (7,3) ,max_iter=110 , alpha = 1e-4 , solver = 'sgd',verbose = True,learning_rate_init = .1 )"
   ]
  },
  {
   "cell_type": "code",
   "execution_count": 26,
   "id": "d8acaa0f",
   "metadata": {},
   "outputs": [
    {
     "name": "stdout",
     "output_type": "stream",
     "text": [
      "Iteration 1, loss = 0.68609109\n",
      "Iteration 2, loss = 0.64365520\n",
      "Iteration 3, loss = 0.60948825\n",
      "Iteration 4, loss = 0.56683997\n",
      "Iteration 5, loss = 0.52112265\n",
      "Iteration 6, loss = 0.47684936\n",
      "Iteration 7, loss = 0.43802842\n",
      "Iteration 8, loss = 0.40128352\n",
      "Iteration 9, loss = 0.36723104\n",
      "Iteration 10, loss = 0.33617917\n",
      "Iteration 11, loss = 0.30811485\n",
      "Iteration 12, loss = 0.28284967\n",
      "Iteration 13, loss = 0.26015980\n",
      "Iteration 14, loss = 0.23979698\n",
      "Iteration 15, loss = 0.22144498\n",
      "Iteration 16, loss = 0.20476909\n",
      "Iteration 17, loss = 0.18950712\n",
      "Iteration 18, loss = 0.17547200\n",
      "Iteration 19, loss = 0.16251760\n",
      "Iteration 20, loss = 0.15052978\n",
      "Iteration 21, loss = 0.13941992\n",
      "Iteration 22, loss = 0.12911751\n",
      "Iteration 23, loss = 0.11956542\n",
      "Iteration 24, loss = 0.11071541\n",
      "Iteration 25, loss = 0.10252476\n",
      "Iteration 26, loss = 0.09495431\n",
      "Iteration 27, loss = 0.08796710\n",
      "Iteration 28, loss = 0.08152760\n",
      "Iteration 29, loss = 0.07560126\n",
      "Iteration 30, loss = 0.07015434\n",
      "Iteration 31, loss = 0.06515393\n",
      "Iteration 32, loss = 0.06056808\n",
      "Iteration 33, loss = 0.05636591\n",
      "Iteration 34, loss = 0.05251779\n",
      "Iteration 35, loss = 0.04899549\n",
      "Iteration 36, loss = 0.04577229\n",
      "Iteration 37, loss = 0.04282303\n",
      "Iteration 38, loss = 0.04012421\n",
      "Iteration 39, loss = 0.03765392\n",
      "Iteration 40, loss = 0.03539192\n",
      "Iteration 41, loss = 0.03331952\n",
      "Iteration 42, loss = 0.03141957\n",
      "Iteration 43, loss = 0.02967635\n",
      "Iteration 44, loss = 0.02807554\n",
      "Iteration 45, loss = 0.02660405\n",
      "Iteration 46, loss = 0.02525002\n",
      "Iteration 47, loss = 0.02400268\n",
      "Iteration 48, loss = 0.02285226\n",
      "Iteration 49, loss = 0.02178993\n",
      "Iteration 50, loss = 0.02080768\n",
      "Iteration 51, loss = 0.01989829\n",
      "Iteration 52, loss = 0.01905523\n",
      "Iteration 53, loss = 0.01827260\n",
      "Iteration 54, loss = 0.01754507\n",
      "Iteration 55, loss = 0.01686783\n",
      "Iteration 56, loss = 0.01623651\n",
      "Iteration 57, loss = 0.01564719\n",
      "Iteration 58, loss = 0.01509630\n",
      "Iteration 59, loss = 0.01458063\n",
      "Iteration 60, loss = 0.01409726\n",
      "Iteration 61, loss = 0.01364355\n",
      "Iteration 62, loss = 0.01321711\n",
      "Iteration 63, loss = 0.01281576\n",
      "Iteration 64, loss = 0.01243752\n",
      "Iteration 65, loss = 0.01208062\n",
      "Iteration 66, loss = 0.01174340\n",
      "Iteration 67, loss = 0.01142440\n",
      "Iteration 68, loss = 0.01112225\n",
      "Iteration 69, loss = 0.01083572\n",
      "Iteration 70, loss = 0.01056368\n",
      "Iteration 71, loss = 0.01030511\n",
      "Iteration 72, loss = 0.01005906\n",
      "Iteration 73, loss = 0.00982468\n",
      "Iteration 74, loss = 0.00960116\n",
      "Iteration 75, loss = 0.00938778\n",
      "Iteration 76, loss = 0.00918388\n",
      "Iteration 77, loss = 0.00898885\n",
      "Iteration 78, loss = 0.00880212\n",
      "Iteration 79, loss = 0.00862318\n",
      "Iteration 80, loss = 0.00845154\n",
      "Iteration 81, loss = 0.00828676\n",
      "Iteration 82, loss = 0.00812844\n",
      "Iteration 83, loss = 0.00797619\n",
      "Iteration 84, loss = 0.00782967\n",
      "Iteration 85, loss = 0.00768856\n",
      "Iteration 86, loss = 0.00755256\n",
      "Iteration 87, loss = 0.00742137\n",
      "Iteration 88, loss = 0.00729476\n",
      "Iteration 89, loss = 0.00717247\n",
      "Iteration 90, loss = 0.00705429\n",
      "Iteration 91, loss = 0.00693999\n",
      "Iteration 92, loss = 0.00682940\n",
      "Iteration 93, loss = 0.00672231\n",
      "Iteration 94, loss = 0.00661858\n",
      "Iteration 95, loss = 0.00651802\n",
      "Iteration 96, loss = 0.00642051\n",
      "Iteration 97, loss = 0.00632589\n",
      "Iteration 98, loss = 0.00623403\n",
      "Iteration 99, loss = 0.00614482\n",
      "Iteration 100, loss = 0.00605813\n",
      "Iteration 101, loss = 0.00597385\n",
      "Iteration 102, loss = 0.00589189\n",
      "Iteration 103, loss = 0.00581215\n",
      "Iteration 104, loss = 0.00573453\n",
      "Iteration 105, loss = 0.00565895\n",
      "Iteration 106, loss = 0.00558533\n",
      "Training loss did not improve more than tol=0.000100 for 10 consecutive epochs. Stopping.\n"
     ]
    }
   ],
   "source": [
    "model.fit(x_train ,y_train );"
   ]
  },
  {
   "cell_type": "code",
   "execution_count": 27,
   "id": "e91d5838",
   "metadata": {},
   "outputs": [
    {
     "name": "stdout",
     "output_type": "stream",
     "text": [
      "Iteration 1, loss = 4.18620112\n",
      "Iteration 2, loss = 0.76812368\n",
      "Iteration 3, loss = 0.75020412\n",
      "Iteration 4, loss = 0.73260146\n",
      "Iteration 5, loss = 0.71647578\n",
      "Iteration 6, loss = 0.70264733\n",
      "Iteration 7, loss = 0.69157770\n",
      "Iteration 8, loss = 0.68339402\n",
      "Iteration 9, loss = 0.67794686\n",
      "Iteration 10, loss = 0.67488738\n",
      "Iteration 11, loss = 0.67374903\n",
      "Iteration 12, loss = 0.67402141\n",
      "Iteration 13, loss = 0.67520914\n",
      "Iteration 14, loss = 0.67687287\n",
      "Iteration 15, loss = 0.67865322\n",
      "Iteration 16, loss = 0.68028057\n",
      "Iteration 17, loss = 0.68157411\n",
      "Iteration 18, loss = 0.68243367\n",
      "Iteration 19, loss = 0.68282726\n",
      "Iteration 20, loss = 0.68277640\n",
      "Iteration 21, loss = 0.68234107\n",
      "Iteration 22, loss = 0.68160536\n",
      "Training loss did not improve more than tol=0.000100 for 10 consecutive epochs. Stopping.\n"
     ]
    }
   ],
   "source": [
    "second_model.fit(x_train ,y_train );"
   ]
  },
  {
   "cell_type": "code",
   "execution_count": 28,
   "id": "84e223ab",
   "metadata": {},
   "outputs": [
    {
     "data": {
      "text/plain": [
       "0.6"
      ]
     },
     "execution_count": 28,
     "metadata": {},
     "output_type": "execute_result"
    }
   ],
   "source": [
    "second_model.score(x_train ,y_train )"
   ]
  },
  {
   "cell_type": "code",
   "execution_count": 29,
   "id": "ddd6c3b2",
   "metadata": {},
   "outputs": [
    {
     "data": {
      "text/plain": [
       "1.0"
      ]
     },
     "execution_count": 29,
     "metadata": {},
     "output_type": "execute_result"
    }
   ],
   "source": [
    "model.score(x_train ,y_train )"
   ]
  },
  {
   "cell_type": "code",
   "execution_count": 30,
   "id": "e70a4a45",
   "metadata": {},
   "outputs": [],
   "source": [
    "x_test = np.array([[2,2],[0,0],[1,1]])\n",
    "y_test = np.array([0,0,1])"
   ]
  },
  {
   "cell_type": "code",
   "execution_count": 32,
   "id": "d4e4a0bc",
   "metadata": {},
   "outputs": [],
   "source": [
    "y_pred2 = second_model.predict(x_test)"
   ]
  },
  {
   "cell_type": "code",
   "execution_count": 31,
   "id": "872f3448",
   "metadata": {},
   "outputs": [],
   "source": [
    "y_pred = model.predict(x_test)"
   ]
  },
  {
   "cell_type": "code",
   "execution_count": 35,
   "id": "92720e8e",
   "metadata": {},
   "outputs": [
    {
     "data": {
      "text/plain": [
       "Text(0, 0.5, 'Predicted Y')"
      ]
     },
     "execution_count": 35,
     "metadata": {},
     "output_type": "execute_result"
    },
    {
     "data": {
      "image/png": "[encoded data removed]",
      "text/plain": [
       "<Figure size 432x288 with 1 Axes>"
      ]
     },
     "metadata": {},
     "output_type": "display_data"
    }
   ],
   "source": [
    "import matplotlib.pyplot as plt\n",
    "\n",
    "plt.xkcd();\n",
    "plt.scatter(y_test,y_pred)\n",
    "plt.title(\"predicted and real Y\")\n",
    "plt.xlabel(\"Real Y\")\n",
    "plt.ylabel(\"Predicted Y\")"
   ]
  },
  {
   "cell_type": "code",
   "execution_count": 38,
   "id": "9afb1cdc",
   "metadata": {},
   "outputs": [
    {
     "name": "stdout",
     "output_type": "stream",
     "text": [
      "[0 0 0]\n",
      "[1 1 1]\n"
     ]
    }
   ],
   "source": [
    "print(y_pred)\n",
    "print(y_pred2)"
   ]
  },
  {
   "cell_type": "code",
   "execution_count": 39,
   "id": "1baf847d",
   "metadata": {},
   "outputs": [
    {
     "data": {
      "text/plain": [
       "Text(0, 0.5, 'Predicted Y')"
      ]
     },
     "execution_count": 39,
     "metadata": {},
     "output_type": "execute_result"
    },
    {
     "data": {
      "image/png": "[encoded data removed]",
      "text/plain": [
       "<Figure size 432x288 with 1 Axes>"
      ]
     },
     "metadata": {},
     "output_type": "display_data"
    }
   ],
   "source": [
    "plt.scatter(y_test,y_pred2)\n",
    "plt.title(\"second predicted and real Y\")\n",
    "plt.xlabel(\"Real Y\")\n",
    "plt.ylabel(\"Predicted Y\")"
   ]
  }
 ],
 "metadata": {
  "kernelspec": {
   "display_name": "Python 3 (ipykernel)",
   "language": "python",
   "name": "python3"
  },
  "language_info": {
   "codemirror_mode": {
    "name": "ipython",
    "version": 3
   },
   "file_extension": ".py",
   "mimetype": "text/x-python",
   "name": "python",
   "nbconvert_exporter": "python",
   "pygments_lexer": "ipython3",
   "version": "3.9.7"
  }
 },
 "nbformat": 4,
 "nbformat_minor": 5
}
