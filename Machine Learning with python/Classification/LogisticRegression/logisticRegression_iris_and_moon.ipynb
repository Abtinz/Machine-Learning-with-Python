{
 "cells": [
  {
   "cell_type": "markdown",
   "id": "2e70b77f",
   "metadata": {},
   "source": [
    "# ! pip install mlxtend "
   ]
  },
  {
   "cell_type": "code",
   "execution_count": 3,
   "id": "33ad579e",
   "metadata": {},
   "outputs": [],
   "source": [
    "import matplotlib.pyplot as plt\n",
    "import numpy as np\n",
    "from sklearn.model_selection import train_test_split\n",
    "from sklearn.datasets import load_iris\n",
    "from sklearn.linear_model import LogisticRegression\n",
    "from mlxtend.plotting import plot_decision_regions"
   ]
  },
  {
   "cell_type": "code",
   "execution_count": 4,
   "id": "00bc5597",
   "metadata": {},
   "outputs": [],
   "source": [
    "x = load_iris().data[:,[0,1]]\n",
    "y = load_iris().target"
   ]
  },
  {
   "cell_type": "code",
   "execution_count": 5,
   "id": "57d4bf1f",
   "metadata": {},
   "outputs": [],
   "source": [
    "xtrain , xtest , ytrain , ytest = train_test_split(x,y,test_size = 0.1 , random_state = 3)"
   ]
  },
  {
   "cell_type": "code",
   "execution_count": 6,
   "id": "640b1f6f",
   "metadata": {},
   "outputs": [],
   "source": [
    "model = LogisticRegression(solver = 'sag' ,  multi_class = 'multinomial' , C = 1e5)"
   ]
  },
  {
   "cell_type": "code",
   "execution_count": 7,
   "id": "5ff17d6c",
   "metadata": {},
   "outputs": [],
   "source": [
    "%%capture\n",
    "model.fit(xtrain , ytrain);"
   ]
  },
  {
   "cell_type": "code",
   "execution_count": null,
   "id": "eaceab58",
   "metadata": {},
   "outputs": [],
   "source": []
  }
 ],
 "metadata": {
  "kernelspec": {
   "display_name": "Python 3 (ipykernel)",
   "language": "python",
   "name": "python3"
  },
  "language_info": {
   "codemirror_mode": {
    "name": "ipython",
    "version": 3
   },
   "file_extension": ".py",
   "mimetype": "text/x-python",
   "name": "python",
   "nbconvert_exporter": "python",
   "pygments_lexer": "ipython3",
   "version": "3.9.7"
  }
 },
 "nbformat": 4,
 "nbformat_minor": 5
}
