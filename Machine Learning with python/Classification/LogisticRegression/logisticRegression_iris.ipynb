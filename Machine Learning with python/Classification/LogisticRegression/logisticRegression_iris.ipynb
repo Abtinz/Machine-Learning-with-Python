{
 "cells": [
  {
   "cell_type": "code",
   "execution_count": 2,
   "id": "3e2bef18",
   "metadata": {},
   "outputs": [],
   "source": [
    "from sklearn.datasets import load_iris\n",
    "from sklearn.linear_model import LogisticRegression\n",
    "import numpy as np"
   ]
  },
  {
   "cell_type": "code",
   "execution_count": 3,
   "id": "6b45058a",
   "metadata": {},
   "outputs": [],
   "source": [
    "X , y = load_iris(return_X_y = True)\n",
    "#Y --> 0 ,1"
   ]
  },
  {
   "cell_type": "code",
   "execution_count": 10,
   "id": "586d0104",
   "metadata": {},
   "outputs": [
    {
     "data": {
      "text/plain": [
       "array([[5.1, 3.5, 1.4, 0.2],\n",
       "       [4.9, 3. , 1.4, 0.2],\n",
       "       [4.7, 3.2, 1.3, 0.2],\n",
       "       [4.6, 3.1, 1.5, 0.2],\n",
       "       [5. , 3.6, 1.4, 0.2],\n",
       "       [5.4, 3.9, 1.7, 0.4],\n",
       "       [4.6, 3.4, 1.4, 0.3],\n",
       "       [5. , 3.4, 1.5, 0.2],\n",
       "       [4.4, 2.9, 1.4, 0.2],\n",
       "       [4.9, 3.1, 1.5, 0.1],\n",
       "       [5.4, 3.7, 1.5, 0.2],\n",
       "       [4.8, 3.4, 1.6, 0.2],\n",
       "       [4.8, 3. , 1.4, 0.1],\n",
       "       [4.3, 3. , 1.1, 0.1],\n",
       "       [5.8, 4. , 1.2, 0.2],\n",
       "       [5.7, 4.4, 1.5, 0.4],\n",
       "       [5.4, 3.9, 1.3, 0.4],\n",
       "       [5.1, 3.5, 1.4, 0.3]])"
      ]
     },
     "execution_count": 10,
     "metadata": {},
     "output_type": "execute_result"
    }
   ],
   "source": [
    "X[:18]"
   ]
  },
  {
   "cell_type": "code",
   "execution_count": 16,
   "id": "70c5ca56",
   "metadata": {},
   "outputs": [],
   "source": [
    "clf = LogisticRegression(solver = 'sag' , multi_class = 'multinomial' , penalty = 'l2')"
   ]
  },
  {
   "cell_type": "code",
   "execution_count": 17,
   "id": "96badbda",
   "metadata": {},
   "outputs": [],
   "source": [
    "%%capture\n",
    "clf .fit(X , y);"
   ]
  },
  {
   "cell_type": "code",
   "execution_count": 12,
   "id": "a29b57a8",
   "metadata": {},
   "outputs": [],
   "source": [
    "xtest = np.array([[5.4, 3.9, 1.7, 0.4],[4.8, 3.4, 1.6, 0.2],[4.7, 3.2, 1.3, 0.2],[5.8, 4. , 1.2, 0.2]])"
   ]
  },
  {
   "cell_type": "code",
   "execution_count": 18,
   "id": "0d6ea0f7",
   "metadata": {},
   "outputs": [
    {
     "data": {
      "text/plain": [
       "array([0, 0, 0, 0])"
      ]
     },
     "execution_count": 18,
     "metadata": {},
     "output_type": "execute_result"
    }
   ],
   "source": [
    "clf.predict(xtest)"
   ]
  },
  {
   "cell_type": "code",
   "execution_count": 20,
   "id": "c69bb58f",
   "metadata": {},
   "outputs": [
    {
     "name": "stdout",
     "output_type": "stream",
     "text": [
      "0 0 0 0\n"
     ]
    }
   ],
   "source": [
    "print(y[5],y[11],y[2],y[14])"
   ]
  },
  {
   "cell_type": "code",
   "execution_count": 21,
   "id": "d38dc6e5",
   "metadata": {},
   "outputs": [
    {
     "data": {
      "text/plain": [
       "0.9866666666666667"
      ]
     },
     "execution_count": 21,
     "metadata": {},
     "output_type": "execute_result"
    }
   ],
   "source": [
    "clf.score(X,y)"
   ]
  },
  {
   "cell_type": "code",
   "execution_count": 23,
   "id": "65af565f",
   "metadata": {},
   "outputs": [
    {
     "data": {
      "text/plain": [
       "array([[9.84633708e-01, 1.53661333e-02, 1.58531133e-07],\n",
       "       [9.65205844e-01, 3.47935640e-02, 5.91971750e-07],\n",
       "       [9.73841635e-01, 2.61580618e-02, 3.03129708e-07],\n",
       "       [9.96478374e-01, 3.52162285e-03, 3.05856060e-09]])"
      ]
     },
     "execution_count": 23,
     "metadata": {},
     "output_type": "execute_result"
    }
   ],
   "source": [
    "clf.predict_proba(xtest)"
   ]
  }
 ],
 "metadata": {
  "kernelspec": {
   "display_name": "Python 3 (ipykernel)",
   "language": "python",
   "name": "python3"
  },
  "language_info": {
   "codemirror_mode": {
    "name": "ipython",
    "version": 3
   },
   "file_extension": ".py",
   "mimetype": "text/x-python",
   "name": "python",
   "nbconvert_exporter": "python",
   "pygments_lexer": "ipython3",
   "version": "3.9.7"
  }
 },
 "nbformat": 4,
 "nbformat_minor": 5
}
