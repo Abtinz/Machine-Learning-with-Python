{
 "cells": [
  {
   "cell_type": "markdown",
   "id": "f1ebe1ed03240222",
   "metadata": {
    "collapsed": false
   },
   "source": [
    "<h1 align=center style=\"line-height:300%;font-family:vazir;color:#0099cc\">\n",
    "<font face=\"vazir\" color=\"#0099cc\">\n",
    "پروژه دوم درس داده کاوی\n",
    "</font>\n",
    "</h1>\n",
    "<h3 align=center style=\"line-height:100%;font-family:vazir;color:#0099cc\">\n",
    "استاد درس: دکتر ناظرفرد\n",
    "</h3>\n",
    "<h5 align=center style=\"font-size: 20px;line-height:100%;font-family:vazir;color:#0099cc\">\n",
    "طراح تمرین عملی: فرهاد امان  \n",
    "    </h5>"
   ]
  },
  {
   "cell_type": "markdown",
   "id": "8a5cceb20243cb51",
   "metadata": {
    "collapsed": false
   },
   "source": [
    "## Importing Libraries"
   ]
  },
  {
   "cell_type": "code",
   "execution_count": 2,
   "id": "513c007129509625",
   "metadata": {
    "ExecuteTime": {
     "end_time": "2024-04-27T22:39:08.679611Z",
     "start_time": "2024-04-27T22:39:08.677798Z"
    },
    "collapsed": false
   },
   "outputs": [],
   "source": [
    "import numpy as np\n",
    "import pandas as pd\n",
    "import matplotlib.pyplot as plt\n",
    "\n",
    "#we will need this imports for preprocessing sections\n",
    "from sklearn.preprocessing import StandardScaler, OneHotEncoder, LabelEncoder "
   ]
  },
  {
   "cell_type": "code",
   "execution_count": 3,
   "id": "512beb90",
   "metadata": {},
   "outputs": [],
   "source": [
    "#importing models\n",
    "from sklearn.linear_model import LinearRegression\n",
    "from sklearn.preprocessing import PolynomialFeatures\n",
    "from sklearn.linear_model import LinearRegression\n",
    "from sklearn.linear_model import Ridge\n",
    "from sklearn.linear_model import Lasso\n",
    "from sklearn.linear_model import ElasticNet\n",
    "from xgboost import XGBRegressor"
   ]
  },
  {
   "cell_type": "markdown",
   "id": "f4016a2a80b807de",
   "metadata": {
    "collapsed": false
   },
   "source": [
    "## Loading Data to Pandas DataFrame"
   ]
  },
  {
   "cell_type": "code",
   "execution_count": 4,
   "id": "d29b38dfb701904b",
   "metadata": {
    "ExecuteTime": {
     "end_time": "2024-04-27T22:39:11.202352Z",
     "start_time": "2024-04-27T22:39:11.199816Z"
    },
    "collapsed": false
   },
   "outputs": [
    {
     "data": {
      "text/html": [
       "<div>\n",
       "<style scoped>\n",
       "    .dataframe tbody tr th:only-of-type {\n",
       "        vertical-align: middle;\n",
       "    }\n",
       "\n",
       "    .dataframe tbody tr th {\n",
       "        vertical-align: top;\n",
       "    }\n",
       "\n",
       "    .dataframe thead th {\n",
       "        text-align: right;\n",
       "    }\n",
       "</style>\n",
       "<table border=\"1\" class=\"dataframe\">\n",
       "  <thead>\n",
       "    <tr style=\"text-align: right;\">\n",
       "      <th></th>\n",
       "      <th>No</th>\n",
       "      <th>X1 transaction date</th>\n",
       "      <th>X2 house age</th>\n",
       "      <th>X3 distance to the nearest MRT station</th>\n",
       "      <th>X4 number of convenience stores</th>\n",
       "      <th>X5 latitude</th>\n",
       "      <th>X6 longitude</th>\n",
       "      <th>Y house price of unit area</th>\n",
       "    </tr>\n",
       "  </thead>\n",
       "  <tbody>\n",
       "    <tr>\n",
       "      <th>0</th>\n",
       "      <td>1</td>\n",
       "      <td>2012.917</td>\n",
       "      <td>32.0</td>\n",
       "      <td>84.87882</td>\n",
       "      <td>10</td>\n",
       "      <td>24.98298</td>\n",
       "      <td>121.54024</td>\n",
       "      <td>37.9</td>\n",
       "    </tr>\n",
       "    <tr>\n",
       "      <th>1</th>\n",
       "      <td>2</td>\n",
       "      <td>2012.917</td>\n",
       "      <td>19.5</td>\n",
       "      <td>306.59470</td>\n",
       "      <td>9</td>\n",
       "      <td>24.98034</td>\n",
       "      <td>121.53951</td>\n",
       "      <td>42.2</td>\n",
       "    </tr>\n",
       "    <tr>\n",
       "      <th>2</th>\n",
       "      <td>3</td>\n",
       "      <td>2013.583</td>\n",
       "      <td>13.3</td>\n",
       "      <td>561.98450</td>\n",
       "      <td>5</td>\n",
       "      <td>24.98746</td>\n",
       "      <td>121.54391</td>\n",
       "      <td>47.3</td>\n",
       "    </tr>\n",
       "    <tr>\n",
       "      <th>3</th>\n",
       "      <td>4</td>\n",
       "      <td>2013.500</td>\n",
       "      <td>13.3</td>\n",
       "      <td>561.98450</td>\n",
       "      <td>5</td>\n",
       "      <td>24.98746</td>\n",
       "      <td>121.54391</td>\n",
       "      <td>54.8</td>\n",
       "    </tr>\n",
       "    <tr>\n",
       "      <th>4</th>\n",
       "      <td>5</td>\n",
       "      <td>2012.833</td>\n",
       "      <td>5.0</td>\n",
       "      <td>390.56840</td>\n",
       "      <td>5</td>\n",
       "      <td>24.97937</td>\n",
       "      <td>121.54245</td>\n",
       "      <td>43.1</td>\n",
       "    </tr>\n",
       "    <tr>\n",
       "      <th>5</th>\n",
       "      <td>6</td>\n",
       "      <td>2012.667</td>\n",
       "      <td>7.1</td>\n",
       "      <td>2175.03000</td>\n",
       "      <td>3</td>\n",
       "      <td>24.96305</td>\n",
       "      <td>121.51254</td>\n",
       "      <td>32.1</td>\n",
       "    </tr>\n",
       "    <tr>\n",
       "      <th>6</th>\n",
       "      <td>7</td>\n",
       "      <td>2012.667</td>\n",
       "      <td>34.5</td>\n",
       "      <td>623.47310</td>\n",
       "      <td>7</td>\n",
       "      <td>24.97933</td>\n",
       "      <td>121.53642</td>\n",
       "      <td>40.3</td>\n",
       "    </tr>\n",
       "    <tr>\n",
       "      <th>7</th>\n",
       "      <td>8</td>\n",
       "      <td>2013.417</td>\n",
       "      <td>20.3</td>\n",
       "      <td>287.60250</td>\n",
       "      <td>6</td>\n",
       "      <td>24.98042</td>\n",
       "      <td>121.54228</td>\n",
       "      <td>46.7</td>\n",
       "    </tr>\n",
       "    <tr>\n",
       "      <th>8</th>\n",
       "      <td>9</td>\n",
       "      <td>2013.500</td>\n",
       "      <td>31.7</td>\n",
       "      <td>5512.03800</td>\n",
       "      <td>1</td>\n",
       "      <td>24.95095</td>\n",
       "      <td>121.48458</td>\n",
       "      <td>18.8</td>\n",
       "    </tr>\n",
       "    <tr>\n",
       "      <th>9</th>\n",
       "      <td>10</td>\n",
       "      <td>2013.417</td>\n",
       "      <td>17.9</td>\n",
       "      <td>1783.18000</td>\n",
       "      <td>3</td>\n",
       "      <td>24.96731</td>\n",
       "      <td>121.51486</td>\n",
       "      <td>22.1</td>\n",
       "    </tr>\n",
       "    <tr>\n",
       "      <th>10</th>\n",
       "      <td>11</td>\n",
       "      <td>2013.083</td>\n",
       "      <td>34.8</td>\n",
       "      <td>405.21340</td>\n",
       "      <td>1</td>\n",
       "      <td>24.97349</td>\n",
       "      <td>121.53372</td>\n",
       "      <td>41.4</td>\n",
       "    </tr>\n",
       "    <tr>\n",
       "      <th>11</th>\n",
       "      <td>12</td>\n",
       "      <td>2013.333</td>\n",
       "      <td>6.3</td>\n",
       "      <td>90.45606</td>\n",
       "      <td>9</td>\n",
       "      <td>24.97433</td>\n",
       "      <td>121.54310</td>\n",
       "      <td>58.1</td>\n",
       "    </tr>\n",
       "    <tr>\n",
       "      <th>12</th>\n",
       "      <td>13</td>\n",
       "      <td>2012.917</td>\n",
       "      <td>13.0</td>\n",
       "      <td>492.23130</td>\n",
       "      <td>5</td>\n",
       "      <td>24.96515</td>\n",
       "      <td>121.53737</td>\n",
       "      <td>39.3</td>\n",
       "    </tr>\n",
       "    <tr>\n",
       "      <th>13</th>\n",
       "      <td>14</td>\n",
       "      <td>2012.667</td>\n",
       "      <td>20.4</td>\n",
       "      <td>2469.64500</td>\n",
       "      <td>4</td>\n",
       "      <td>24.96108</td>\n",
       "      <td>121.51046</td>\n",
       "      <td>23.8</td>\n",
       "    </tr>\n",
       "    <tr>\n",
       "      <th>14</th>\n",
       "      <td>15</td>\n",
       "      <td>2013.500</td>\n",
       "      <td>13.2</td>\n",
       "      <td>1164.83800</td>\n",
       "      <td>4</td>\n",
       "      <td>24.99156</td>\n",
       "      <td>121.53406</td>\n",
       "      <td>34.3</td>\n",
       "    </tr>\n",
       "  </tbody>\n",
       "</table>\n",
       "</div>"
      ],
      "text/plain": [
       "    No  X1 transaction date  X2 house age  \\\n",
       "0    1             2012.917          32.0   \n",
       "1    2             2012.917          19.5   \n",
       "2    3             2013.583          13.3   \n",
       "3    4             2013.500          13.3   \n",
       "4    5             2012.833           5.0   \n",
       "5    6             2012.667           7.1   \n",
       "6    7             2012.667          34.5   \n",
       "7    8             2013.417          20.3   \n",
       "8    9             2013.500          31.7   \n",
       "9   10             2013.417          17.9   \n",
       "10  11             2013.083          34.8   \n",
       "11  12             2013.333           6.3   \n",
       "12  13             2012.917          13.0   \n",
       "13  14             2012.667          20.4   \n",
       "14  15             2013.500          13.2   \n",
       "\n",
       "    X3 distance to the nearest MRT station  X4 number of convenience stores  \\\n",
       "0                                 84.87882                               10   \n",
       "1                                306.59470                                9   \n",
       "2                                561.98450                                5   \n",
       "3                                561.98450                                5   \n",
       "4                                390.56840                                5   \n",
       "5                               2175.03000                                3   \n",
       "6                                623.47310                                7   \n",
       "7                                287.60250                                6   \n",
       "8                               5512.03800                                1   \n",
       "9                               1783.18000                                3   \n",
       "10                               405.21340                                1   \n",
       "11                                90.45606                                9   \n",
       "12                               492.23130                                5   \n",
       "13                              2469.64500                                4   \n",
       "14                              1164.83800                                4   \n",
       "\n",
       "    X5 latitude  X6 longitude  Y house price of unit area  \n",
       "0      24.98298     121.54024                        37.9  \n",
       "1      24.98034     121.53951                        42.2  \n",
       "2      24.98746     121.54391                        47.3  \n",
       "3      24.98746     121.54391                        54.8  \n",
       "4      24.97937     121.54245                        43.1  \n",
       "5      24.96305     121.51254                        32.1  \n",
       "6      24.97933     121.53642                        40.3  \n",
       "7      24.98042     121.54228                        46.7  \n",
       "8      24.95095     121.48458                        18.8  \n",
       "9      24.96731     121.51486                        22.1  \n",
       "10     24.97349     121.53372                        41.4  \n",
       "11     24.97433     121.54310                        58.1  \n",
       "12     24.96515     121.53737                        39.3  \n",
       "13     24.96108     121.51046                        23.8  \n",
       "14     24.99156     121.53406                        34.3  "
      ]
     },
     "execution_count": 4,
     "metadata": {},
     "output_type": "execute_result"
    }
   ],
   "source": [
    "df = pd.read_csv(\"./real-estate.csv\")\n",
    "df.head(15)"
   ]
  },
  {
   "cell_type": "markdown",
   "id": "7a82dd9cdac10809",
   "metadata": {
    "collapsed": false
   },
   "source": [
    "## Droping Unnecessary Columns"
   ]
  },
  {
   "cell_type": "code",
   "execution_count": null,
   "id": "d2c43acc649ad598",
   "metadata": {
    "ExecuteTime": {
     "end_time": "2024-04-27T22:39:14.866814Z",
     "start_time": "2024-04-27T22:39:14.863656Z"
    },
    "collapsed": false
   },
   "outputs": [],
   "source": []
  },
  {
   "cell_type": "markdown",
   "id": "90b80fb323fb1cb3",
   "metadata": {
    "collapsed": false
   },
   "source": [
    "## Splitting Data to Train and Test"
   ]
  },
  {
   "cell_type": "code",
   "execution_count": null,
   "id": "44527331bef11c93",
   "metadata": {
    "ExecuteTime": {
     "end_time": "2024-04-27T22:39:18.483566Z",
     "start_time": "2024-04-27T22:39:18.480011Z"
    },
    "collapsed": false
   },
   "outputs": [],
   "source": []
  },
  {
   "cell_type": "markdown",
   "id": "45b13a1182adba70",
   "metadata": {
    "collapsed": false
   },
   "source": [
    "## Visualizing Data Distribution and Correlation"
   ]
  },
  {
   "cell_type": "code",
   "execution_count": null,
   "id": "7b7fb9f4b420ef65",
   "metadata": {
    "ExecuteTime": {
     "end_time": "2024-04-27T22:39:31.934602Z",
     "start_time": "2024-04-27T22:39:31.931769Z"
    },
    "collapsed": false
   },
   "outputs": [],
   "source": []
  },
  {
   "cell_type": "code",
   "execution_count": null,
   "id": "8e0a6a6792f507d0",
   "metadata": {
    "ExecuteTime": {
     "end_time": "2024-04-27T22:39:32.186119Z",
     "start_time": "2024-04-27T22:39:32.184328Z"
    },
    "collapsed": false
   },
   "outputs": [],
   "source": []
  },
  {
   "cell_type": "code",
   "execution_count": null,
   "id": "64e0f4c96e2498da",
   "metadata": {
    "ExecuteTime": {
     "end_time": "2024-04-27T22:39:34.724574Z",
     "start_time": "2024-04-27T22:39:34.722790Z"
    },
    "collapsed": false
   },
   "outputs": [],
   "source": []
  },
  {
   "cell_type": "markdown",
   "id": "cb32dee165bfc767",
   "metadata": {
    "collapsed": false
   },
   "source": [
    "## Linear Regression"
   ]
  },
  {
   "cell_type": "code",
   "execution_count": null,
   "id": "f8fc073d777ee178",
   "metadata": {
    "ExecuteTime": {
     "end_time": "2024-04-27T22:39:38.500428Z",
     "start_time": "2024-04-27T22:39:38.497442Z"
    },
    "collapsed": false
   },
   "outputs": [],
   "source": []
  },
  {
   "cell_type": "markdown",
   "id": "f2a6ec5f88f7f7e0",
   "metadata": {
    "collapsed": false
   },
   "source": [
    "## Polynomial Regression"
   ]
  },
  {
   "cell_type": "code",
   "execution_count": null,
   "id": "b821590bcec1b57",
   "metadata": {
    "ExecuteTime": {
     "end_time": "2024-04-27T22:39:41.951561Z",
     "start_time": "2024-04-27T22:39:41.949418Z"
    },
    "collapsed": false
   },
   "outputs": [],
   "source": []
  },
  {
   "cell_type": "markdown",
   "id": "ca0893b45bcbeeef",
   "metadata": {
    "collapsed": false
   },
   "source": [
    "## Ridge Regression"
   ]
  },
  {
   "cell_type": "code",
   "execution_count": null,
   "id": "26515c29b9b71ae1",
   "metadata": {
    "ExecuteTime": {
     "end_time": "2024-04-27T22:39:45.585869Z",
     "start_time": "2024-04-27T22:39:45.582856Z"
    },
    "collapsed": false
   },
   "outputs": [],
   "source": []
  },
  {
   "cell_type": "markdown",
   "id": "dc099ac9d4c684cf",
   "metadata": {
    "collapsed": false
   },
   "source": [
    "## Lasso Regression"
   ]
  },
  {
   "cell_type": "code",
   "execution_count": null,
   "id": "9f7f9365e54d1d2a",
   "metadata": {
    "ExecuteTime": {
     "end_time": "2024-04-27T22:39:49.267279Z",
     "start_time": "2024-04-27T22:39:49.264334Z"
    },
    "collapsed": false
   },
   "outputs": [],
   "source": []
  },
  {
   "cell_type": "markdown",
   "id": "2db7ffa9dc5c164a",
   "metadata": {
    "collapsed": false
   },
   "source": [
    "## Elastic Net Regression"
   ]
  },
  {
   "cell_type": "code",
   "execution_count": null,
   "id": "7e3e21c82caafbaf",
   "metadata": {
    "ExecuteTime": {
     "end_time": "2024-04-27T22:39:52.916126Z",
     "start_time": "2024-04-27T22:39:52.913336Z"
    },
    "collapsed": false
   },
   "outputs": [],
   "source": []
  },
  {
   "cell_type": "markdown",
   "id": "57a6793d329b39c1",
   "metadata": {
    "collapsed": false
   },
   "source": [
    "## XGBoost Regression "
   ]
  },
  {
   "cell_type": "code",
   "execution_count": null,
   "id": "e2aa7f74e22f6129",
   "metadata": {
    "ExecuteTime": {
     "end_time": "2024-04-27T22:39:56.413160Z",
     "start_time": "2024-04-27T22:39:56.410201Z"
    },
    "collapsed": false
   },
   "outputs": [],
   "source": []
  },
  {
   "cell_type": "markdown",
   "id": "ef3c55fb0ba403b1",
   "metadata": {
    "collapsed": false
   },
   "source": [
    "# Assosiation Rules"
   ]
  },
  {
   "cell_type": "code",
   "execution_count": 1,
   "id": "6ec4ab3c04abf483",
   "metadata": {
    "ExecuteTime": {
     "end_time": "2024-04-27T22:40:26.022192Z",
     "start_time": "2024-04-27T22:40:26.018139Z"
    },
    "collapsed": false
   },
   "outputs": [],
   "source": [
    "# 0. Import Libraries\n",
    "\n",
    "\n",
    "# 1. Data Loading\n",
    "\n",
    "\n",
    "# 2. Preprocess Data\n",
    "\n",
    "\n",
    "# 3. Apply TransactionEncoder\n",
    "\n",
    "\n",
    "# 4. Generate Frequent Itemsets\n",
    "\n",
    "\n",
    "# 5. Generate Association Rules\n",
    "\n",
    "\n",
    "# 6. Display Rules\n",
    "\n"
   ]
  },
  {
   "cell_type": "code",
   "execution_count": null,
   "id": "642037372a897727",
   "metadata": {
    "collapsed": false
   },
   "outputs": [],
   "source": []
  }
 ],
 "metadata": {
  "kernelspec": {
   "display_name": "Python 3",
   "language": "python",
   "name": "python3"
  },
  "language_info": {
   "codemirror_mode": {
    "name": "ipython",
    "version": 3
   },
   "file_extension": ".py",
   "mimetype": "text/x-python",
   "name": "python",
   "nbconvert_exporter": "python",
   "pygments_lexer": "ipython3",
   "version": "3.10.9"
  }
 },
 "nbformat": 4,
 "nbformat_minor": 5
}
