{
 "cells": [
  {
   "cell_type": "markdown",
   "id": "f1ebe1ed03240222",
   "metadata": {
    "collapsed": false
   },
   "source": [
    "<h1 align=center style=\"line-height:300%;font-family:vazir;color:#0099cc\">\n",
    "<font face=\"vazir\" color=\"#0099cc\">\n",
    "پروژه دوم درس داده کاوی\n",
    "</font>\n",
    "</h1>\n",
    "<h3 align=center style=\"line-height:100%;font-family:vazir;color:#0099cc\">\n",
    "استاد درس: دکتر ناظرفرد\n",
    "</h3>\n",
    "<h5 align=center style=\"font-size: 20px;line-height:100%;font-family:vazir;color:#0099cc\">\n",
    "طراح تمرین عملی: فرهاد امان  \n",
    "    </h5>"
   ]
  },
  {
   "cell_type": "markdown",
   "id": "8a5cceb20243cb51",
   "metadata": {
    "collapsed": false
   },
   "source": [
    "## Importing Libraries"
   ]
  },
  {
   "cell_type": "code",
   "execution_count": 71,
   "id": "513c007129509625",
   "metadata": {
    "ExecuteTime": {
     "end_time": "2024-04-27T22:39:08.679611Z",
     "start_time": "2024-04-27T22:39:08.677798Z"
    },
    "collapsed": false
   },
   "outputs": [],
   "source": [
    "import numpy as np\n",
    "import pandas as pd\n",
    "import matplotlib.pyplot as plt\n",
    "\n",
    "#we will need this imports for preprocessing sections\n",
    "from sklearn.preprocessing import StandardScaler,MinMaxScaler\n",
    "from sklearn.model_selection import train_test_split"
   ]
  },
  {
   "cell_type": "code",
   "execution_count": 93,
   "id": "512beb90",
   "metadata": {},
   "outputs": [],
   "source": [
    "#importing models\n",
    "from sklearn.linear_model import LinearRegression\n",
    "from sklearn.preprocessing import PolynomialFeatures\n",
    "from sklearn.linear_model import LinearRegression\n",
    "from sklearn.linear_model import Ridge\n",
    "from sklearn.linear_model import Lasso\n",
    "from sklearn.linear_model import ElasticNet\n",
    "from sklearn.metrics import mean_squared_error, r2_score\n",
    "from xgboost import XGBRegressor"
   ]
  },
  {
   "cell_type": "markdown",
   "id": "f4016a2a80b807de",
   "metadata": {
    "collapsed": false
   },
   "source": [
    "## Loading Data to Pandas DataFrame"
   ]
  },
  {
   "cell_type": "code",
   "execution_count": 96,
   "id": "d29b38dfb701904b",
   "metadata": {
    "ExecuteTime": {
     "end_time": "2024-04-27T22:39:11.202352Z",
     "start_time": "2024-04-27T22:39:11.199816Z"
    },
    "collapsed": false
   },
   "outputs": [
    {
     "data": {
      "text/html": [
       "<div>\n",
       "<style scoped>\n",
       "    .dataframe tbody tr th:only-of-type {\n",
       "        vertical-align: middle;\n",
       "    }\n",
       "\n",
       "    .dataframe tbody tr th {\n",
       "        vertical-align: top;\n",
       "    }\n",
       "\n",
       "    .dataframe thead th {\n",
       "        text-align: right;\n",
       "    }\n",
       "</style>\n",
       "<table border=\"1\" class=\"dataframe\">\n",
       "  <thead>\n",
       "    <tr style=\"text-align: right;\">\n",
       "      <th></th>\n",
       "      <th>No</th>\n",
       "      <th>X1 transaction date</th>\n",
       "      <th>X2 house age</th>\n",
       "      <th>X3 distance to the nearest MRT station</th>\n",
       "      <th>X4 number of convenience stores</th>\n",
       "      <th>X5 latitude</th>\n",
       "      <th>X6 longitude</th>\n",
       "      <th>Y house price of unit area</th>\n",
       "    </tr>\n",
       "  </thead>\n",
       "  <tbody>\n",
       "    <tr>\n",
       "      <th>0</th>\n",
       "      <td>1</td>\n",
       "      <td>2012.917</td>\n",
       "      <td>32.0</td>\n",
       "      <td>84.87882</td>\n",
       "      <td>10</td>\n",
       "      <td>24.98298</td>\n",
       "      <td>121.54024</td>\n",
       "      <td>37.9</td>\n",
       "    </tr>\n",
       "    <tr>\n",
       "      <th>1</th>\n",
       "      <td>2</td>\n",
       "      <td>2012.917</td>\n",
       "      <td>19.5</td>\n",
       "      <td>306.59470</td>\n",
       "      <td>9</td>\n",
       "      <td>24.98034</td>\n",
       "      <td>121.53951</td>\n",
       "      <td>42.2</td>\n",
       "    </tr>\n",
       "    <tr>\n",
       "      <th>2</th>\n",
       "      <td>3</td>\n",
       "      <td>2013.583</td>\n",
       "      <td>13.3</td>\n",
       "      <td>561.98450</td>\n",
       "      <td>5</td>\n",
       "      <td>24.98746</td>\n",
       "      <td>121.54391</td>\n",
       "      <td>47.3</td>\n",
       "    </tr>\n",
       "    <tr>\n",
       "      <th>3</th>\n",
       "      <td>4</td>\n",
       "      <td>2013.500</td>\n",
       "      <td>13.3</td>\n",
       "      <td>561.98450</td>\n",
       "      <td>5</td>\n",
       "      <td>24.98746</td>\n",
       "      <td>121.54391</td>\n",
       "      <td>54.8</td>\n",
       "    </tr>\n",
       "    <tr>\n",
       "      <th>4</th>\n",
       "      <td>5</td>\n",
       "      <td>2012.833</td>\n",
       "      <td>5.0</td>\n",
       "      <td>390.56840</td>\n",
       "      <td>5</td>\n",
       "      <td>24.97937</td>\n",
       "      <td>121.54245</td>\n",
       "      <td>43.1</td>\n",
       "    </tr>\n",
       "  </tbody>\n",
       "</table>\n",
       "</div>"
      ],
      "text/plain": [
       "   No  X1 transaction date  X2 house age  \\\n",
       "0   1             2012.917          32.0   \n",
       "1   2             2012.917          19.5   \n",
       "2   3             2013.583          13.3   \n",
       "3   4             2013.500          13.3   \n",
       "4   5             2012.833           5.0   \n",
       "\n",
       "   X3 distance to the nearest MRT station  X4 number of convenience stores  \\\n",
       "0                                84.87882                               10   \n",
       "1                               306.59470                                9   \n",
       "2                               561.98450                                5   \n",
       "3                               561.98450                                5   \n",
       "4                               390.56840                                5   \n",
       "\n",
       "   X5 latitude  X6 longitude  Y house price of unit area  \n",
       "0     24.98298     121.54024                        37.9  \n",
       "1     24.98034     121.53951                        42.2  \n",
       "2     24.98746     121.54391                        47.3  \n",
       "3     24.98746     121.54391                        54.8  \n",
       "4     24.97937     121.54245                        43.1  "
      ]
     },
     "execution_count": 96,
     "metadata": {},
     "output_type": "execute_result"
    }
   ],
   "source": [
    "df = pd.read_csv(\"./real-estate.csv\")\n",
    "df.head(5)"
   ]
  },
  {
   "cell_type": "code",
   "execution_count": 97,
   "id": "0112ac0b",
   "metadata": {},
   "outputs": [
    {
     "data": {
      "text/html": [
       "<div>\n",
       "<style scoped>\n",
       "    .dataframe tbody tr th:only-of-type {\n",
       "        vertical-align: middle;\n",
       "    }\n",
       "\n",
       "    .dataframe tbody tr th {\n",
       "        vertical-align: top;\n",
       "    }\n",
       "\n",
       "    .dataframe thead th {\n",
       "        text-align: right;\n",
       "    }\n",
       "</style>\n",
       "<table border=\"1\" class=\"dataframe\">\n",
       "  <thead>\n",
       "    <tr style=\"text-align: right;\">\n",
       "      <th></th>\n",
       "      <th>No</th>\n",
       "      <th>X1 transaction date</th>\n",
       "      <th>X2 house age</th>\n",
       "      <th>X3 distance to the nearest MRT station</th>\n",
       "      <th>X4 number of convenience stores</th>\n",
       "      <th>X5 latitude</th>\n",
       "      <th>X6 longitude</th>\n",
       "      <th>Y house price of unit area</th>\n",
       "    </tr>\n",
       "  </thead>\n",
       "  <tbody>\n",
       "    <tr>\n",
       "      <th>count</th>\n",
       "      <td>414.000000</td>\n",
       "      <td>414.000000</td>\n",
       "      <td>414.000000</td>\n",
       "      <td>414.000000</td>\n",
       "      <td>414.000000</td>\n",
       "      <td>414.000000</td>\n",
       "      <td>414.000000</td>\n",
       "      <td>414.000000</td>\n",
       "    </tr>\n",
       "    <tr>\n",
       "      <th>mean</th>\n",
       "      <td>207.500000</td>\n",
       "      <td>2013.148971</td>\n",
       "      <td>17.712560</td>\n",
       "      <td>1083.885689</td>\n",
       "      <td>4.094203</td>\n",
       "      <td>24.969030</td>\n",
       "      <td>121.533361</td>\n",
       "      <td>37.980193</td>\n",
       "    </tr>\n",
       "    <tr>\n",
       "      <th>std</th>\n",
       "      <td>119.655756</td>\n",
       "      <td>0.281967</td>\n",
       "      <td>11.392485</td>\n",
       "      <td>1262.109595</td>\n",
       "      <td>2.945562</td>\n",
       "      <td>0.012410</td>\n",
       "      <td>0.015347</td>\n",
       "      <td>13.606488</td>\n",
       "    </tr>\n",
       "    <tr>\n",
       "      <th>min</th>\n",
       "      <td>1.000000</td>\n",
       "      <td>2012.667000</td>\n",
       "      <td>0.000000</td>\n",
       "      <td>23.382840</td>\n",
       "      <td>0.000000</td>\n",
       "      <td>24.932070</td>\n",
       "      <td>121.473530</td>\n",
       "      <td>7.600000</td>\n",
       "    </tr>\n",
       "    <tr>\n",
       "      <th>25%</th>\n",
       "      <td>104.250000</td>\n",
       "      <td>2012.917000</td>\n",
       "      <td>9.025000</td>\n",
       "      <td>289.324800</td>\n",
       "      <td>1.000000</td>\n",
       "      <td>24.963000</td>\n",
       "      <td>121.528085</td>\n",
       "      <td>27.700000</td>\n",
       "    </tr>\n",
       "    <tr>\n",
       "      <th>50%</th>\n",
       "      <td>207.500000</td>\n",
       "      <td>2013.167000</td>\n",
       "      <td>16.100000</td>\n",
       "      <td>492.231300</td>\n",
       "      <td>4.000000</td>\n",
       "      <td>24.971100</td>\n",
       "      <td>121.538630</td>\n",
       "      <td>38.450000</td>\n",
       "    </tr>\n",
       "    <tr>\n",
       "      <th>75%</th>\n",
       "      <td>310.750000</td>\n",
       "      <td>2013.417000</td>\n",
       "      <td>28.150000</td>\n",
       "      <td>1454.279000</td>\n",
       "      <td>6.000000</td>\n",
       "      <td>24.977455</td>\n",
       "      <td>121.543305</td>\n",
       "      <td>46.600000</td>\n",
       "    </tr>\n",
       "    <tr>\n",
       "      <th>max</th>\n",
       "      <td>414.000000</td>\n",
       "      <td>2013.583000</td>\n",
       "      <td>43.800000</td>\n",
       "      <td>6488.021000</td>\n",
       "      <td>10.000000</td>\n",
       "      <td>25.014590</td>\n",
       "      <td>121.566270</td>\n",
       "      <td>117.500000</td>\n",
       "    </tr>\n",
       "  </tbody>\n",
       "</table>\n",
       "</div>"
      ],
      "text/plain": [
       "               No  X1 transaction date  X2 house age  \\\n",
       "count  414.000000           414.000000    414.000000   \n",
       "mean   207.500000          2013.148971     17.712560   \n",
       "std    119.655756             0.281967     11.392485   \n",
       "min      1.000000          2012.667000      0.000000   \n",
       "25%    104.250000          2012.917000      9.025000   \n",
       "50%    207.500000          2013.167000     16.100000   \n",
       "75%    310.750000          2013.417000     28.150000   \n",
       "max    414.000000          2013.583000     43.800000   \n",
       "\n",
       "       X3 distance to the nearest MRT station  \\\n",
       "count                              414.000000   \n",
       "mean                              1083.885689   \n",
       "std                               1262.109595   \n",
       "min                                 23.382840   \n",
       "25%                                289.324800   \n",
       "50%                                492.231300   \n",
       "75%                               1454.279000   \n",
       "max                               6488.021000   \n",
       "\n",
       "       X4 number of convenience stores  X5 latitude  X6 longitude  \\\n",
       "count                       414.000000   414.000000    414.000000   \n",
       "mean                          4.094203    24.969030    121.533361   \n",
       "std                           2.945562     0.012410      0.015347   \n",
       "min                           0.000000    24.932070    121.473530   \n",
       "25%                           1.000000    24.963000    121.528085   \n",
       "50%                           4.000000    24.971100    121.538630   \n",
       "75%                           6.000000    24.977455    121.543305   \n",
       "max                          10.000000    25.014590    121.566270   \n",
       "\n",
       "       Y house price of unit area  \n",
       "count                  414.000000  \n",
       "mean                    37.980193  \n",
       "std                     13.606488  \n",
       "min                      7.600000  \n",
       "25%                     27.700000  \n",
       "50%                     38.450000  \n",
       "75%                     46.600000  \n",
       "max                    117.500000  "
      ]
     },
     "execution_count": 97,
     "metadata": {},
     "output_type": "execute_result"
    }
   ],
   "source": [
    "df.describe()"
   ]
  },
  {
   "cell_type": "code",
   "execution_count": 98,
   "id": "5441f1cc",
   "metadata": {},
   "outputs": [
    {
     "name": "stdout",
     "output_type": "stream",
     "text": [
      "(414, 8)\n",
      "after dropping nans: (414, 8)\n",
      "after dropping ? value from No: (414, 8) \n",
      "after dropping ? value from X1 transaction date: (414, 8) \n",
      "after dropping ? value from X2 house age: (414, 8) \n",
      "after dropping ? value from X3 distance to the nearest MRT station: (414, 8) \n",
      "after dropping ? value from X4 number of convenience stores: (414, 8) \n",
      "after dropping ? value from X5 latitude: (414, 8) \n",
      "after dropping ? value from X6 longitude: (414, 8) \n",
      "after dropping ? value from Y house price of unit area: (414, 8) \n",
      "final shape (414, 8)\n"
     ]
    }
   ],
   "source": [
    "# Drop rows with any missing values\n",
    "print(df.shape)\n",
    "#for NaN values\n",
    "df.dropna(inplace = True)\n",
    "print(f\"after dropping nans: {df.shape}\")\n",
    "\n",
    "#eliminate ? values\n",
    "for (column_name , _) in df.items():\n",
    "    \n",
    "    mask = df[f\"{column_name}\"] == '?'\n",
    "    \n",
    "    df = df[~mask]\n",
    "    print(f\"after dropping ? value from {column_name}: {df.shape} \")\n",
    "\n",
    "print(f\"final shape {df.shape}\")"
   ]
  },
  {
   "cell_type": "markdown",
   "id": "7a82dd9cdac10809",
   "metadata": {
    "collapsed": false
   },
   "source": [
    "## Droping Unnecessary Columns"
   ]
  },
  {
   "cell_type": "code",
   "execution_count": 99,
   "id": "d2c43acc649ad598",
   "metadata": {
    "ExecuteTime": {
     "end_time": "2024-04-27T22:39:14.866814Z",
     "start_time": "2024-04-27T22:39:14.863656Z"
    },
    "collapsed": false
   },
   "outputs": [
    {
     "data": {
      "text/html": [
       "<div>\n",
       "<style scoped>\n",
       "    .dataframe tbody tr th:only-of-type {\n",
       "        vertical-align: middle;\n",
       "    }\n",
       "\n",
       "    .dataframe tbody tr th {\n",
       "        vertical-align: top;\n",
       "    }\n",
       "\n",
       "    .dataframe thead th {\n",
       "        text-align: right;\n",
       "    }\n",
       "</style>\n",
       "<table border=\"1\" class=\"dataframe\">\n",
       "  <thead>\n",
       "    <tr style=\"text-align: right;\">\n",
       "      <th></th>\n",
       "      <th>X1 transaction date</th>\n",
       "      <th>X2 house age</th>\n",
       "      <th>X3 distance to the nearest MRT station</th>\n",
       "      <th>X4 number of convenience stores</th>\n",
       "      <th>X5 latitude</th>\n",
       "      <th>X6 longitude</th>\n",
       "    </tr>\n",
       "  </thead>\n",
       "  <tbody>\n",
       "    <tr>\n",
       "      <th>count</th>\n",
       "      <td>414.000000</td>\n",
       "      <td>414.000000</td>\n",
       "      <td>414.000000</td>\n",
       "      <td>414.000000</td>\n",
       "      <td>414.000000</td>\n",
       "      <td>414.000000</td>\n",
       "    </tr>\n",
       "    <tr>\n",
       "      <th>mean</th>\n",
       "      <td>2013.148971</td>\n",
       "      <td>17.712560</td>\n",
       "      <td>1083.885689</td>\n",
       "      <td>4.094203</td>\n",
       "      <td>24.969030</td>\n",
       "      <td>121.533361</td>\n",
       "    </tr>\n",
       "    <tr>\n",
       "      <th>std</th>\n",
       "      <td>0.281967</td>\n",
       "      <td>11.392485</td>\n",
       "      <td>1262.109595</td>\n",
       "      <td>2.945562</td>\n",
       "      <td>0.012410</td>\n",
       "      <td>0.015347</td>\n",
       "    </tr>\n",
       "    <tr>\n",
       "      <th>min</th>\n",
       "      <td>2012.667000</td>\n",
       "      <td>0.000000</td>\n",
       "      <td>23.382840</td>\n",
       "      <td>0.000000</td>\n",
       "      <td>24.932070</td>\n",
       "      <td>121.473530</td>\n",
       "    </tr>\n",
       "    <tr>\n",
       "      <th>25%</th>\n",
       "      <td>2012.917000</td>\n",
       "      <td>9.025000</td>\n",
       "      <td>289.324800</td>\n",
       "      <td>1.000000</td>\n",
       "      <td>24.963000</td>\n",
       "      <td>121.528085</td>\n",
       "    </tr>\n",
       "    <tr>\n",
       "      <th>50%</th>\n",
       "      <td>2013.167000</td>\n",
       "      <td>16.100000</td>\n",
       "      <td>492.231300</td>\n",
       "      <td>4.000000</td>\n",
       "      <td>24.971100</td>\n",
       "      <td>121.538630</td>\n",
       "    </tr>\n",
       "    <tr>\n",
       "      <th>75%</th>\n",
       "      <td>2013.417000</td>\n",
       "      <td>28.150000</td>\n",
       "      <td>1454.279000</td>\n",
       "      <td>6.000000</td>\n",
       "      <td>24.977455</td>\n",
       "      <td>121.543305</td>\n",
       "    </tr>\n",
       "    <tr>\n",
       "      <th>max</th>\n",
       "      <td>2013.583000</td>\n",
       "      <td>43.800000</td>\n",
       "      <td>6488.021000</td>\n",
       "      <td>10.000000</td>\n",
       "      <td>25.014590</td>\n",
       "      <td>121.566270</td>\n",
       "    </tr>\n",
       "  </tbody>\n",
       "</table>\n",
       "</div>"
      ],
      "text/plain": [
       "       X1 transaction date  X2 house age  \\\n",
       "count           414.000000    414.000000   \n",
       "mean           2013.148971     17.712560   \n",
       "std               0.281967     11.392485   \n",
       "min            2012.667000      0.000000   \n",
       "25%            2012.917000      9.025000   \n",
       "50%            2013.167000     16.100000   \n",
       "75%            2013.417000     28.150000   \n",
       "max            2013.583000     43.800000   \n",
       "\n",
       "       X3 distance to the nearest MRT station  \\\n",
       "count                              414.000000   \n",
       "mean                              1083.885689   \n",
       "std                               1262.109595   \n",
       "min                                 23.382840   \n",
       "25%                                289.324800   \n",
       "50%                                492.231300   \n",
       "75%                               1454.279000   \n",
       "max                               6488.021000   \n",
       "\n",
       "       X4 number of convenience stores  X5 latitude  X6 longitude  \n",
       "count                       414.000000   414.000000    414.000000  \n",
       "mean                          4.094203    24.969030    121.533361  \n",
       "std                           2.945562     0.012410      0.015347  \n",
       "min                           0.000000    24.932070    121.473530  \n",
       "25%                           1.000000    24.963000    121.528085  \n",
       "50%                           4.000000    24.971100    121.538630  \n",
       "75%                           6.000000    24.977455    121.543305  \n",
       "max                          10.000000    25.014590    121.566270  "
      ]
     },
     "execution_count": 99,
     "metadata": {},
     "output_type": "execute_result"
    }
   ],
   "source": [
    "y = df[\"Y house price of unit area\"]\n",
    "df = df.drop(['No',\"Y house price of unit area\"],axis = 1)\n",
    "df.describe()"
   ]
  },
  {
   "cell_type": "markdown",
   "id": "90b80fb323fb1cb3",
   "metadata": {
    "collapsed": false
   },
   "source": [
    "## Splitting Data to Train and Test"
   ]
  },
  {
   "cell_type": "code",
   "execution_count": 100,
   "id": "44527331bef11c93",
   "metadata": {
    "ExecuteTime": {
     "end_time": "2024-04-27T22:39:18.483566Z",
     "start_time": "2024-04-27T22:39:18.480011Z"
    },
    "collapsed": false
   },
   "outputs": [],
   "source": [
    "xtrain , xtest , ytrain , ytest = train_test_split(df,y,test_size = 0.2 , random_state = 3)"
   ]
  },
  {
   "cell_type": "code",
   "execution_count": 89,
   "id": "828f7191",
   "metadata": {},
   "outputs": [
    {
     "data": {
      "text/html": [
       "<div>\n",
       "<style scoped>\n",
       "    .dataframe tbody tr th:only-of-type {\n",
       "        vertical-align: middle;\n",
       "    }\n",
       "\n",
       "    .dataframe tbody tr th {\n",
       "        vertical-align: top;\n",
       "    }\n",
       "\n",
       "    .dataframe thead th {\n",
       "        text-align: right;\n",
       "    }\n",
       "</style>\n",
       "<table border=\"1\" class=\"dataframe\">\n",
       "  <thead>\n",
       "    <tr style=\"text-align: right;\">\n",
       "      <th></th>\n",
       "      <th>X1 transaction date</th>\n",
       "      <th>X2 house age</th>\n",
       "      <th>X3 distance to the nearest MRT station</th>\n",
       "      <th>X4 number of convenience stores</th>\n",
       "      <th>X5 latitude</th>\n",
       "      <th>X6 longitude</th>\n",
       "    </tr>\n",
       "  </thead>\n",
       "  <tbody>\n",
       "    <tr>\n",
       "      <th>0</th>\n",
       "      <td>0.727074</td>\n",
       "      <td>0.374429</td>\n",
       "      <td>0.042329</td>\n",
       "      <td>0.5</td>\n",
       "      <td>0.605429</td>\n",
       "      <td>0.749863</td>\n",
       "    </tr>\n",
       "    <tr>\n",
       "      <th>1</th>\n",
       "      <td>0.090611</td>\n",
       "      <td>0.178082</td>\n",
       "      <td>0.012960</td>\n",
       "      <td>0.5</td>\n",
       "      <td>0.420141</td>\n",
       "      <td>0.719021</td>\n",
       "    </tr>\n",
       "    <tr>\n",
       "      <th>2</th>\n",
       "      <td>0.636463</td>\n",
       "      <td>0.148402</td>\n",
       "      <td>0.056152</td>\n",
       "      <td>0.6</td>\n",
       "      <td>0.267935</td>\n",
       "      <td>0.680167</td>\n",
       "    </tr>\n",
       "    <tr>\n",
       "      <th>3</th>\n",
       "      <td>0.090611</td>\n",
       "      <td>0.308219</td>\n",
       "      <td>0.664351</td>\n",
       "      <td>0.0</td>\n",
       "      <td>0.082162</td>\n",
       "      <td>0.314675</td>\n",
       "    </tr>\n",
       "    <tr>\n",
       "      <th>4</th>\n",
       "      <td>0.727074</td>\n",
       "      <td>0.906393</td>\n",
       "      <td>0.049339</td>\n",
       "      <td>0.9</td>\n",
       "      <td>0.582768</td>\n",
       "      <td>0.704204</td>\n",
       "    </tr>\n",
       "  </tbody>\n",
       "</table>\n",
       "</div>"
      ],
      "text/plain": [
       "   X1 transaction date  X2 house age  X3 distance to the nearest MRT station  \\\n",
       "0             0.727074      0.374429                                0.042329   \n",
       "1             0.090611      0.178082                                0.012960   \n",
       "2             0.636463      0.148402                                0.056152   \n",
       "3             0.090611      0.308219                                0.664351   \n",
       "4             0.727074      0.906393                                0.049339   \n",
       "\n",
       "   X4 number of convenience stores  X5 latitude  X6 longitude  \n",
       "0                              0.5     0.605429      0.749863  \n",
       "1                              0.5     0.420141      0.719021  \n",
       "2                              0.6     0.267935      0.680167  \n",
       "3                              0.0     0.082162      0.314675  \n",
       "4                              0.9     0.582768      0.704204  "
      ]
     },
     "execution_count": 89,
     "metadata": {},
     "output_type": "execute_result"
    }
   ],
   "source": [
    "\n",
    "def standardScalerFunction(data):\n",
    "    scaler = MinMaxScaler().fit(data)\n",
    "    return scaler.transform(data.astype(float))\n",
    "\n",
    "xtrain = standardScalerFunction(xtrain)\n",
    "xtrain_df = pd.DataFrame(xtrain, columns=df.columns)\n",
    "xtest = standardScalerFunction(xtest)\n",
    "xtest_df = pd.DataFrame(xtest, columns=df.columns)\n",
    "xtrain_df.head(5)\n"
   ]
  },
  {
   "cell_type": "markdown",
   "id": "45b13a1182adba70",
   "metadata": {
    "collapsed": false
   },
   "source": [
    "## Visualizing Data Distribution and Correlation"
   ]
  },
  {
   "cell_type": "code",
   "execution_count": 90,
   "id": "7b7fb9f4b420ef65",
   "metadata": {
    "ExecuteTime": {
     "end_time": "2024-04-27T22:39:31.934602Z",
     "start_time": "2024-04-27T22:39:31.931769Z"
    },
    "collapsed": false
   },
   "outputs": [
    {
     "data": {
      "image/png": "[encoded data removed]",
      "text/plain": [
       "<Figure size 640x480 with 2 Axes>"
      ]
     },
     "metadata": {},
     "output_type": "display_data"
    }
   ],
   "source": [
    "import seaborn as sns\n",
    "\n",
    "df.insert(6 ,\"Y house price of unit area\", y)\n",
    "corr_matrix = df.corr()\n",
    "sns.heatmap(corr_matrix, annot=True)\n",
    "plt.show()\n"
   ]
  },
  {
   "cell_type": "code",
   "execution_count": 63,
   "id": "8e0a6a6792f507d0",
   "metadata": {
    "ExecuteTime": {
     "end_time": "2024-04-27T22:39:32.186119Z",
     "start_time": "2024-04-27T22:39:32.184328Z"
    },
    "collapsed": false
   },
   "outputs": [],
   "source": [
    "def box_plot(data,title):\n",
    "    plt.boxplot(data, patch_artist=True)\n",
    "    plt.title(f\"{title} BOX PLOT\")\n",
    "    plt.ylabel(f\"{title} Rate\")\n",
    "    plt.savefig(f'./boxplots/{title}.png')\n",
    "    plt.close()\n"
   ]
  },
  {
   "cell_type": "code",
   "execution_count": 92,
   "id": "59f4d449",
   "metadata": {},
   "outputs": [],
   "source": [
    "for (column_name , _) in xtrain_df.items():\n",
    "    box_plot(xtrain_df[f\"{column_name}\"],column_name)"
   ]
  },
  {
   "cell_type": "code",
   "execution_count": 65,
   "id": "b750b5f8",
   "metadata": {},
   "outputs": [],
   "source": [
    "def  house_price_plotter(title,x,y):\n",
    "    plt.figure(figsize=(10,5))\n",
    "    plt.plot(x,y,'r')\n",
    "    plt.xlabel(title)\n",
    "    plt.ylabel('house price')\n",
    "    plt.savefig(f'./house_price_plots/{title}.png')\n",
    "    plt.close()"
   ]
  },
  {
   "cell_type": "code",
   "execution_count": 66,
   "id": "90605df0",
   "metadata": {},
   "outputs": [],
   "source": [
    "for (column_name , _) in df.items():\n",
    "\n",
    "    if column_name != \"Y house price of unit area\":\n",
    "        house_price_plotter(column_name,df[f\"{column_name}\"],df[\"Y house price of unit area\"])"
   ]
  },
  {
   "cell_type": "code",
   "execution_count": null,
   "id": "d2acedda",
   "metadata": {},
   "outputs": [],
   "source": [
    "\"after analyzing the plots and boxplot and correlation plots we may infer that X1 transaction date is not useful for training\""
   ]
  },
  {
   "cell_type": "markdown",
   "id": "cb32dee165bfc767",
   "metadata": {
    "collapsed": false
   },
   "source": [
    "## Linear Regression"
   ]
  },
  {
   "cell_type": "code",
   "execution_count": 103,
   "id": "f8fc073d777ee178",
   "metadata": {
    "ExecuteTime": {
     "end_time": "2024-04-27T22:39:38.500428Z",
     "start_time": "2024-04-27T22:39:38.497442Z"
    },
    "collapsed": false
   },
   "outputs": [
    {
     "name": "stdout",
     "output_type": "stream",
     "text": [
      "  Coefficients: [ 5.05010829e+00 -2.66591880e-01 -4.91555005e-03  1.12156060e+00\n",
      "  2.00141790e+02 -4.46528060e+01]\n",
      "  Mean Squared Error: 76.55288191151112\n",
      "  R2 Score: 0.605615272584304\n"
     ]
    },
    {
     "data": {
      "image/png": "[encoded data removed]",
      "text/plain": [
       "<Figure size 640x480 with 1 Axes>"
      ]
     },
     "metadata": {},
     "output_type": "display_data"
    }
   ],
   "source": [
    "model = LinearRegression()\n",
    "model.fit(xtrain, ytrain)\n",
    "predictions = model.predict(xtest)\n",
    "mse = mean_squared_error(ytest, predictions)\n",
    "r2 = r2_score(ytest, predictions)\n",
    "\n",
    "y_true = np.array(ytest)\n",
    "y_pred = np.array(predictions)\n",
    "accuracy = np.mean(np.abs((y_true - y_pred) / y_true) <= 0.1) * 100\n",
    "\n",
    "print(\"  Coefficients:\", model.coef_)\n",
    "print(\"  Mean Squared Error:\", mse)\n",
    "print(\"  R2 Score:\", r2)\n",
    "plt.figure()\n",
    "plt.scatter(ytest, predictions)\n",
    "plt.plot(ytest,ytest , 'r' )\n",
    "plt.xlabel('True Values')\n",
    "plt.ylabel('Predictions')\n",
    "plt.title(f'Linear Regression')\n",
    "plt.show()"
   ]
  },
  {
   "cell_type": "markdown",
   "id": "f2a6ec5f88f7f7e0",
   "metadata": {
    "collapsed": false
   },
   "source": [
    "## Polynomial Regression"
   ]
  },
  {
   "cell_type": "code",
   "execution_count": null,
   "id": "b821590bcec1b57",
   "metadata": {
    "ExecuteTime": {
     "end_time": "2024-04-27T22:39:41.951561Z",
     "start_time": "2024-04-27T22:39:41.949418Z"
    },
    "collapsed": false
   },
   "outputs": [],
   "source": []
  },
  {
   "cell_type": "markdown",
   "id": "ca0893b45bcbeeef",
   "metadata": {
    "collapsed": false
   },
   "source": [
    "## Ridge Regression"
   ]
  },
  {
   "cell_type": "code",
   "execution_count": null,
   "id": "26515c29b9b71ae1",
   "metadata": {
    "ExecuteTime": {
     "end_time": "2024-04-27T22:39:45.585869Z",
     "start_time": "2024-04-27T22:39:45.582856Z"
    },
    "collapsed": false
   },
   "outputs": [],
   "source": []
  },
  {
   "cell_type": "markdown",
   "id": "dc099ac9d4c684cf",
   "metadata": {
    "collapsed": false
   },
   "source": [
    "## Lasso Regression"
   ]
  },
  {
   "cell_type": "code",
   "execution_count": null,
   "id": "9f7f9365e54d1d2a",
   "metadata": {
    "ExecuteTime": {
     "end_time": "2024-04-27T22:39:49.267279Z",
     "start_time": "2024-04-27T22:39:49.264334Z"
    },
    "collapsed": false
   },
   "outputs": [],
   "source": []
  },
  {
   "cell_type": "markdown",
   "id": "2db7ffa9dc5c164a",
   "metadata": {
    "collapsed": false
   },
   "source": [
    "## Elastic Net Regression"
   ]
  },
  {
   "cell_type": "code",
   "execution_count": null,
   "id": "7e3e21c82caafbaf",
   "metadata": {
    "ExecuteTime": {
     "end_time": "2024-04-27T22:39:52.916126Z",
     "start_time": "2024-04-27T22:39:52.913336Z"
    },
    "collapsed": false
   },
   "outputs": [],
   "source": []
  },
  {
   "cell_type": "markdown",
   "id": "57a6793d329b39c1",
   "metadata": {
    "collapsed": false
   },
   "source": [
    "## XGBoost Regression "
   ]
  },
  {
   "cell_type": "code",
   "execution_count": null,
   "id": "e2aa7f74e22f6129",
   "metadata": {
    "ExecuteTime": {
     "end_time": "2024-04-27T22:39:56.413160Z",
     "start_time": "2024-04-27T22:39:56.410201Z"
    },
    "collapsed": false
   },
   "outputs": [],
   "source": []
  },
  {
   "cell_type": "markdown",
   "id": "ef3c55fb0ba403b1",
   "metadata": {
    "collapsed": false
   },
   "source": [
    "# Assosiation Rules"
   ]
  },
  {
   "cell_type": "code",
   "execution_count": 1,
   "id": "6ec4ab3c04abf483",
   "metadata": {
    "ExecuteTime": {
     "end_time": "2024-04-27T22:40:26.022192Z",
     "start_time": "2024-04-27T22:40:26.018139Z"
    },
    "collapsed": false
   },
   "outputs": [],
   "source": [
    "# 0. Import Libraries\n",
    "\n",
    "\n",
    "# 1. Data Loading\n",
    "\n",
    "\n",
    "# 2. Preprocess Data\n",
    "\n",
    "\n",
    "# 3. Apply TransactionEncoder\n",
    "\n",
    "\n",
    "# 4. Generate Frequent Itemsets\n",
    "\n",
    "\n",
    "# 5. Generate Association Rules\n",
    "\n",
    "\n",
    "# 6. Display Rules\n",
    "\n"
   ]
  },
  {
   "cell_type": "code",
   "execution_count": null,
   "id": "642037372a897727",
   "metadata": {
    "collapsed": false
   },
   "outputs": [],
   "source": []
  }
 ],
 "metadata": {
  "kernelspec": {
   "display_name": "Python 3",
   "language": "python",
   "name": "python3"
  },
  "language_info": {
   "codemirror_mode": {
    "name": "ipython",
    "version": 3
   },
   "file_extension": ".py",
   "mimetype": "text/x-python",
   "name": "python",
   "nbconvert_exporter": "python",
   "pygments_lexer": "ipython3",
   "version": "3.10.9"
  }
 },
 "nbformat": 4,
 "nbformat_minor": 5
}
