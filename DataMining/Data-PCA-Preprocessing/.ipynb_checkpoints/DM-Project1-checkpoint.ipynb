{
 "cells": [
  {
   "cell_type": "markdown",
   "metadata": {
    "id": "4Tp_V7XXJmOZ"
   },
   "source": [
    "# Import necessary libraries:"
   ]
  },
  {
   "cell_type": "code",
   "execution_count": 1,
   "metadata": {
    "id": "Q5FrtBgZyf5l"
   },
   "outputs": [],
   "source": [
    "import pandas as pd\n",
    "import numpy as np\n",
    "import matplotlib.pyplot as plt\n",
    "import seaborn as sns\n",
    "from sklearn.preprocessing import StandardScaler, OneHotEncoder"
   ]
  },
  {
   "cell_type": "markdown",
   "metadata": {
    "id": "RoXy8X7ZJ0ua"
   },
   "source": [
    "# Load and Preprocess dataset"
   ]
  },
  {
   "cell_type": "code",
   "execution_count": null,
   "metadata": {
    "id": "dtxk_QKzyyBP"
   },
   "outputs": [],
   "source": [
    "# Load the dataset using pandas.read_csv\n",
    "\n",
    "df = ?"
   ]
  },
  {
   "cell_type": "code",
   "execution_count": null,
   "metadata": {
    "id": "ouapK0P0zAxA"
   },
   "outputs": [],
   "source": [
    "# Print first rows the dataset\n",
    "\n",
    "print(df.)"
   ]
  },
  {
   "cell_type": "code",
   "execution_count": null,
   "metadata": {
    "id": "OWDhYgoqzkiV"
   },
   "outputs": [],
   "source": [
    "# Drop rows with any missing values\n",
    "\n",
    "df = ?"
   ]
  },
  {
   "cell_type": "markdown",
   "metadata": {
    "id": "O1zDRpgRJ-bZ"
   },
   "source": [
    "# Visualize dataset"
   ]
  },
  {
   "cell_type": "code",
   "execution_count": null,
   "metadata": {
    "id": "lz_UMo371bbB"
   },
   "outputs": [],
   "source": [
    "# Visualize the dataset using scatter plots, histograms, box plots, and pair plots to understand the data distribution, identify outliers, and detect patterns.\n",
    "\n",
    "\n",
    "# Scatter plot for Age vs Hours-per-week\n",
    "\n",
    "# your code here:\n",
    "\n",
    "?\n",
    "\n",
    "plt.show()\n",
    "\n",
    "\n",
    "\n",
    "\n",
    "# Histogram for distribution of age distribution\n",
    "\n",
    "# your code here:\n",
    "\n",
    "?\n",
    "\n",
    "plt.show()\n",
    "\n",
    "\n",
    "\n",
    "# Box plot for age to see outliers\n",
    "\n",
    "# your code here:\n",
    "\n",
    "?\n",
    "\n",
    "plt.show()\n",
    "\n",
    "\n",
    "# Pair plot for Age, education-num, and hours-per-week\n",
    "\n",
    "# your code here:\n",
    "\n",
    "?\n",
    "\n",
    "plt.show()\n",
    "\n",
    "\n"
   ]
  },
  {
   "cell_type": "markdown",
   "metadata": {
    "id": "W0lVL8_TKHwE"
   },
   "source": [
    "# Encode and Normalize dataset"
   ]
  },
  {
   "cell_type": "code",
   "execution_count": null,
   "metadata": {
    "id": "tA_r4Qdgz70S"
   },
   "outputs": [],
   "source": [
    "# Use one-hot endcoding to convert categorical features into numerical format\n",
    "\n",
    "df_encoded = ?"
   ]
  },
  {
   "cell_type": "code",
   "execution_count": null,
   "metadata": {
    "id": "qNQOYKJ_0b20"
   },
   "outputs": [],
   "source": [
    "# Use StandardScaler from sklearn.preprocessing to normalize the features.\n",
    "\n",
    "scaler = StandardScaler()\n",
    "\n",
    "\n",
    "# your code here:\n",
    "\n",
    "?\n"
   ]
  },
  {
   "cell_type": "markdown",
   "metadata": {
    "id": "6CofCroeKTCb"
   },
   "source": [
    "# Implement PCA from Scratch"
   ]
  },
  {
   "cell_type": "code",
   "execution_count": null,
   "metadata": {
    "id": "cgLtMhso00BO"
   },
   "outputs": [],
   "source": [
    "# Start by ensuring all data is numeric and normalized.\n",
    "# Subtract the mean to center the data, calculate the covariance matrix, find eigenvalues and eigenvectors, sort them, and project the data onto the principal components.\n",
    "# This section will test your understanding of PCA's mathematical foundation.\n",
    "\n",
    "\n",
    "# your code here:\n",
    "\n",
    "?\n",
    "\n",
    "\n"
   ]
  },
  {
   "cell_type": "markdown",
   "metadata": {
    "id": "GB2uTZWTKcw_"
   },
   "source": [
    "# Visualize the PCA-reduced data"
   ]
  },
  {
   "cell_type": "code",
   "execution_count": null,
   "metadata": {
    "id": "Cvaqs8Nb1OAy"
   },
   "outputs": [],
   "source": [
    "\n",
    "# Scatter Plot for 2D PCA Data (choose 2 pricipal components)\n",
    "\n",
    "# your code here:\n",
    "\n",
    "?\n",
    "\n",
    "plt.show()\n",
    "\n",
    "\n",
    "\n",
    "# Heatmap for Principal Component Correlation\n",
    "# This requires calculating the correlation matrix between the original data and the PCA-transformed data.\n",
    "\n",
    "correlation_matrix = ?\n",
    "\n",
    "sns.heatmap(correlation_matrix, annot=True, cmap='coolwarm')\n",
    "plt.title('Correlation between Original Features and Principal Components')\n",
    "plt.xlabel('Principal Components')\n",
    "plt.ylabel('Original Features')\n",
    "plt.show()\n",
    "\n",
    "\n",
    "\n"
   ]
  }
 ],
 "metadata": {
  "colab": {
   "provenance": []
  },
  "kernelspec": {
   "display_name": "Python 3 (ipykernel)",
   "language": "python",
   "name": "python3"
  },
  "language_info": {
   "codemirror_mode": {
    "name": "ipython",
    "version": 3
   },
   "file_extension": ".py",
   "mimetype": "text/x-python",
   "name": "python",
   "nbconvert_exporter": "python",
   "pygments_lexer": "ipython3",
   "version": "3.10.9"
  }
 },
 "nbformat": 4,
 "nbformat_minor": 1
}
