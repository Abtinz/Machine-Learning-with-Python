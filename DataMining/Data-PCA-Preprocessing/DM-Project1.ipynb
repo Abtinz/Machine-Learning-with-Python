{
  "nbformat": 4,
  "nbformat_minor": 0,
  "metadata": {
    "colab": {
      "provenance": []
    },
    "kernelspec": {
      "name": "python3",
      "display_name": "Python 3"
    },
    "language_info": {
      "name": "python"
    }
  },
  "cells": [
    {
      "cell_type": "markdown",
      "source": [
        "# Import necessary libraries:"
      ],
      "metadata": {
        "id": "4Tp_V7XXJmOZ"
      }
    },
    {
      "cell_type": "code",
      "execution_count": null,
      "metadata": {
        "id": "Q5FrtBgZyf5l"
      },
      "outputs": [],
      "source": [
        "import pandas as pd\n",
        "import numpy as np\n",
        "import matplotlib.pyplot as plt\n",
        "import seaborn as sns\n",
        "from sklearn.preprocessing import StandardScaler, OneHotEncoder\n"
      ]
    },
    {
      "cell_type": "markdown",
      "source": [
        "# Load and Preprocess dataset"
      ],
      "metadata": {
        "id": "RoXy8X7ZJ0ua"
      }
    },
    {
      "cell_type": "code",
      "source": [
        "# Load the dataset using pandas.read_csv\n",
        "\n",
        "df = ?"
      ],
      "metadata": {
        "id": "dtxk_QKzyyBP"
      },
      "execution_count": null,
      "outputs": []
    },
    {
      "cell_type": "code",
      "source": [
        "# Print first rows the dataset\n",
        "\n",
        "print(df.)"
      ],
      "metadata": {
        "id": "ouapK0P0zAxA"
      },
      "execution_count": null,
      "outputs": []
    },
    {
      "cell_type": "code",
      "source": [
        "# Drop rows with any missing values\n",
        "\n",
        "df = ?"
      ],
      "metadata": {
        "id": "OWDhYgoqzkiV"
      },
      "execution_count": null,
      "outputs": []
    },
    {
      "cell_type": "markdown",
      "source": [
        "# Visualize dataset"
      ],
      "metadata": {
        "id": "O1zDRpgRJ-bZ"
      }
    },
    {
      "cell_type": "code",
      "source": [
        "# Visualize the dataset using scatter plots, histograms, box plots, and pair plots to understand the data distribution, identify outliers, and detect patterns.\n",
        "\n",
        "\n",
        "# Scatter plot for Age vs Hours-per-week\n",
        "\n",
        "# your code here:\n",
        "\n",
        "?\n",
        "\n",
        "plt.show()\n",
        "\n",
        "\n",
        "\n",
        "\n",
        "# Histogram for distribution of age distribution\n",
        "\n",
        "# your code here:\n",
        "\n",
        "?\n",
        "\n",
        "plt.show()\n",
        "\n",
        "\n",
        "\n",
        "# Box plot for age to see outliers\n",
        "\n",
        "# your code here:\n",
        "\n",
        "?\n",
        "\n",
        "plt.show()\n",
        "\n",
        "\n",
        "# Pair plot for Age, education-num, and hours-per-week\n",
        "\n",
        "# your code here:\n",
        "\n",
        "?\n",
        "\n",
        "plt.show()\n",
        "\n",
        "\n"
      ],
      "metadata": {
        "id": "lz_UMo371bbB"
      },
      "execution_count": null,
      "outputs": []
    },
    {
      "cell_type": "markdown",
      "source": [
        "# Encode and Normalize dataset"
      ],
      "metadata": {
        "id": "W0lVL8_TKHwE"
      }
    },
    {
      "cell_type": "code",
      "source": [
        "# Use one-hot endcoding to convert categorical features into numerical format\n",
        "\n",
        "df_encoded = ?"
      ],
      "metadata": {
        "id": "tA_r4Qdgz70S"
      },
      "execution_count": null,
      "outputs": []
    },
    {
      "cell_type": "code",
      "source": [
        "# Use StandardScaler from sklearn.preprocessing to normalize the features.\n",
        "\n",
        "scaler = StandardScaler()\n",
        "\n",
        "\n",
        "# your code here:\n",
        "\n",
        "?\n"
      ],
      "metadata": {
        "id": "qNQOYKJ_0b20"
      },
      "execution_count": null,
      "outputs": []
    },
    {
      "cell_type": "markdown",
      "source": [
        "# Implement PCA from Scratch"
      ],
      "metadata": {
        "id": "6CofCroeKTCb"
      }
    },
    {
      "cell_type": "code",
      "source": [
        "# Start by ensuring all data is numeric and normalized.\n",
        "# Subtract the mean to center the data, calculate the covariance matrix, find eigenvalues and eigenvectors, sort them, and project the data onto the principal components.\n",
        "# This section will test your understanding of PCA's mathematical foundation.\n",
        "\n",
        "\n",
        "# your code here:\n",
        "\n",
        "?\n",
        "\n",
        "\n"
      ],
      "metadata": {
        "id": "cgLtMhso00BO"
      },
      "execution_count": null,
      "outputs": []
    },
    {
      "cell_type": "markdown",
      "source": [
        "# Visualize the PCA-reduced data"
      ],
      "metadata": {
        "id": "GB2uTZWTKcw_"
      }
    },
    {
      "cell_type": "code",
      "source": [
        "\n",
        "# Scatter Plot for 2D PCA Data (choose 2 pricipal components)\n",
        "\n",
        "# your code here:\n",
        "\n",
        "?\n",
        "\n",
        "plt.show()\n",
        "\n",
        "\n",
        "\n",
        "# Heatmap for Principal Component Correlation\n",
        "# This requires calculating the correlation matrix between the original data and the PCA-transformed data.\n",
        "\n",
        "correlation_matrix = ?\n",
        "\n",
        "sns.heatmap(correlation_matrix, annot=True, cmap='coolwarm')\n",
        "plt.title('Correlation between Original Features and Principal Components')\n",
        "plt.xlabel('Principal Components')\n",
        "plt.ylabel('Original Features')\n",
        "plt.show()\n",
        "\n",
        "\n",
        "\n"
      ],
      "metadata": {
        "id": "Cvaqs8Nb1OAy"
      },
      "execution_count": null,
      "outputs": []
    }
  ]
}