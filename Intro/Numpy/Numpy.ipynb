{
 "cells": [
  {
   "cell_type": "code",
   "execution_count": 3,
   "id": "9fcac433",
   "metadata": {},
   "outputs": [],
   "source": [
    "import numpy as np"
   ]
  },
  {
   "cell_type": "markdown",
   "id": "a6d1829b",
   "metadata": {},
   "source": [
    "# Numpy Intro"
   ]
  },
  {
   "cell_type": "code",
   "execution_count": 5,
   "id": "5de4844c",
   "metadata": {},
   "outputs": [
    {
     "name": "stdout",
     "output_type": "stream",
     "text": [
      "simpleArray:\n",
      "{1, 2, 3, 4, 5}\n"
     ]
    }
   ],
   "source": [
    "simpleArray = np.array({1,2,3,4,5})\n",
    "print(f\"simpleArray:\\n{simpleArray}\")"
   ]
  },
  {
   "cell_type": "code",
   "execution_count": 26,
   "id": "25e1eebc",
   "metadata": {},
   "outputs": [
    {
     "name": "stdout",
     "output_type": "stream",
     "text": [
      "ndim: 2\n",
      "shape: (4, 2)\n",
      "numpy dytype:\n",
      "before dtype:\n",
      "[[1 2]\n",
      " [3 4]\n",
      " [5 6]\n",
      " [7 8]]\n",
      "after dtype:\n",
      "[[1. 2.]\n",
      " [3. 4.]\n",
      " [5. 6.]\n",
      " [7. 8.]]\n"
     ]
    },
    {
     "name": "stderr",
     "output_type": "stream",
     "text": [
      "C:\\Users\\ABTIN\\AppData\\Local\\Temp/ipykernel_2900/2950897644.py:6: DeprecationWarning: `np.float` is a deprecated alias for the builtin `float`. To silence this warning, use `float` by itself. Doing this will not modify any behavior and is safe. If you specifically wanted the numpy scalar type, use `np.float64` here.\n",
      "Deprecated in NumPy 1.20; for more details and guidance: https://numpy.org/devdocs/release/1.20.0-notes.html#deprecations\n",
      "  array2D = np.array([[1,2],[3,4],[5,6],[7,8]] ,dtype=np.float)\n"
     ]
    }
   ],
   "source": [
    "array2D = np.array([[1,2],[3,4],[5,6],[7,8]])\n",
    "print(f\"ndim: {array2D.ndim}\")\n",
    "print(f\"shape: {array2D.shape}\")\n",
    "print(\"numpy dytype:\")\n",
    "print(f\"before dtype:\\n{array2D}\")\n",
    "array2D = np.array([[1,2],[3,4],[5,6],[7,8]] ,dtype=np.float)\n",
    "print(f\"after dtype:\\n{array2D}\")"
   ]
  },
  {
   "cell_type": "code",
   "execution_count": 25,
   "id": "f03d48e0",
   "metadata": {},
   "outputs": [
    {
     "name": "stdout",
     "output_type": "stream",
     "text": [
      "[20 21 22 23 24 25 26 27 28 29 30 31 32 33 34 35 36 37 38 39 40 41 42 43\n",
      " 44 45 46 47 48 49]\n"
     ]
    }
   ],
   "source": [
    "arangList = np.arange(20,50)\n",
    "print(arangList)"
   ]
  },
  {
   "cell_type": "markdown",
   "id": "62eea636",
   "metadata": {},
   "source": [
    "# Slicing"
   ]
  },
  {
   "cell_type": "code",
   "execution_count": 58,
   "id": "10355f06",
   "metadata": {},
   "outputs": [
    {
     "data": {
      "text/plain": [
       "array([20, 25, 30, 35, 40, 45, 50, 55])"
      ]
     },
     "execution_count": 58,
     "metadata": {},
     "output_type": "execute_result"
    }
   ],
   "source": [
    "array = np.arange(100)\n",
    "array[20:60:5]"
   ]
  },
  {
   "cell_type": "code",
   "execution_count": 59,
   "id": "2245f534",
   "metadata": {},
   "outputs": [
    {
     "data": {
      "text/plain": [
       "array([ 0,  3,  6,  9, 12, 15, 18, 21, 24, 27, 30, 33, 36, 39, 42, 45, 48,\n",
       "       51, 54, 57])"
      ]
     },
     "execution_count": 59,
     "metadata": {},
     "output_type": "execute_result"
    }
   ],
   "source": [
    "sliceArray = slice(0,60,3)\n",
    "array[sliceArray]"
   ]
  },
  {
   "cell_type": "markdown",
   "id": "bc0cfd09",
   "metadata": {},
   "source": [
    "# Array Manipulation"
   ]
  },
  {
   "cell_type": "code",
   "execution_count": 48,
   "id": "1b04c856",
   "metadata": {},
   "outputs": [
    {
     "name": "stdout",
     "output_type": "stream",
     "text": [
      "Array:\n",
      "[ 20  21  22  23  24  25  26  27  28  29  30  31  32  33  34  35  36  37\n",
      "  38  39  40  41  42  43  44  45  46  47  48  49  50  51  52  53  54  55\n",
      "  56  57  58  59  60  61  62  63  64  65  66  67  68  69  70  71  72  73\n",
      "  74  75  76  77  78  79  80  81  82  83  84  85  86  87  88  89  90  91\n",
      "  92  93  94  95  96  97  98  99 100 101 102 103 104 105 106 107 108 109]\n",
      "ndim: 1\n",
      "shape: (90,)\n",
      "Reshaped Array:\n",
      "[[ 20  21  22  23  24  25  26  27  28  29  30  31  32  33  34]\n",
      " [ 35  36  37  38  39  40  41  42  43  44  45  46  47  48  49]\n",
      " [ 50  51  52  53  54  55  56  57  58  59  60  61  62  63  64]\n",
      " [ 65  66  67  68  69  70  71  72  73  74  75  76  77  78  79]\n",
      " [ 80  81  82  83  84  85  86  87  88  89  90  91  92  93  94]\n",
      " [ 95  96  97  98  99 100 101 102 103 104 105 106 107 108 109]]\n",
      "ndim: 2\n",
      "shape: (6, 15)\n",
      "Array:\n",
      "[[ 20  21  22  23  24  25]\n",
      " [ 26  27  28  29  30  31]\n",
      " [ 32  33  34  35  36  37]\n",
      " [ 38  39  40  41  42  43]\n",
      " [ 44  45  46  47  48  49]\n",
      " [ 50  51  52  53  54  55]\n",
      " [ 56  57  58  59  60  61]\n",
      " [ 62  63  64  65  66  67]\n",
      " [ 68  69  70  71  72  73]\n",
      " [ 74  75  76  77  78  79]\n",
      " [ 80  81  82  83  84  85]\n",
      " [ 86  87  88  89  90  91]\n",
      " [ 92  93  94  95  96  97]\n",
      " [ 98  99 100 101 102 103]\n",
      " [104 105 106 107 108 109]]\n",
      "shape: (15, 6)\n",
      "Transpse:\n",
      "\n",
      "Reshaped Array:\n",
      "[[ 20  26  32  38  44  50  56  62  68  74  80  86  92  98 104]\n",
      " [ 21  27  33  39  45  51  57  63  69  75  81  87  93  99 105]\n",
      " [ 22  28  34  40  46  52  58  64  70  76  82  88  94 100 106]\n",
      " [ 23  29  35  41  47  53  59  65  71  77  83  89  95 101 107]\n",
      " [ 24  30  36  42  48  54  60  66  72  78  84  90  96 102 108]\n",
      " [ 25  31  37  43  49  55  61  67  73  79  85  91  97 103 109]]\n",
      "shape: (6, 15)\n"
     ]
    }
   ],
   "source": [
    "Array = np.arange(20,110)\n",
    "print(f\"Array:\\n{Array}\")\n",
    "print(f\"ndim: {Array.ndim}\")\n",
    "print(f\"shape: {Array.shape}\")\n",
    "\n",
    "#reshape\n",
    "Array = Array.reshape(6,15)\n",
    "print(f\"Reshaped Array:\\n{Array}\")\n",
    "print(f\"ndim: {Array.ndim}\")\n",
    "print(f\"shape: {Array.shape}\")\n",
    "\n",
    "#transpose\n",
    "Array = Array.reshape(15,6)\n",
    "print(f\"Array:\\n{Array}\")\n",
    "print(f\"shape: {Array.shape}\")\n",
    "\n",
    "print(\"Transpse:\\n\")\n",
    "Array = np.transpose(Array)\n",
    "print(f\"Reshaped Array:\\n{Array}\")\n",
    "print(f\"shape: {Array.shape}\")"
   ]
  },
  {
   "cell_type": "markdown",
   "id": "b047b342",
   "metadata": {},
   "source": [
    "# Numpy Operations"
   ]
  },
  {
   "cell_type": "code",
   "execution_count": 57,
   "id": "56401cfd",
   "metadata": {},
   "outputs": [
    {
     "name": "stdout",
     "output_type": "stream",
     "text": [
      "[[0 1 2]\n",
      " [3 4 5]\n",
      " [6 7 8]]\n",
      "[[0]\n",
      " [1]\n",
      " [2]]\n",
      "[[ 0  1  2]\n",
      " [ 4  5  6]\n",
      " [ 8  9 10]]\n",
      "[[ 0  0  0]\n",
      " [ 3  4  5]\n",
      " [12 14 16]]\n"
     ]
    }
   ],
   "source": [
    "firstMatrix = np.arange(9).reshape(3,3)\n",
    "secondMatrix = np.arange(3).reshape(3,1)\n",
    "print(firstMatrix)\n",
    "print(secondMatrix)\n",
    "#add\n",
    "addMatrix = np.add(firstMatrix,secondMatrix)\n",
    "print(addMatrix)\n",
    "#multipaction\n",
    "multipactionMatrix = np.multiply(firstMatrix,secondMatrix)\n",
    "print(multipactionMatrix)"
   ]
  },
  {
   "cell_type": "markdown",
   "id": "f51b9d3e",
   "metadata": {},
   "source": [
    "# Numpy Itrating"
   ]
  },
  {
   "cell_type": "code",
   "execution_count": 63,
   "id": "ea9aebaf",
   "metadata": {},
   "outputs": [
    {
     "name": "stdout",
     "output_type": "stream",
     "text": [
      "0-5-10-15-20-25-30-35-40-45-"
     ]
    }
   ],
   "source": [
    "Array = np.arange(0,50,5)\n",
    "for index in np.nditer(Array,order=\"C\"):\n",
    "    print(index,end=\"-\")"
   ]
  },
  {
   "cell_type": "code",
   "execution_count": 64,
   "id": "af9100d6",
   "metadata": {},
   "outputs": [
    {
     "name": "stdout",
     "output_type": "stream",
     "text": [
      "0-5-10-15-20-25-30-35-40-45-"
     ]
    }
   ],
   "source": [
    "for index in np.nditer(Array,order=\"F\"):\n",
    "    print(index,end=\"-\")"
   ]
  }
 ],
 "metadata": {
  "kernelspec": {
   "display_name": "Python 3 (ipykernel)",
   "language": "python",
   "name": "python3"
  },
  "language_info": {
   "codemirror_mode": {
    "name": "ipython",
    "version": 3
   },
   "file_extension": ".py",
   "mimetype": "text/x-python",
   "name": "python",
   "nbconvert_exporter": "python",
   "pygments_lexer": "ipython3",
   "version": "3.9.7"
  }
 },
 "nbformat": 4,
 "nbformat_minor": 5
}
