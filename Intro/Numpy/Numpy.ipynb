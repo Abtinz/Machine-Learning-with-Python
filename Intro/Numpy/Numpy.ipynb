{
 "cells": [
  {
   "cell_type": "code",
   "execution_count": 1,
   "id": "9fcac433",
   "metadata": {},
   "outputs": [],
   "source": [
    "import numpy as np"
   ]
  },
  {
   "cell_type": "markdown",
   "id": "a6d1829b",
   "metadata": {},
   "source": [
    "# Numpy Intro"
   ]
  },
  {
   "cell_type": "code",
   "execution_count": 2,
   "id": "5de4844c",
   "metadata": {},
   "outputs": [
    {
     "name": "stdout",
     "output_type": "stream",
     "text": [
      "simpleArray:\n",
      "{1, 2, 3, 4, 5}\n"
     ]
    }
   ],
   "source": [
    "simpleArray = np.array({1,2,3,4,5})\n",
    "print(f\"simpleArray:\\n{simpleArray}\")"
   ]
  },
  {
   "cell_type": "code",
   "execution_count": 3,
   "id": "25e1eebc",
   "metadata": {},
   "outputs": [
    {
     "name": "stdout",
     "output_type": "stream",
     "text": [
      "ndim: 2\n",
      "shape: (4, 2)\n",
      "numpy dytype:\n",
      "before dtype:\n",
      "[[1 2]\n",
      " [3 4]\n",
      " [5 6]\n",
      " [7 8]]\n",
      "after dtype:\n",
      "[[1. 2.]\n",
      " [3. 4.]\n",
      " [5. 6.]\n",
      " [7. 8.]]\n"
     ]
    },
    {
     "name": "stderr",
     "output_type": "stream",
     "text": [
      "C:\\Users\\ABTIN\\AppData\\Local\\Temp/ipykernel_8168/2950897644.py:6: DeprecationWarning: `np.float` is a deprecated alias for the builtin `float`. To silence this warning, use `float` by itself. Doing this will not modify any behavior and is safe. If you specifically wanted the numpy scalar type, use `np.float64` here.\n",
      "Deprecated in NumPy 1.20; for more details and guidance: https://numpy.org/devdocs/release/1.20.0-notes.html#deprecations\n",
      "  array2D = np.array([[1,2],[3,4],[5,6],[7,8]] ,dtype=np.float)\n"
     ]
    }
   ],
   "source": [
    "array2D = np.array([[1,2],[3,4],[5,6],[7,8]])\n",
    "print(f\"ndim: {array2D.ndim}\")\n",
    "print(f\"shape: {array2D.shape}\")\n",
    "print(\"numpy dytype:\")\n",
    "print(f\"before dtype:\\n{array2D}\")\n",
    "array2D = np.array([[1,2],[3,4],[5,6],[7,8]] ,dtype=np.float)\n",
    "print(f\"after dtype:\\n{array2D}\")"
   ]
  },
  {
   "cell_type": "markdown",
   "id": "f6630339",
   "metadata": {},
   "source": [
    "np arrange"
   ]
  },
  {
   "cell_type": "code",
   "execution_count": 5,
   "id": "f03d48e0",
   "metadata": {},
   "outputs": [
    {
     "name": "stdout",
     "output_type": "stream",
     "text": [
      "[20 21 22 23 24 25 26 27 28 29 30 31 32 33 34 35 36 37 38 39 40 41 42 43\n",
      " 44 45 46 47 48 49]\n"
     ]
    }
   ],
   "source": [
    "arangList = np.arange(20,50)\n",
    "print(arangList)"
   ]
  },
  {
   "cell_type": "markdown",
   "id": "0b8f4fa3",
   "metadata": {},
   "source": [
    "np linspace"
   ]
  },
  {
   "cell_type": "code",
   "execution_count": 32,
   "id": "9e3ca7ce",
   "metadata": {},
   "outputs": [
    {
     "name": "stdout",
     "output_type": "stream",
     "text": [
      "1000\n",
      "[10.01001001 10.11011011 10.21021021 10.31031031 10.41041041 10.51051051\n",
      " 10.61061061 10.71071071 10.81081081 10.91091091 11.01101101 11.11111111\n",
      " 11.21121121 11.31131131 11.41141141 11.51151151 11.61161161 11.71171171\n",
      " 11.81181181 11.91191191]\n"
     ]
    }
   ],
   "source": [
    "linspace_np = np.linspace(0,100,num=1000)\n",
    "print(len(linspace_np))\n",
    "print(linspace_np[100:120])"
   ]
  },
  {
   "cell_type": "markdown",
   "id": "62eea636",
   "metadata": {},
   "source": [
    "# Slicing"
   ]
  },
  {
   "cell_type": "code",
   "execution_count": 6,
   "id": "10355f06",
   "metadata": {},
   "outputs": [
    {
     "data": {
      "text/plain": [
       "array([20, 25, 30, 35, 40, 45, 50, 55])"
      ]
     },
     "execution_count": 6,
     "metadata": {},
     "output_type": "execute_result"
    }
   ],
   "source": [
    "array = np.arange(100)\n",
    "array[20:60:5]"
   ]
  },
  {
   "cell_type": "code",
   "execution_count": 7,
   "id": "2245f534",
   "metadata": {},
   "outputs": [
    {
     "data": {
      "text/plain": [
       "array([ 0,  3,  6,  9, 12, 15, 18, 21, 24, 27, 30, 33, 36, 39, 42, 45, 48,\n",
       "       51, 54, 57])"
      ]
     },
     "execution_count": 7,
     "metadata": {},
     "output_type": "execute_result"
    }
   ],
   "source": [
    "sliceArray = slice(0,60,3)\n",
    "array[sliceArray]"
   ]
  },
  {
   "cell_type": "markdown",
   "id": "bc0cfd09",
   "metadata": {},
   "source": [
    "# Array Manipulation"
   ]
  },
  {
   "cell_type": "code",
   "execution_count": 8,
   "id": "1b04c856",
   "metadata": {},
   "outputs": [
    {
     "name": "stdout",
     "output_type": "stream",
     "text": [
      "Array:\n",
      "[ 20  21  22  23  24  25  26  27  28  29  30  31  32  33  34  35  36  37\n",
      "  38  39  40  41  42  43  44  45  46  47  48  49  50  51  52  53  54  55\n",
      "  56  57  58  59  60  61  62  63  64  65  66  67  68  69  70  71  72  73\n",
      "  74  75  76  77  78  79  80  81  82  83  84  85  86  87  88  89  90  91\n",
      "  92  93  94  95  96  97  98  99 100 101 102 103 104 105 106 107 108 109]\n",
      "ndim: 1\n",
      "shape: (90,)\n",
      "Reshaped Array:\n",
      "[[ 20  21  22  23  24  25  26  27  28  29  30  31  32  33  34]\n",
      " [ 35  36  37  38  39  40  41  42  43  44  45  46  47  48  49]\n",
      " [ 50  51  52  53  54  55  56  57  58  59  60  61  62  63  64]\n",
      " [ 65  66  67  68  69  70  71  72  73  74  75  76  77  78  79]\n",
      " [ 80  81  82  83  84  85  86  87  88  89  90  91  92  93  94]\n",
      " [ 95  96  97  98  99 100 101 102 103 104 105 106 107 108 109]]\n",
      "ndim: 2\n",
      "shape: (6, 15)\n",
      "Array:\n",
      "[[ 20  21  22  23  24  25]\n",
      " [ 26  27  28  29  30  31]\n",
      " [ 32  33  34  35  36  37]\n",
      " [ 38  39  40  41  42  43]\n",
      " [ 44  45  46  47  48  49]\n",
      " [ 50  51  52  53  54  55]\n",
      " [ 56  57  58  59  60  61]\n",
      " [ 62  63  64  65  66  67]\n",
      " [ 68  69  70  71  72  73]\n",
      " [ 74  75  76  77  78  79]\n",
      " [ 80  81  82  83  84  85]\n",
      " [ 86  87  88  89  90  91]\n",
      " [ 92  93  94  95  96  97]\n",
      " [ 98  99 100 101 102 103]\n",
      " [104 105 106 107 108 109]]\n",
      "shape: (15, 6)\n",
      "Transpse:\n",
      "\n",
      "Reshaped Array:\n",
      "[[ 20  26  32  38  44  50  56  62  68  74  80  86  92  98 104]\n",
      " [ 21  27  33  39  45  51  57  63  69  75  81  87  93  99 105]\n",
      " [ 22  28  34  40  46  52  58  64  70  76  82  88  94 100 106]\n",
      " [ 23  29  35  41  47  53  59  65  71  77  83  89  95 101 107]\n",
      " [ 24  30  36  42  48  54  60  66  72  78  84  90  96 102 108]\n",
      " [ 25  31  37  43  49  55  61  67  73  79  85  91  97 103 109]]\n",
      "shape: (6, 15)\n"
     ]
    }
   ],
   "source": [
    "Array = np.arange(20,110)\n",
    "print(f\"Array:\\n{Array}\")\n",
    "print(f\"ndim: {Array.ndim}\")\n",
    "print(f\"shape: {Array.shape}\")\n",
    "\n",
    "#reshape\n",
    "Array = Array.reshape(6,15)\n",
    "print(f\"Reshaped Array:\\n{Array}\")\n",
    "print(f\"ndim: {Array.ndim}\")\n",
    "print(f\"shape: {Array.shape}\")\n",
    "\n",
    "#transpose\n",
    "Array = Array.reshape(15,6)\n",
    "print(f\"Array:\\n{Array}\")\n",
    "print(f\"shape: {Array.shape}\")\n",
    "\n",
    "print(\"Transpse:\\n\")\n",
    "Array = np.transpose(Array)\n",
    "print(f\"Reshaped Array:\\n{Array}\")\n",
    "print(f\"shape: {Array.shape}\")"
   ]
  },
  {
   "cell_type": "markdown",
   "id": "b047b342",
   "metadata": {},
   "source": [
    "# Numpy Operations"
   ]
  },
  {
   "cell_type": "code",
   "execution_count": 9,
   "id": "56401cfd",
   "metadata": {},
   "outputs": [
    {
     "name": "stdout",
     "output_type": "stream",
     "text": [
      "[[0 1 2]\n",
      " [3 4 5]\n",
      " [6 7 8]]\n",
      "[[0]\n",
      " [1]\n",
      " [2]]\n",
      "[[ 0  1  2]\n",
      " [ 4  5  6]\n",
      " [ 8  9 10]]\n",
      "[[ 0  0  0]\n",
      " [ 3  4  5]\n",
      " [12 14 16]]\n"
     ]
    }
   ],
   "source": [
    "firstMatrix = np.arange(9).reshape(3,3)\n",
    "secondMatrix = np.arange(3).reshape(3,1)\n",
    "print(firstMatrix)\n",
    "print(secondMatrix)\n",
    "#add\n",
    "addMatrix = np.add(firstMatrix,secondMatrix)\n",
    "print(addMatrix)\n",
    "#multipaction\n",
    "multipactionMatrix = np.multiply(firstMatrix,secondMatrix)\n",
    "print(multipactionMatrix)"
   ]
  },
  {
   "cell_type": "markdown",
   "id": "f51b9d3e",
   "metadata": {},
   "source": [
    "# Numpy Itrating"
   ]
  },
  {
   "cell_type": "code",
   "execution_count": 10,
   "id": "ea9aebaf",
   "metadata": {},
   "outputs": [
    {
     "name": "stdout",
     "output_type": "stream",
     "text": [
      "0-5-10-15-20-25-30-35-40-45-"
     ]
    }
   ],
   "source": [
    "Array = np.arange(0,50,5)\n",
    "for index in np.nditer(Array,order=\"C\"):\n",
    "    print(index,end=\"-\")"
   ]
  },
  {
   "cell_type": "code",
   "execution_count": 11,
   "id": "af9100d6",
   "metadata": {},
   "outputs": [
    {
     "name": "stdout",
     "output_type": "stream",
     "text": [
      "0-5-10-15-20-25-30-35-40-45-"
     ]
    }
   ],
   "source": [
    "for index in np.nditer(Array,order=\"F\"):\n",
    "    print(index,end=\"-\")"
   ]
  },
  {
   "cell_type": "markdown",
   "id": "22ad21b4",
   "metadata": {},
   "source": [
    "# Important Numpy Commands"
   ]
  },
  {
   "cell_type": "code",
   "execution_count": 12,
   "id": "fbfa1aa5",
   "metadata": {},
   "outputs": [],
   "source": [
    "Sample = np.arange(0,9).reshape(3,3)"
   ]
  },
  {
   "cell_type": "code",
   "execution_count": 13,
   "id": "df026ec6",
   "metadata": {},
   "outputs": [
    {
     "name": "stdout",
     "output_type": "stream",
     "text": [
      "Sample Maximum:  8\n"
     ]
    }
   ],
   "source": [
    "print(\"Sample Maximum: \" , np.amax(Sample))"
   ]
  },
  {
   "cell_type": "code",
   "execution_count": 14,
   "id": "f7491bf1",
   "metadata": {},
   "outputs": [
    {
     "name": "stdout",
     "output_type": "stream",
     "text": [
      "Sample Minimum:  0\n"
     ]
    }
   ],
   "source": [
    "print(\"Sample Minimum: \" , np.min(Sample))"
   ]
  },
  {
   "cell_type": "code",
   "execution_count": 20,
   "id": "fa32f609",
   "metadata": {},
   "outputs": [
    {
     "name": "stdout",
     "output_type": "stream",
     "text": [
      "np.where for finding the index of value\n",
      "index of number 6:  [6]\n"
     ]
    }
   ],
   "source": [
    "print(\"np.where for finding the index of value\")\n",
    "print(\"index of number 6: \",np.where(np.arange(0,9) == 6)[0])"
   ]
  },
  {
   "cell_type": "code",
   "execution_count": 22,
   "id": "492018bd",
   "metadata": {},
   "outputs": [
    {
     "name": "stdout",
     "output_type": "stream",
     "text": [
      "np shape:  (3, 3)\n"
     ]
    }
   ],
   "source": [
    "print(\"np shape: \" , Sample.shape)"
   ]
  },
  {
   "cell_type": "code",
   "execution_count": 23,
   "id": "572b0565",
   "metadata": {},
   "outputs": [
    {
     "name": "stdout",
     "output_type": "stream",
     "text": [
      "np ndim:  2\n"
     ]
    }
   ],
   "source": [
    "print(\"np ndim: \" , Sample.ndim)"
   ]
  },
  {
   "cell_type": "code",
   "execution_count": 24,
   "id": "19698b91",
   "metadata": {},
   "outputs": [
    {
     "name": "stdout",
     "output_type": "stream",
     "text": [
      "np mean:  4.0\n"
     ]
    }
   ],
   "source": [
    "print(\"np mean: \",np.mean(Sample))"
   ]
  },
  {
   "cell_type": "code",
   "execution_count": 25,
   "id": "9b9926ea",
   "metadata": {},
   "outputs": [
    {
     "name": "stdout",
     "output_type": "stream",
     "text": [
      "np sort:  [ 0.   0.5  1.   2.   2.   4.   7.  23.  44.  99. ]\n"
     ]
    }
   ],
   "source": [
    "sample_array = np.array([2,7,1,44,0,2,4,99,0.5,23])\n",
    "print(\"np sort: \" , np.sort(sample_array))"
   ]
  }
 ],
 "metadata": {
  "kernelspec": {
   "display_name": "Python 3 (ipykernel)",
   "language": "python",
   "name": "python3"
  },
  "language_info": {
   "codemirror_mode": {
    "name": "ipython",
    "version": 3
   },
   "file_extension": ".py",
   "mimetype": "text/x-python",
   "name": "python",
   "nbconvert_exporter": "python",
   "pygments_lexer": "ipython3",
   "version": "3.9.7"
  }
 },
 "nbformat": 4,
 "nbformat_minor": 5
}
