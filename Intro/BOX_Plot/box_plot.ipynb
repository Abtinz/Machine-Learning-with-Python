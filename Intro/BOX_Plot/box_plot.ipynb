{
 "cells": [
  {
   "cell_type": "code",
   "execution_count": 3,
   "id": "3921f8ed",
   "metadata": {},
   "outputs": [],
   "source": [
    "import numpy as np\n",
    "import matplotlib.pyplot as plt"
   ]
  },
  {
   "cell_type": "code",
   "execution_count": 6,
   "id": "8cfb7bb6",
   "metadata": {},
   "outputs": [
    {
     "name": "stdout",
     "output_type": "stream",
     "text": [
      "[ 20  50  65  80  86  87  89  90  93  94  95  98 100 101 110 110 120 130\n",
      " 140 200 230]\n"
     ]
    }
   ],
   "source": [
    "IQ_data = np.array([50,65,100,130,120,200,110,90,80,86,87,89,93,94,95,98,101,110,140,20,230])\n",
    "IQ_data.sort()\n",
    "print(IQ_data)"
   ]
  },
  {
   "cell_type": "code",
   "execution_count": 8,
   "id": "dd358e4c",
   "metadata": {},
   "outputs": [],
   "source": [
    "def quantile(data):\n",
    "    Q1 = np.quantile(data , 0.25)\n",
    "    Q2 = np.quantile(data , 0.5)\n",
    "    Q3 = np.quantile(data , 0.75)\n",
    "    print(\"first quantile: \",Q1)\n",
    "    print(\"second quantile: \",Q2)\n",
    "    print(\"third quantile: \",Q3)\n",
    "\n",
    "    iqr = Q3 - Q1\n",
    "    print(\"IQR (Q3 - Q1) : \", iqr)\n",
    "\n",
    "    LV = Q1 - (1.5 * iqr)\n",
    "    print(\"LV: \",LV)\n",
    "    return Q1 , Q2 , Q3 , iqr , LV"
   ]
  },
  {
   "cell_type": "code",
   "execution_count": 9,
   "id": "39c51c45",
   "metadata": {},
   "outputs": [
    {
     "name": "stdout",
     "output_type": "stream",
     "text": [
      "first quantile:  87.0\n",
      "second quantile:  95.0\n",
      "third quantile:  110.0\n",
      "IQR (Q3 - Q1) :  23.0\n",
      "LV:  52.5\n"
     ]
    }
   ],
   "source": [
    "Q1 , Q2 , Q3 , iqr , LV = quantile(IQ_data)"
   ]
  },
  {
   "cell_type": "code",
   "execution_count": 14,
   "id": "142f2193",
   "metadata": {},
   "outputs": [
    {
     "data": {
      "text/plain": [
       "Text(0, 0.5, 'IQ Rate')"
      ]
     },
     "execution_count": 14,
     "metadata": {},
     "output_type": "execute_result"
    },
    {
     "data": {
      "image/png": "[encoded data removed]",
      "text/plain": [
       "<Figure size 432x288 with 1 Axes>"
      ]
     },
     "metadata": {
      "needs_background": "light"
     },
     "output_type": "display_data"
    }
   ],
   "source": [
    "plt.boxplot(IQ_data)\n",
    "plt.title(\"IQ BOX PLOT\")\n",
    "plt.ylabel(\"IQ Rate\")"
   ]
  }
 ],
 "metadata": {
  "kernelspec": {
   "display_name": "Python 3 (ipykernel)",
   "language": "python",
   "name": "python3"
  },
  "language_info": {
   "codemirror_mode": {
    "name": "ipython",
    "version": 3
   },
   "file_extension": ".py",
   "mimetype": "text/x-python",
   "name": "python",
   "nbconvert_exporter": "python",
   "pygments_lexer": "ipython3",
   "version": "3.9.7"
  }
 },
 "nbformat": 4,
 "nbformat_minor": 5
}
