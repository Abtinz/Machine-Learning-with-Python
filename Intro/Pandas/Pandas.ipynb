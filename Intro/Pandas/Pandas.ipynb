{
 "cells": [
  {
   "cell_type": "code",
   "execution_count": 1,
   "id": "bb4f1b5a",
   "metadata": {},
   "outputs": [],
   "source": [
    "import numpy as np\n",
    "import pandas as pd"
   ]
  },
  {
   "cell_type": "markdown",
   "id": "a2ff01d5",
   "metadata": {},
   "source": [
    "# Pandas Series"
   ]
  },
  {
   "cell_type": "code",
   "execution_count": 2,
   "id": "f467018f",
   "metadata": {},
   "outputs": [
    {
     "data": {
      "text/plain": [
       "X1    1\n",
       "X2    3\n",
       "X3    2\n",
       "X4    6\n",
       "X5    3\n",
       "X6    8\n",
       "dtype: int64"
      ]
     },
     "execution_count": 2,
     "metadata": {},
     "output_type": "execute_result"
    }
   ],
   "source": [
    "pd_series = pd.Series([1,3,2,6,3,8],index = ['X1','X2','X3','X4','X5','X6'])\n",
    "pd_series"
   ]
  },
  {
   "cell_type": "code",
   "execution_count": 4,
   "id": "9f085417",
   "metadata": {},
   "outputs": [
    {
     "data": {
      "text/plain": [
       "6"
      ]
     },
     "execution_count": 4,
     "metadata": {},
     "output_type": "execute_result"
    }
   ],
   "source": [
    "#index label accessing\n",
    "pd_series.X4"
   ]
  },
  {
   "cell_type": "code",
   "execution_count": 5,
   "id": "bbbbd6f4",
   "metadata": {},
   "outputs": [
    {
     "data": {
      "text/plain": [
       "6"
      ]
     },
     "execution_count": 5,
     "metadata": {},
     "output_type": "execute_result"
    }
   ],
   "source": [
    "#index array accessing\n",
    "pd_series[3]"
   ]
  },
  {
   "cell_type": "code",
   "execution_count": 8,
   "id": "6ebc6872",
   "metadata": {},
   "outputs": [
    {
     "name": "stdout",
     "output_type": "stream",
     "text": [
      "all values:  [1 3 2 6 3 8]\n"
     ]
    }
   ],
   "source": [
    "print(\"all values: \", pd_series.values)"
   ]
  },
  {
   "cell_type": "code",
   "execution_count": 9,
   "id": "88b1f0fc",
   "metadata": {},
   "outputs": [
    {
     "data": {
      "text/plain": [
       "3    2\n",
       "1    1\n",
       "2    1\n",
       "6    1\n",
       "8    1\n",
       "dtype: int64"
      ]
     },
     "execution_count": 9,
     "metadata": {},
     "output_type": "execute_result"
    }
   ],
   "source": [
    "#how to can values of pd series\n",
    "pd_series.value_counts()"
   ]
  },
  {
   "cell_type": "markdown",
   "id": "4114e3a7",
   "metadata": {},
   "source": [
    "# Pandas DataFrame"
   ]
  },
  {
   "cell_type": "code",
   "execution_count": null,
   "id": "e4548623",
   "metadata": {},
   "outputs": [],
   "source": [
    "df = pd.DataFrame([[20,20],[12,19],[19,16],[11,14],[20,19.5]] , index = [\"S1\",\"S2\",\"S3\",\"S4\",\"S5\"] , columns = [\"Math\",\"Physic\"])"
   ]
  }
 ],
 "metadata": {
  "kernelspec": {
   "display_name": "Python 3 (ipykernel)",
   "language": "python",
   "name": "python3"
  },
  "language_info": {
   "codemirror_mode": {
    "name": "ipython",
    "version": 3
   },
   "file_extension": ".py",
   "mimetype": "text/x-python",
   "name": "python",
   "nbconvert_exporter": "python",
   "pygments_lexer": "ipython3",
   "version": "3.9.7"
  }
 },
 "nbformat": 4,
 "nbformat_minor": 5
}
