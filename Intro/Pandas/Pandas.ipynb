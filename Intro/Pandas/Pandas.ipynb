{
 "cells": [
  {
   "cell_type": "code",
   "execution_count": 1,
   "id": "9f0dda14",
   "metadata": {},
   "outputs": [],
   "source": [
    "import numpy as np\n",
    "import pandas as pd"
   ]
  },
  {
   "cell_type": "markdown",
   "id": "d43ff26b",
   "metadata": {},
   "source": [
    "# Pandas Series"
   ]
  },
  {
   "cell_type": "code",
   "execution_count": 2,
   "id": "6610f108",
   "metadata": {},
   "outputs": [
    {
     "data": {
      "text/plain": [
       "X1    1\n",
       "X2    3\n",
       "X3    2\n",
       "X4    6\n",
       "X5    3\n",
       "X6    8\n",
       "dtype: int64"
      ]
     },
     "execution_count": 2,
     "metadata": {},
     "output_type": "execute_result"
    }
   ],
   "source": [
    "pd_series = pd.Series([1,3,2,6,3,8],index = ['X1','X2','X3','X4','X5','X6'])\n",
    "pd_series"
   ]
  },
  {
   "cell_type": "code",
   "execution_count": 4,
   "id": "6c4e10e6",
   "metadata": {},
   "outputs": [
    {
     "data": {
      "text/plain": [
       "6"
      ]
     },
     "execution_count": 4,
     "metadata": {},
     "output_type": "execute_result"
    }
   ],
   "source": [
    "#index label accessing\n",
    "pd_series.X4"
   ]
  },
  {
   "cell_type": "code",
   "execution_count": 5,
   "id": "8409b5cf",
   "metadata": {},
   "outputs": [
    {
     "data": {
      "text/plain": [
       "6"
      ]
     },
     "execution_count": 5,
     "metadata": {},
     "output_type": "execute_result"
    }
   ],
   "source": [
    "#index array accessing\n",
    "pd_series[3]"
   ]
  },
  {
   "cell_type": "code",
   "execution_count": 8,
   "id": "b44fd066",
   "metadata": {},
   "outputs": [
    {
     "name": "stdout",
     "output_type": "stream",
     "text": [
      "all values:  [1 3 2 6 3 8]\n"
     ]
    }
   ],
   "source": [
    "print(\"all values: \", pd_series.values)"
   ]
  },
  {
   "cell_type": "code",
   "execution_count": 9,
   "id": "a199f421",
   "metadata": {},
   "outputs": [
    {
     "data": {
      "text/plain": [
       "3    2\n",
       "1    1\n",
       "2    1\n",
       "6    1\n",
       "8    1\n",
       "dtype: int64"
      ]
     },
     "execution_count": 9,
     "metadata": {},
     "output_type": "execute_result"
    }
   ],
   "source": [
    "#how to can values of pd series\n",
    "pd_series.value_counts()"
   ]
  },
  {
   "cell_type": "markdown",
   "id": "cd7fa05c",
   "metadata": {},
   "source": [
    "# Pandas DataFrame"
   ]
  },
  {
   "cell_type": "code",
   "execution_count": 11,
   "id": "bb153da8",
   "metadata": {},
   "outputs": [
    {
     "data": {
      "text/html": [
       "<div>\n",
       "<style scoped>\n",
       "    .dataframe tbody tr th:only-of-type {\n",
       "        vertical-align: middle;\n",
       "    }\n",
       "\n",
       "    .dataframe tbody tr th {\n",
       "        vertical-align: top;\n",
       "    }\n",
       "\n",
       "    .dataframe thead th {\n",
       "        text-align: right;\n",
       "    }\n",
       "</style>\n",
       "<table border=\"1\" class=\"dataframe\">\n",
       "  <thead>\n",
       "    <tr style=\"text-align: right;\">\n",
       "      <th></th>\n",
       "      <th>Math</th>\n",
       "      <th>Physic</th>\n",
       "    </tr>\n",
       "  </thead>\n",
       "  <tbody>\n",
       "    <tr>\n",
       "      <th>S1</th>\n",
       "      <td>20</td>\n",
       "      <td>20.0</td>\n",
       "    </tr>\n",
       "    <tr>\n",
       "      <th>S2</th>\n",
       "      <td>12</td>\n",
       "      <td>19.0</td>\n",
       "    </tr>\n",
       "    <tr>\n",
       "      <th>S3</th>\n",
       "      <td>19</td>\n",
       "      <td>16.0</td>\n",
       "    </tr>\n",
       "    <tr>\n",
       "      <th>S4</th>\n",
       "      <td>11</td>\n",
       "      <td>14.0</td>\n",
       "    </tr>\n",
       "    <tr>\n",
       "      <th>S5</th>\n",
       "      <td>20</td>\n",
       "      <td>19.5</td>\n",
       "    </tr>\n",
       "  </tbody>\n",
       "</table>\n",
       "</div>"
      ],
      "text/plain": [
       "    Math  Physic\n",
       "S1    20    20.0\n",
       "S2    12    19.0\n",
       "S3    19    16.0\n",
       "S4    11    14.0\n",
       "S5    20    19.5"
      ]
     },
     "execution_count": 11,
     "metadata": {},
     "output_type": "execute_result"
    }
   ],
   "source": [
    "df = pd.DataFrame([[20,20],[12,19],[19,16],[11,14],[20,19.5]] , index = [\"S1\",\"S2\",\"S3\",\"S4\",\"S5\"] ,columns = [\"Math\",\"Physic\"])\n",
    "df"
   ]
  },
  {
   "cell_type": "code",
   "execution_count": 13,
   "id": "e4ce70a4",
   "metadata": {},
   "outputs": [
    {
     "data": {
      "text/plain": [
       "S1    20\n",
       "S2    12\n",
       "S3    19\n",
       "S4    11\n",
       "S5    20\n",
       "Name: Math, dtype: int64"
      ]
     },
     "execution_count": 13,
     "metadata": {},
     "output_type": "execute_result"
    }
   ],
   "source": [
    "#df['Math'] == df.Math\n",
    "df.Math"
   ]
  },
  {
   "cell_type": "code",
   "execution_count": 14,
   "id": "96bfefb8",
   "metadata": {},
   "outputs": [
    {
     "data": {
      "text/plain": [
       "16.0"
      ]
     },
     "execution_count": 14,
     "metadata": {},
     "output_type": "execute_result"
    }
   ],
   "source": [
    "#data accessing by index location\n",
    "df.iloc[2,1]"
   ]
  }
 ],
 "metadata": {
  "kernelspec": {
   "display_name": "Python 3 (ipykernel)",
   "language": "python",
   "name": "python3"
  },
  "language_info": {
   "codemirror_mode": {
    "name": "ipython",
    "version": 3
   },
   "file_extension": ".py",
   "mimetype": "text/x-python",
   "name": "python",
   "nbconvert_exporter": "python",
   "pygments_lexer": "ipython3",
   "version": "3.9.7"
  }
 },
 "nbformat": 4,
 "nbformat_minor": 5
}
