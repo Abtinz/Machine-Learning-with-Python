{
 "cells": [
  {
   "cell_type": "code",
   "execution_count": 1,
   "id": "fb8b6507",
   "metadata": {},
   "outputs": [],
   "source": [
    "import statistics"
   ]
  },
  {
   "cell_type": "code",
   "execution_count": 12,
   "id": "507d959f",
   "metadata": {},
   "outputs": [],
   "source": [
    "simple_array = [12,238,34,34,23,78,23,68,12,554,223,122,333,444,333,333,550,120,250]"
   ]
  },
  {
   "cell_type": "code",
   "execution_count": 15,
   "id": "2c26c6b3",
   "metadata": {},
   "outputs": [
    {
     "name": "stdout",
     "output_type": "stream",
     "text": [
      "[12, 12, 23, 23, 34, 34, 68, 78, 120, 122, 223, 238, 250, 333, 333, 333, 444, 550, 554]\n"
     ]
    }
   ],
   "source": [
    "simple_array.sort()\n",
    "print(simple_array)"
   ]
  },
  {
   "cell_type": "markdown",
   "id": "51ee230a",
   "metadata": {},
   "source": [
    "# Measures of Central Tendency "
   ]
  },
  {
   "cell_type": "code",
   "execution_count": 3,
   "id": "80164522",
   "metadata": {},
   "outputs": [
    {
     "data": {
      "text/plain": [
       "199.1578947368421"
      ]
     },
     "execution_count": 3,
     "metadata": {},
     "output_type": "execute_result"
    }
   ],
   "source": [
    "statistics.mean(simple_array)"
   ]
  },
  {
   "cell_type": "code",
   "execution_count": 4,
   "id": "a2268600",
   "metadata": {},
   "outputs": [
    {
     "data": {
      "text/plain": [
       "333"
      ]
     },
     "execution_count": 4,
     "metadata": {},
     "output_type": "execute_result"
    }
   ],
   "source": [
    "statistics.mode(simple_array)"
   ]
  },
  {
   "cell_type": "code",
   "execution_count": 14,
   "id": "ba4558d9",
   "metadata": {},
   "outputs": [
    {
     "data": {
      "text/plain": [
       "122"
      ]
     },
     "execution_count": 14,
     "metadata": {},
     "output_type": "execute_result"
    }
   ],
   "source": [
    "statistics.median(simple_array)"
   ]
  },
  {
   "cell_type": "code",
   "execution_count": 17,
   "id": "900a2bc7",
   "metadata": {},
   "outputs": [
    {
     "data": {
      "text/plain": [
       "21"
      ]
     },
     "execution_count": 17,
     "metadata": {},
     "output_type": "execute_result"
    }
   ],
   "source": [
    "even_array = [12,28,39,21,29,17]\n",
    "even_array.sort()\n",
    "statistics.median_low(even_array)"
   ]
  },
  {
   "cell_type": "code",
   "execution_count": 18,
   "id": "a2d6e739",
   "metadata": {},
   "outputs": [
    {
     "data": {
      "text/plain": [
       "28"
      ]
     },
     "execution_count": 18,
     "metadata": {},
     "output_type": "execute_result"
    }
   ],
   "source": [
    "statistics.median_high(even_array)"
   ]
  },
  {
   "cell_type": "code",
   "execution_count": 19,
   "id": "4723c5b4",
   "metadata": {},
   "outputs": [
    {
     "data": {
      "text/plain": [
       "24.5"
      ]
     },
     "execution_count": 19,
     "metadata": {},
     "output_type": "execute_result"
    }
   ],
   "source": [
    "statistics.median(even_array)"
   ]
  },
  {
   "cell_type": "markdown",
   "id": "dde9bf30",
   "metadata": {},
   "source": [
    "# Statistical Dispersion"
   ]
  },
  {
   "cell_type": "code",
   "execution_count": 20,
   "id": "a91c96de",
   "metadata": {},
   "outputs": [
    {
     "data": {
      "text/plain": [
       "33229.36257309942"
      ]
     },
     "execution_count": 20,
     "metadata": {},
     "output_type": "execute_result"
    }
   ],
   "source": [
    "statistics.variance(simple_array)"
   ]
  },
  {
   "cell_type": "code",
   "execution_count": 22,
   "id": "f21b10ac",
   "metadata": {},
   "outputs": [
    {
     "data": {
      "text/plain": [
       "182.2892278032342"
      ]
     },
     "execution_count": 22,
     "metadata": {},
     "output_type": "execute_result"
    }
   ],
   "source": [
    "#standard deviation\n",
    "statistics.stdev(simple_array)"
   ]
  },
  {
   "cell_type": "markdown",
   "id": "8813804f",
   "metadata": {},
   "source": [
    "# Quarter"
   ]
  },
  {
   "cell_type": "code",
   "execution_count": 23,
   "id": "3c58cd00",
   "metadata": {},
   "outputs": [],
   "source": [
    "import numpy as np"
   ]
  },
  {
   "cell_type": "code",
   "execution_count": 24,
   "id": "8d5d3188",
   "metadata": {},
   "outputs": [],
   "source": [
    "np_arr = np.arange(1,101)"
   ]
  },
  {
   "cell_type": "code",
   "execution_count": 25,
   "id": "9db1fc22",
   "metadata": {},
   "outputs": [
    {
     "data": {
      "text/plain": [
       "25.75"
      ]
     },
     "execution_count": 25,
     "metadata": {},
     "output_type": "execute_result"
    }
   ],
   "source": [
    "np.quantile(np_arr , 0.25)"
   ]
  },
  {
   "cell_type": "code",
   "execution_count": 26,
   "id": "5a53c125",
   "metadata": {},
   "outputs": [
    {
     "data": {
      "text/plain": [
       "50.5"
      ]
     },
     "execution_count": 26,
     "metadata": {},
     "output_type": "execute_result"
    }
   ],
   "source": [
    "np.quantile(np_arr , 0.5)"
   ]
  },
  {
   "cell_type": "code",
   "execution_count": 27,
   "id": "0e0c6ebf",
   "metadata": {},
   "outputs": [
    {
     "data": {
      "text/plain": [
       "75.25"
      ]
     },
     "execution_count": 27,
     "metadata": {},
     "output_type": "execute_result"
    }
   ],
   "source": [
    "np.quantile(np_arr , 0.75)"
   ]
  }
 ],
 "metadata": {
  "kernelspec": {
   "display_name": "Python 3 (ipykernel)",
   "language": "python",
   "name": "python3"
  },
  "language_info": {
   "codemirror_mode": {
    "name": "ipython",
    "version": 3
   },
   "file_extension": ".py",
   "mimetype": "text/x-python",
   "name": "python",
   "nbconvert_exporter": "python",
   "pygments_lexer": "ipython3",
   "version": "3.9.7"
  }
 },
 "nbformat": 4,
 "nbformat_minor": 5
}
