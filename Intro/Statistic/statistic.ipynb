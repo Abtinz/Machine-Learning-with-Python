{
 "cells": [
  {
   "cell_type": "code",
   "execution_count": 1,
   "id": "d1ed74b9",
   "metadata": {},
   "outputs": [],
   "source": [
    "import statistics"
   ]
  },
  {
   "cell_type": "code",
   "execution_count": 12,
   "id": "f2f0b4c1",
   "metadata": {},
   "outputs": [],
   "source": [
    "simple_array = [12,238,34,34,23,78,23,68,12,554,223,122,333,444,333,333,550,120,250]"
   ]
  },
  {
   "cell_type": "code",
   "execution_count": 15,
   "id": "d473ea5d",
   "metadata": {},
   "outputs": [
    {
     "name": "stdout",
     "output_type": "stream",
     "text": [
      "[12, 12, 23, 23, 34, 34, 68, 78, 120, 122, 223, 238, 250, 333, 333, 333, 444, 550, 554]\n"
     ]
    }
   ],
   "source": [
    "simple_array.sort()\n",
    "print(simple_array)"
   ]
  },
  {
   "cell_type": "markdown",
   "id": "5687bceb",
   "metadata": {},
   "source": [
    "# Measures of Central Tendency "
   ]
  },
  {
   "cell_type": "code",
   "execution_count": 3,
   "id": "03fc7b34",
   "metadata": {},
   "outputs": [
    {
     "data": {
      "text/plain": [
       "199.1578947368421"
      ]
     },
     "execution_count": 3,
     "metadata": {},
     "output_type": "execute_result"
    }
   ],
   "source": [
    "statistics.mean(simple_array)"
   ]
  },
  {
   "cell_type": "code",
   "execution_count": 4,
   "id": "0e4a9bc4",
   "metadata": {},
   "outputs": [
    {
     "data": {
      "text/plain": [
       "333"
      ]
     },
     "execution_count": 4,
     "metadata": {},
     "output_type": "execute_result"
    }
   ],
   "source": [
    "statistics.mode(simple_array)"
   ]
  },
  {
   "cell_type": "code",
   "execution_count": 14,
   "id": "7ba64cf8",
   "metadata": {},
   "outputs": [
    {
     "data": {
      "text/plain": [
       "122"
      ]
     },
     "execution_count": 14,
     "metadata": {},
     "output_type": "execute_result"
    }
   ],
   "source": [
    "statistics.median(simple_array)"
   ]
  },
  {
   "cell_type": "code",
   "execution_count": 17,
   "id": "a8e671a9",
   "metadata": {},
   "outputs": [
    {
     "data": {
      "text/plain": [
       "21"
      ]
     },
     "execution_count": 17,
     "metadata": {},
     "output_type": "execute_result"
    }
   ],
   "source": [
    "even_array = [12,28,39,21,29,17]\n",
    "even_array.sort()\n",
    "statistics.median_low(even_array)"
   ]
  },
  {
   "cell_type": "code",
   "execution_count": 18,
   "id": "08a81c14",
   "metadata": {},
   "outputs": [
    {
     "data": {
      "text/plain": [
       "28"
      ]
     },
     "execution_count": 18,
     "metadata": {},
     "output_type": "execute_result"
    }
   ],
   "source": [
    "statistics.median_high(even_array)"
   ]
  },
  {
   "cell_type": "code",
   "execution_count": 19,
   "id": "2887f9cf",
   "metadata": {},
   "outputs": [
    {
     "data": {
      "text/plain": [
       "24.5"
      ]
     },
     "execution_count": 19,
     "metadata": {},
     "output_type": "execute_result"
    }
   ],
   "source": [
    "statistics.median(even_array)"
   ]
  },
  {
   "cell_type": "markdown",
   "id": "2f370f6d",
   "metadata": {},
   "source": [
    "# Statistical Dispersion"
   ]
  },
  {
   "cell_type": "code",
   "execution_count": 20,
   "id": "23e1a2bb",
   "metadata": {},
   "outputs": [
    {
     "data": {
      "text/plain": [
       "33229.36257309942"
      ]
     },
     "execution_count": 20,
     "metadata": {},
     "output_type": "execute_result"
    }
   ],
   "source": [
    "statistics.variance(simple_array)"
   ]
  },
  {
   "cell_type": "code",
   "execution_count": 22,
   "id": "b45c10ec",
   "metadata": {},
   "outputs": [
    {
     "data": {
      "text/plain": [
       "182.2892278032342"
      ]
     },
     "execution_count": 22,
     "metadata": {},
     "output_type": "execute_result"
    }
   ],
   "source": [
    "#standard deviation\n",
    "statistics.stdev(simple_array)"
   ]
  },
  {
   "cell_type": "markdown",
   "id": "465750eb",
   "metadata": {},
   "source": [
    "# Quarter"
   ]
  },
  {
   "cell_type": "code",
   "execution_count": null,
   "id": "9478fb70",
   "metadata": {},
   "outputs": [],
   "source": []
  }
 ],
 "metadata": {
  "kernelspec": {
   "display_name": "Python 3 (ipykernel)",
   "language": "python",
   "name": "python3"
  },
  "language_info": {
   "codemirror_mode": {
    "name": "ipython",
    "version": 3
   },
   "file_extension": ".py",
   "mimetype": "text/x-python",
   "name": "python",
   "nbconvert_exporter": "python",
   "pygments_lexer": "ipython3",
   "version": "3.9.7"
  }
 },
 "nbformat": 4,
 "nbformat_minor": 5
}
