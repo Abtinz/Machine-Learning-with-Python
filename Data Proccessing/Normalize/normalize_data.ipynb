{
 "cells": [
  {
   "cell_type": "code",
   "execution_count": 1,
   "id": "6f44d881",
   "metadata": {},
   "outputs": [],
   "source": [
    "from sklearn.preprocessing import MinMaxScaler"
   ]
  },
  {
   "cell_type": "code",
   "execution_count": 2,
   "id": "f6b5bfa5",
   "metadata": {},
   "outputs": [],
   "source": [
    "sample = [[1,20] , [3,15] , [0.5,40] , [5,25]]"
   ]
  },
  {
   "cell_type": "code",
   "execution_count": 5,
   "id": "c9ae176d",
   "metadata": {},
   "outputs": [
    {
     "data": {
      "text/plain": [
       "array([[0.11111111, 0.2       ],\n",
       "       [0.55555556, 0.        ],\n",
       "       [0.        , 1.        ],\n",
       "       [1.        , 0.4       ]])"
      ]
     },
     "execution_count": 5,
     "metadata": {},
     "output_type": "execute_result"
    }
   ],
   "source": [
    "MinMaxScaler().fit(sample).transform(sample)"
   ]
  },
  {
   "cell_type": "code",
   "execution_count": 7,
   "id": "61b9adad",
   "metadata": {},
   "outputs": [
    {
     "data": {
      "text/plain": [
       "array([ 0.5, 15. ])"
      ]
     },
     "execution_count": 7,
     "metadata": {},
     "output_type": "execute_result"
    }
   ],
   "source": [
    "MinMaxScaler().fit(sample).data_min_"
   ]
  },
  {
   "cell_type": "code",
   "execution_count": 6,
   "id": "450d6342",
   "metadata": {},
   "outputs": [
    {
     "data": {
      "text/plain": [
       "array([ 5., 40.])"
      ]
     },
     "execution_count": 6,
     "metadata": {},
     "output_type": "execute_result"
    }
   ],
   "source": [
    "MinMaxScaler().fit(sample).data_max_"
   ]
  },
  {
   "cell_type": "code",
   "execution_count": 8,
   "id": "2c215d19",
   "metadata": {},
   "outputs": [],
   "source": [
    "from sklearn.preprocessing import normalize"
   ]
  },
  {
   "cell_type": "code",
   "execution_count": 9,
   "id": "76ea14d8",
   "metadata": {},
   "outputs": [
    {
     "data": {
      "text/plain": [
       "array([[0.10526316, 0.2       ],\n",
       "       [0.31578947, 0.15      ],\n",
       "       [0.05263158, 0.4       ],\n",
       "       [0.52631579, 0.25      ]])"
      ]
     },
     "execution_count": 9,
     "metadata": {},
     "output_type": "execute_result"
    }
   ],
   "source": [
    "#l1 --> normalize by dividing to summation of abs(corresponding data)\n",
    "normalize(sample,norm = 'l1',axis = 0)"
   ]
  },
  {
   "cell_type": "code",
   "execution_count": 10,
   "id": "559f384f",
   "metadata": {},
   "outputs": [
    {
     "data": {
      "text/plain": [
       "array([[0.16843038, 0.37463432],\n",
       "       [0.50529115, 0.28097574],\n",
       "       [0.08421519, 0.74926865],\n",
       "       [0.84215192, 0.46829291]])"
      ]
     },
     "execution_count": 10,
     "metadata": {},
     "output_type": "execute_result"
    }
   ],
   "source": [
    "#l2 --> normalize by dividing to sqrt of summation of square corresponding data\n",
    "normalize(sample,norm = 'l2',axis = 0)"
   ]
  }
 ],
 "metadata": {
  "kernelspec": {
   "display_name": "Python 3 (ipykernel)",
   "language": "python",
   "name": "python3"
  },
  "language_info": {
   "codemirror_mode": {
    "name": "ipython",
    "version": 3
   },
   "file_extension": ".py",
   "mimetype": "text/x-python",
   "name": "python",
   "nbconvert_exporter": "python",
   "pygments_lexer": "ipython3",
   "version": "3.10.9"
  }
 },
 "nbformat": 4,
 "nbformat_minor": 5
}
