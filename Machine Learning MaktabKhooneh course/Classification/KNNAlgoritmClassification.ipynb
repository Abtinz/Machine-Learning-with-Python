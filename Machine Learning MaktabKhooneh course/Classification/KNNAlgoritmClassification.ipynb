{
 "cells": [
  {
   "cell_type": "code",
   "execution_count": 2,
   "id": "e0249c8b",
   "metadata": {},
   "outputs": [],
   "source": [
    "#All esential Imports ...\n",
    "import matplotlib.pyplot as plt\n",
    "%matplotlib inline\n",
    "import pandas as pd\n",
    "import numpy as np\n",
    "from sklearn import preprocessing\n",
    "from sklearn.neighbors import KNeighborsClassifier #KN Algoritm ...\n",
    "# in KNN we need to test the accuracy of specefic K (metrics)\n",
    "from sklearn import metrics "
   ]
  },
  {
   "cell_type": "code",
   "execution_count": 3,
   "id": "2be74942",
   "metadata": {},
   "outputs": [
    {
     "data": {
      "text/html": [
       "<div>\n",
       "<style scoped>\n",
       "    .dataframe tbody tr th:only-of-type {\n",
       "        vertical-align: middle;\n",
       "    }\n",
       "\n",
       "    .dataframe tbody tr th {\n",
       "        vertical-align: top;\n",
       "    }\n",
       "\n",
       "    .dataframe thead th {\n",
       "        text-align: right;\n",
       "    }\n",
       "</style>\n",
       "<table border=\"1\" class=\"dataframe\">\n",
       "  <thead>\n",
       "    <tr style=\"text-align: right;\">\n",
       "      <th></th>\n",
       "      <th>region</th>\n",
       "      <th>tenure</th>\n",
       "      <th>age</th>\n",
       "      <th>marital</th>\n",
       "      <th>address</th>\n",
       "      <th>income</th>\n",
       "      <th>ed</th>\n",
       "      <th>employ</th>\n",
       "      <th>retire</th>\n",
       "      <th>gender</th>\n",
       "      <th>reside</th>\n",
       "      <th>custcat</th>\n",
       "    </tr>\n",
       "  </thead>\n",
       "  <tbody>\n",
       "    <tr>\n",
       "      <th>0</th>\n",
       "      <td>2</td>\n",
       "      <td>13</td>\n",
       "      <td>44</td>\n",
       "      <td>1</td>\n",
       "      <td>9</td>\n",
       "      <td>64.0</td>\n",
       "      <td>4</td>\n",
       "      <td>5</td>\n",
       "      <td>0.0</td>\n",
       "      <td>0</td>\n",
       "      <td>2</td>\n",
       "      <td>1</td>\n",
       "    </tr>\n",
       "    <tr>\n",
       "      <th>1</th>\n",
       "      <td>3</td>\n",
       "      <td>11</td>\n",
       "      <td>33</td>\n",
       "      <td>1</td>\n",
       "      <td>7</td>\n",
       "      <td>136.0</td>\n",
       "      <td>5</td>\n",
       "      <td>5</td>\n",
       "      <td>0.0</td>\n",
       "      <td>0</td>\n",
       "      <td>6</td>\n",
       "      <td>4</td>\n",
       "    </tr>\n",
       "    <tr>\n",
       "      <th>2</th>\n",
       "      <td>3</td>\n",
       "      <td>68</td>\n",
       "      <td>52</td>\n",
       "      <td>1</td>\n",
       "      <td>24</td>\n",
       "      <td>116.0</td>\n",
       "      <td>1</td>\n",
       "      <td>29</td>\n",
       "      <td>0.0</td>\n",
       "      <td>1</td>\n",
       "      <td>2</td>\n",
       "      <td>3</td>\n",
       "    </tr>\n",
       "    <tr>\n",
       "      <th>3</th>\n",
       "      <td>2</td>\n",
       "      <td>33</td>\n",
       "      <td>33</td>\n",
       "      <td>0</td>\n",
       "      <td>12</td>\n",
       "      <td>33.0</td>\n",
       "      <td>2</td>\n",
       "      <td>0</td>\n",
       "      <td>0.0</td>\n",
       "      <td>1</td>\n",
       "      <td>1</td>\n",
       "      <td>1</td>\n",
       "    </tr>\n",
       "    <tr>\n",
       "      <th>4</th>\n",
       "      <td>2</td>\n",
       "      <td>23</td>\n",
       "      <td>30</td>\n",
       "      <td>1</td>\n",
       "      <td>9</td>\n",
       "      <td>30.0</td>\n",
       "      <td>1</td>\n",
       "      <td>2</td>\n",
       "      <td>0.0</td>\n",
       "      <td>0</td>\n",
       "      <td>4</td>\n",
       "      <td>3</td>\n",
       "    </tr>\n",
       "    <tr>\n",
       "      <th>5</th>\n",
       "      <td>2</td>\n",
       "      <td>41</td>\n",
       "      <td>39</td>\n",
       "      <td>0</td>\n",
       "      <td>17</td>\n",
       "      <td>78.0</td>\n",
       "      <td>2</td>\n",
       "      <td>16</td>\n",
       "      <td>0.0</td>\n",
       "      <td>1</td>\n",
       "      <td>1</td>\n",
       "      <td>3</td>\n",
       "    </tr>\n",
       "    <tr>\n",
       "      <th>6</th>\n",
       "      <td>3</td>\n",
       "      <td>45</td>\n",
       "      <td>22</td>\n",
       "      <td>1</td>\n",
       "      <td>2</td>\n",
       "      <td>19.0</td>\n",
       "      <td>2</td>\n",
       "      <td>4</td>\n",
       "      <td>0.0</td>\n",
       "      <td>1</td>\n",
       "      <td>5</td>\n",
       "      <td>2</td>\n",
       "    </tr>\n",
       "    <tr>\n",
       "      <th>7</th>\n",
       "      <td>2</td>\n",
       "      <td>38</td>\n",
       "      <td>35</td>\n",
       "      <td>0</td>\n",
       "      <td>5</td>\n",
       "      <td>76.0</td>\n",
       "      <td>2</td>\n",
       "      <td>10</td>\n",
       "      <td>0.0</td>\n",
       "      <td>0</td>\n",
       "      <td>3</td>\n",
       "      <td>4</td>\n",
       "    </tr>\n",
       "    <tr>\n",
       "      <th>8</th>\n",
       "      <td>3</td>\n",
       "      <td>45</td>\n",
       "      <td>59</td>\n",
       "      <td>1</td>\n",
       "      <td>7</td>\n",
       "      <td>166.0</td>\n",
       "      <td>4</td>\n",
       "      <td>31</td>\n",
       "      <td>0.0</td>\n",
       "      <td>0</td>\n",
       "      <td>5</td>\n",
       "      <td>3</td>\n",
       "    </tr>\n",
       "    <tr>\n",
       "      <th>9</th>\n",
       "      <td>1</td>\n",
       "      <td>68</td>\n",
       "      <td>41</td>\n",
       "      <td>1</td>\n",
       "      <td>21</td>\n",
       "      <td>72.0</td>\n",
       "      <td>1</td>\n",
       "      <td>22</td>\n",
       "      <td>0.0</td>\n",
       "      <td>0</td>\n",
       "      <td>3</td>\n",
       "      <td>2</td>\n",
       "    </tr>\n",
       "  </tbody>\n",
       "</table>\n",
       "</div>"
      ],
      "text/plain": [
       "   region  tenure  age  marital  address  income  ed  employ  retire  gender  \\\n",
       "0       2      13   44        1        9    64.0   4       5     0.0       0   \n",
       "1       3      11   33        1        7   136.0   5       5     0.0       0   \n",
       "2       3      68   52        1       24   116.0   1      29     0.0       1   \n",
       "3       2      33   33        0       12    33.0   2       0     0.0       1   \n",
       "4       2      23   30        1        9    30.0   1       2     0.0       0   \n",
       "5       2      41   39        0       17    78.0   2      16     0.0       1   \n",
       "6       3      45   22        1        2    19.0   2       4     0.0       1   \n",
       "7       2      38   35        0        5    76.0   2      10     0.0       0   \n",
       "8       3      45   59        1        7   166.0   4      31     0.0       0   \n",
       "9       1      68   41        1       21    72.0   1      22     0.0       0   \n",
       "\n",
       "   reside  custcat  \n",
       "0       2        1  \n",
       "1       6        4  \n",
       "2       2        3  \n",
       "3       1        1  \n",
       "4       4        3  \n",
       "5       1        3  \n",
       "6       5        2  \n",
       "7       3        4  \n",
       "8       5        3  \n",
       "9       3        2  "
      ]
     },
     "execution_count": 3,
     "metadata": {},
     "output_type": "execute_result"
    }
   ],
   "source": [
    "#read csv file (China GDP)\n",
    "allData = pd.read_csv(\"C:/Users/ABTIN/Desktop/teleCust1000t.csv\",encoding = \"ISO-8859-1\",low_memory=False)\n",
    "allData.head(10)#take a simple look on file"
   ]
  },
  {
   "cell_type": "code",
   "execution_count": 4,
   "id": "296bf3f0",
   "metadata": {},
   "outputs": [
    {
     "data": {
      "text/plain": [
       "array([[ 2., 13., 44., ...,  0.,  0.,  2.],\n",
       "       [ 3., 11., 33., ...,  0.,  0.,  6.],\n",
       "       [ 3., 68., 52., ...,  0.,  1.,  2.],\n",
       "       ...,\n",
       "       [ 3., 67., 59., ...,  0.,  1.,  1.],\n",
       "       [ 3., 70., 49., ...,  0.,  1.,  1.],\n",
       "       [ 3., 50., 36., ...,  0.,  1.,  3.]])"
      ]
     },
     "execution_count": 4,
     "metadata": {},
     "output_type": "execute_result"
    }
   ],
   "source": [
    "#elemnate y out put ...\n",
    "Xdata = allData[['region','tenure','age','marital','address','income','ed','employ','retire','gender','reside']].values\n",
    "Xdata"
   ]
  },
  {
   "cell_type": "code",
   "execution_count": 5,
   "id": "733a3690",
   "metadata": {},
   "outputs": [
    {
     "data": {
      "text/plain": [
       "array([1, 4, 3, 1, 3, 3, 2, 4, 3, 2, 1, 3, 1, 4, 1, 2, 3, 3, 1, 4, 2, 1,\n",
       "       4, 1, 3, 3, 4, 3, 1, 2, 2, 4, 3, 2, 4, 2, 4, 3, 3, 3, 3, 3, 1, 4,\n",
       "       3, 2, 2, 4, 1, 3, 1, 2, 4, 1, 1, 1, 2, 1, 3, 2, 3, 4, 1, 4, 4, 1,\n",
       "       3, 3, 1, 1, 1, 2, 1, 2, 3, 1, 3, 1, 3, 4, 4, 1, 4, 3, 2, 1, 2, 4,\n",
       "       4, 3, 2, 1, 2, 4, 1, 4, 3, 2, 3, 2, 4, 3, 3, 2, 2, 2, 1, 4, 1, 2,\n",
       "       2, 2, 1, 2, 3, 1, 3, 3, 3, 1, 1, 1, 1, 2, 1, 2, 4, 2, 2, 4, 3, 1,\n",
       "       4, 2, 3, 1, 1, 3, 3, 4, 4, 3, 4, 2, 3, 1, 4, 2, 2, 2, 1, 3, 4, 4,\n",
       "       4, 3, 1, 1, 2, 3, 3, 3, 1, 3, 2, 2, 4, 1, 1, 2, 4, 1, 4, 1, 2, 1,\n",
       "       3, 4, 4, 1, 4, 1, 2, 2, 2, 1, 1, 2, 3, 3, 1, 4, 2, 3, 4, 1, 1, 3,\n",
       "       1, 4, 1, 4, 2, 2, 4, 1, 3, 4, 3, 3, 1, 1, 1, 2, 2, 1, 3, 4, 4, 1,\n",
       "       3, 4, 1, 3, 1, 4, 4, 1, 3, 3, 3, 3, 2, 1, 4, 2, 4, 4, 1, 4, 1, 4,\n",
       "       3, 2, 1, 3, 2, 1, 1, 2, 1, 4, 2, 2, 4, 3, 2, 1, 4, 4, 4, 1, 3, 2,\n",
       "       1, 1, 3, 3, 3, 1, 3, 2, 4, 1, 3, 2, 2, 3, 3, 1, 4, 4, 3, 2, 3, 3,\n",
       "       4, 3, 3, 2, 4, 3, 2, 3, 4, 4, 3, 1, 4, 2, 3, 3, 2, 2, 1, 4, 2, 3,\n",
       "       4, 1, 1, 2, 2, 4, 4, 1, 3, 1, 4, 1, 4, 3, 2, 4, 1, 3, 1, 3, 4, 1,\n",
       "       1, 1, 1, 4, 2, 1, 3, 1, 1, 3, 1, 4, 1, 4, 3, 1, 2, 3, 4, 4, 4, 3,\n",
       "       1, 3, 2, 3, 2, 2, 3, 3, 3, 3, 4, 2, 3, 1, 4, 3, 1, 4, 4, 3, 2, 4,\n",
       "       1, 1, 2, 2, 4, 1, 1, 2, 3, 2, 2, 3, 1, 4, 3, 2, 1, 4, 4, 4, 3, 4,\n",
       "       3, 2, 3, 3, 2, 3, 2, 3, 1, 3, 4, 2, 1, 2, 4, 1, 2, 2, 3, 2, 1, 3,\n",
       "       2, 1, 2, 1, 3, 4, 2, 2, 4, 1, 3, 2, 1, 2, 1, 2, 4, 4, 1, 4, 3, 4,\n",
       "       4, 3, 4, 1, 3, 2, 3, 1, 4, 3, 3, 1, 1, 2, 4, 1, 4, 2, 3, 4, 1, 4,\n",
       "       3, 2, 3, 4, 3, 1, 2, 1, 2, 3, 2, 1, 4, 2, 4, 3, 2, 1, 1, 1, 2, 1,\n",
       "       3, 1, 1, 3, 2, 3, 1, 1, 1, 1, 3, 4, 2, 4, 3, 3, 2, 2, 2, 3, 1, 1,\n",
       "       2, 4, 2, 2, 4, 4, 2, 2, 4, 4, 1, 4, 4, 3, 4, 2, 3, 1, 2, 2, 3, 1,\n",
       "       4, 1, 1, 1, 3, 2, 3, 3, 4, 3, 4, 4, 3, 3, 4, 1, 3, 4, 1, 3, 1, 1,\n",
       "       2, 4, 2, 3, 1, 1, 3, 3, 2, 4, 2, 4, 1, 1, 3, 2, 1, 2, 1, 3, 2, 4,\n",
       "       3, 4, 1, 1, 4, 1, 4, 3, 2, 3, 3, 1, 1, 3, 1, 1, 1, 1, 3, 4, 3, 1,\n",
       "       3, 4, 3, 3, 4, 1, 1, 2, 1, 3, 2, 2, 3, 1, 4, 1, 3, 2, 3, 3, 3, 1,\n",
       "       1, 3, 2, 4, 3, 1, 2, 2, 4, 1, 4, 3, 1, 1, 3, 1, 3, 4, 1, 4, 2, 1,\n",
       "       3, 3, 4, 3, 3, 1, 1, 2, 4, 4, 3, 1, 3, 1, 3, 1, 1, 3, 3, 4, 2, 1,\n",
       "       3, 2, 1, 4, 4, 1, 4, 2, 2, 4, 2, 2, 3, 1, 2, 3, 4, 3, 4, 2, 2, 3,\n",
       "       3, 1, 3, 3, 2, 1, 4, 2, 2, 3, 2, 1, 4, 2, 4, 3, 4, 2, 2, 2, 3, 3,\n",
       "       1, 2, 2, 2, 3, 4, 4, 1, 4, 4, 4, 1, 4, 3, 3, 4, 1, 1, 1, 4, 2, 3,\n",
       "       2, 3, 1, 1, 1, 1, 4, 1, 2, 2, 1, 1, 4, 3, 2, 4, 3, 3, 1, 4, 2, 2,\n",
       "       2, 1, 4, 4, 2, 3, 2, 1, 3, 2, 1, 2, 4, 4, 3, 1, 2, 4, 4, 3, 2, 1,\n",
       "       2, 3, 4, 3, 3, 2, 1, 4, 4, 4, 1, 1, 3, 4, 1, 1, 1, 3, 2, 2, 2, 1,\n",
       "       2, 3, 1, 3, 2, 4, 4, 4, 3, 4, 3, 3, 3, 3, 3, 4, 3, 2, 4, 1, 2, 3,\n",
       "       3, 3, 3, 3, 4, 3, 1, 3, 4, 4, 1, 4, 1, 3, 2, 2, 3, 2, 1, 1, 3, 1,\n",
       "       2, 3, 3, 4, 1, 3, 1, 2, 1, 1, 1, 4, 4, 4, 2, 3, 2, 2, 3, 3, 1, 3,\n",
       "       4, 1, 2, 3, 4, 4, 2, 4, 1, 4, 3, 2, 4, 3, 3, 2, 1, 3, 3, 3, 4, 2,\n",
       "       4, 4, 3, 2, 3, 3, 4, 4, 2, 4, 4, 2, 3, 4, 2, 1, 2, 2, 4, 4, 4, 4,\n",
       "       1, 1, 1, 1, 1, 2, 3, 1, 3, 4, 2, 1, 3, 3, 2, 3, 3, 4, 1, 4, 2, 3,\n",
       "       3, 3, 4, 1, 3, 3, 4, 4, 4, 3, 4, 1, 1, 3, 1, 3, 1, 2, 4, 3, 3, 4,\n",
       "       3, 2, 4, 2, 1, 4, 3, 4, 4, 1, 1, 3, 3, 3, 1, 1, 2, 1, 4, 4, 4, 3,\n",
       "       1, 3, 1, 1, 3, 3, 3, 2, 3, 1, 1, 3, 2, 1, 3, 1, 3, 4, 4, 4, 2, 3,\n",
       "       3, 2, 3, 4, 4, 1, 1, 4, 3, 2], dtype=int64)"
      ]
     },
     "execution_count": 5,
     "metadata": {},
     "output_type": "execute_result"
    }
   ],
   "source": [
    "#output --> y\n",
    "ydata = allData['custcat'].values\n",
    "ydata"
   ]
  },
  {
   "cell_type": "code",
   "execution_count": 6,
   "id": "057f1ab5",
   "metadata": {},
   "outputs": [
    {
     "data": {
      "text/plain": [
       "array([[-0.02696767, -1.055125  ,  0.18450456,  1.0100505 , -0.25303431,\n",
       "        -0.12650641,  1.0877526 , -0.5941226 , -0.22207644, -1.03459817,\n",
       "        -0.23065004],\n",
       "       [ 1.19883553, -1.14880563, -0.69181243,  1.0100505 , -0.4514148 ,\n",
       "         0.54644972,  1.9062271 , -0.5941226 , -0.22207644, -1.03459817,\n",
       "         2.55666158],\n",
       "       [ 1.19883553,  1.52109247,  0.82182601,  1.0100505 ,  1.23481934,\n",
       "         0.35951747, -1.36767088,  1.78752803, -0.22207644,  0.96655883,\n",
       "        -0.23065004],\n",
       "       [-0.02696767, -0.11831864, -0.69181243, -0.9900495 ,  0.04453642,\n",
       "        -0.41625141, -0.54919639, -1.09029981, -0.22207644,  0.96655883,\n",
       "        -0.92747794],\n",
       "       [-0.02696767, -0.58672182, -0.93080797,  1.0100505 , -0.25303431,\n",
       "        -0.44429125, -1.36767088, -0.89182893, -0.22207644, -1.03459817,\n",
       "         1.16300577]])"
      ]
     },
     "execution_count": 6,
     "metadata": {},
     "output_type": "execute_result"
    }
   ],
   "source": [
    "#Normalize Data --> better for machine ...\n",
    "scaler = preprocessing.StandardScaler().fit(Xdata)\n",
    "Xdata = scaler.transform(Xdata.astype(float))\n",
    "Xdata[0:5]"
   ]
  },
  {
   "cell_type": "code",
   "execution_count": 7,
   "id": "7e86c89c",
   "metadata": {},
   "outputs": [
    {
     "name": "stdout",
     "output_type": "stream",
     "text": [
      "Train set: (800, 11) (800,)\n",
      "Test set: (200, 11) (200,)\n"
     ]
    }
   ],
   "source": [
    "# ***train and test\n",
    "from sklearn.model_selection import train_test_split\n",
    "X_train, X_test, y_train, y_test = train_test_split( Xdata,ydata, test_size=0.2, random_state=4)\n",
    "print ('Train set:', X_train.shape,  y_train.shape)\n",
    "print ('Test set:', X_test.shape,  y_test.shape)"
   ]
  },
  {
   "cell_type": "code",
   "execution_count": 8,
   "id": "ad132126",
   "metadata": {},
   "outputs": [
    {
     "data": {
      "text/plain": [
       "KNeighborsClassifier(n_neighbors=4)"
      ]
     },
     "execution_count": 8,
     "metadata": {},
     "output_type": "execute_result"
    }
   ],
   "source": [
    "#Train part for KNN with specefic k = 4\n",
    "neighbours = KNeighborsClassifier(n_neighbors = 4).fit(X_train,y_train)\n",
    "neighbours"
   ]
  },
  {
   "cell_type": "code",
   "execution_count": 9,
   "id": "bdfc85c7",
   "metadata": {},
   "outputs": [
    {
     "name": "stdout",
     "output_type": "stream",
     "text": [
      "Real: [1 4 3 1 3]\n",
      "Test: [1 1 3 2 4]\n"
     ]
    }
   ],
   "source": [
    "#trian part with specefic k = 4\n",
    "yhat = neighbours.predict(X_test)\n",
    "print('Real:',ydata[0:5]) # real one\n",
    "print('Test:',yhat[0:5]) #test one"
   ]
  },
  {
   "cell_type": "code",
   "execution_count": 11,
   "id": "88f19b83",
   "metadata": {},
   "outputs": [
    {
     "name": "stdout",
     "output_type": "stream",
     "text": [
      "Train set Accuracy:  0.5475\n",
      "Test set Accuracy:  0.32\n"
     ]
    }
   ],
   "source": [
    "# in KNN we need to test the accuracy of specefic K (metrics) \n",
    "print(\"Train set Accuracy: \", metrics.accuracy_score(y_train, neighbours.predict(X_train)))\n",
    "print(\"Test set Accuracy: \", metrics.accuracy_score(y_test, yhat))"
   ]
  },
  {
   "cell_type": "code",
   "execution_count": 29,
   "id": "de9851a1",
   "metadata": {},
   "outputs": [
    {
     "data": {
      "text/plain": [
       "array([0.3  , 0.29 , 0.315, 0.32 , 0.315, 0.31 , 0.335, 0.325, 0.34 ])"
      ]
     },
     "execution_count": 29,
     "metadata": {},
     "output_type": "execute_result"
    }
   ],
   "source": [
    "MAXK = 10 #Its not neccery to be that high like 100000 ...\n",
    "#array list of accuracies\n",
    "mean_acc = np.zeros((MAXK-1))\n",
    "std_acc = np.zeros((MAXK-1))\n",
    "for KNumber in range (1,MAXK):\n",
    "     neighbours = KNeighborsClassifier(n_neighbors = KNumber).fit(X_train,y_train)\n",
    "     yhat=neighbours.predict(X_test)\n",
    "     mean_acc[KNumber-1] = metrics.accuracy_score(y_test, yhat)\n",
    "     std_acc[KNumber-1] = metrics.accuracy_score(y_train, neighbours.predict(X_train))\n",
    "     \n",
    "mean_acc"
   ]
  },
  {
   "cell_type": "code",
   "execution_count": 32,
   "id": "12050b92",
   "metadata": {},
   "outputs": [
    {
     "data": {
      "image/png": "[encoded data removed]",
      "text/plain": [
       "<Figure size 432x288 with 1 Axes>"
      ]
     },
     "metadata": {
      "needs_background": "light"
     },
     "output_type": "display_data"
    }
   ],
   "source": [
    "plt.plot(range(1,MAXK),mean_acc,'g')\n",
    "plt.fill_between(range(1,MAXK),mean_acc - 1 * std_acc,mean_acc + 1 * std_acc, alpha=0.10)\n",
    "plt.fill_between(range(1,MAXK),mean_acc - 3 * std_acc,mean_acc + 3 * std_acc, alpha=0.10,color=\"green\")\n",
    "plt.legend(('Accuracy ', '+/- 1xstd','+/- 3xstd'))\n",
    "plt.ylabel('Accuracy ')\n",
    "plt.xlabel('Number of Neighbors (K)')\n",
    "plt.tight_layout()\n",
    "plt.show()"
   ]
  },
  {
   "cell_type": "code",
   "execution_count": 33,
   "id": "499dfbec",
   "metadata": {},
   "outputs": [
    {
     "name": "stdout",
     "output_type": "stream",
     "text": [
      "The best accuracy was with 0.34 with k= 9\n"
     ]
    }
   ],
   "source": [
    "print( \"The best accuracy was with\", mean_acc.max(), \"with k=\", mean_acc.argmax()+1) "
   ]
  }
 ],
 "metadata": {
  "kernelspec": {
   "display_name": "Python 3 (ipykernel)",
   "language": "python",
   "name": "python3"
  },
  "language_info": {
   "codemirror_mode": {
    "name": "ipython",
    "version": 3
   },
   "file_extension": ".py",
   "mimetype": "text/x-python",
   "name": "python",
   "nbconvert_exporter": "python",
   "pygments_lexer": "ipython3",
   "version": "3.9.7"
  }
 },
 "nbformat": 4,
 "nbformat_minor": 5
}
